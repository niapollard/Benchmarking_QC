{
  "nbformat": 4,
  "nbformat_minor": 0,
  "metadata": {
    "colab": {
      "provenance": [],
      "authorship_tag": "ABX9TyOYL2GXLYTmIqELPJ/qHKoS",
      "include_colab_link": true
    },
    "kernelspec": {
      "name": "python3",
      "display_name": "Python 3"
    },
    "language_info": {
      "name": "python"
    }
  },
  "cells": [
    {
      "cell_type": "markdown",
      "metadata": {
        "id": "view-in-github",
        "colab_type": "text"
      },
      "source": [
        "<a href=\"https://colab.research.google.com/github/niapollard/Benchmarking_QC/blob/main/052024_Al_Varies%20Reps.ipynb\" target=\"_parent\"><img src=\"https://colab.research.google.com/assets/colab-badge.svg\" alt=\"Open In Colab\"/></a>"
      ]
    },
    {
      "cell_type": "code",
      "execution_count": 1,
      "metadata": {
        "id": "ZKHh_v5qSXYW",
        "outputId": "7679d62c-794c-48cd-cb50-76de7144b0ea",
        "colab": {
          "base_uri": "https://localhost:8080/"
        }
      },
      "outputs": [
        {
          "output_type": "stream",
          "name": "stdout",
          "text": [
            "\u001b[2K     \u001b[90m━━━━━━━━━━━━━━━━━━━━━━━━━━━━━━━━━━━━━━━━\u001b[0m \u001b[32m4.2/4.2 MB\u001b[0m \u001b[31m10.5 MB/s\u001b[0m eta \u001b[36m0:00:00\u001b[0m\n",
            "\u001b[?25h  Installing build dependencies ... \u001b[?25l\u001b[?25hdone\n",
            "  Getting requirements to build wheel ... \u001b[?25l\u001b[?25hdone\n",
            "  Installing backend dependencies ... \u001b[?25l\u001b[?25hdone\n",
            "  Preparing metadata (pyproject.toml) ... \u001b[?25l\u001b[?25hdone\n",
            "\u001b[2K     \u001b[90m━━━━━━━━━━━━━━━━━━━━━━━━━━━━━━━━━━━━━━━━\u001b[0m \u001b[32m5.9/5.9 MB\u001b[0m \u001b[31m2.0 MB/s\u001b[0m eta \u001b[36m0:00:00\u001b[0m\n",
            "\u001b[2K     \u001b[90m━━━━━━━━━━━━━━━━━━━━━━━━━━━━━━━━━━━━━━━━\u001b[0m \u001b[32m12.8/12.8 MB\u001b[0m \u001b[31m55.7 MB/s\u001b[0m eta \u001b[36m0:00:00\u001b[0m\n",
            "\u001b[2K     \u001b[90m━━━━━━━━━━━━━━━━━━━━━━━━━━━━━━━━━━━━━━━━\u001b[0m \u001b[32m241.5/241.5 kB\u001b[0m \u001b[31m24.0 MB/s\u001b[0m eta \u001b[36m0:00:00\u001b[0m\n",
            "\u001b[2K     \u001b[90m━━━━━━━━━━━━━━━━━━━━━━━━━━━━━━━━━━━━━━━━\u001b[0m \u001b[32m17.1/17.1 MB\u001b[0m \u001b[31m44.6 MB/s\u001b[0m eta \u001b[36m0:00:00\u001b[0m\n",
            "\u001b[2K     \u001b[90m━━━━━━━━━━━━━━━━━━━━━━━━━━━━━━━━━━━━━━━━\u001b[0m \u001b[32m130.2/130.2 kB\u001b[0m \u001b[31m15.2 MB/s\u001b[0m eta \u001b[36m0:00:00\u001b[0m\n",
            "\u001b[2K     \u001b[90m━━━━━━━━━━━━━━━━━━━━━━━━━━━━━━━━━━━━━━━━\u001b[0m \u001b[32m2.1/2.1 MB\u001b[0m \u001b[31m77.2 MB/s\u001b[0m eta \u001b[36m0:00:00\u001b[0m\n",
            "\u001b[2K     \u001b[90m━━━━━━━━━━━━━━━━━━━━━━━━━━━━━━━━━━━━━━━━\u001b[0m \u001b[32m49.6/49.6 kB\u001b[0m \u001b[31m5.1 MB/s\u001b[0m eta \u001b[36m0:00:00\u001b[0m\n",
            "\u001b[2K     \u001b[90m━━━━━━━━━━━━━━━━━━━━━━━━━━━━━━━━━━━━━━━━\u001b[0m \u001b[32m116.3/116.3 kB\u001b[0m \u001b[31m13.4 MB/s\u001b[0m eta \u001b[36m0:00:00\u001b[0m\n",
            "\u001b[2K     \u001b[90m━━━━━━━━━━━━━━━━━━━━━━━━━━━━━━━━━━━━━━━━\u001b[0m \u001b[32m49.7/49.7 kB\u001b[0m \u001b[31m5.5 MB/s\u001b[0m eta \u001b[36m0:00:00\u001b[0m\n",
            "\u001b[2K     \u001b[90m━━━━━━━━━━━━━━━━━━━━━━━━━━━━━━━━━━━━━━━━\u001b[0m \u001b[32m37.5/37.5 MB\u001b[0m \u001b[31m11.1 MB/s\u001b[0m eta \u001b[36m0:00:00\u001b[0m\n",
            "\u001b[2K     \u001b[90m━━━━━━━━━━━━━━━━━━━━━━━━━━━━━━━━━━━━━━━━\u001b[0m \u001b[32m809.2/809.2 kB\u001b[0m \u001b[31m42.9 MB/s\u001b[0m eta \u001b[36m0:00:00\u001b[0m\n",
            "\u001b[2K     \u001b[90m━━━━━━━━━━━━━━━━━━━━━━━━━━━━━━━━━━━━━━━━\u001b[0m \u001b[32m107.5/107.5 kB\u001b[0m \u001b[31m10.0 MB/s\u001b[0m eta \u001b[36m0:00:00\u001b[0m\n",
            "\u001b[?25h  Building wheel for qiskit (pyproject.toml) ... \u001b[?25l\u001b[?25hdone\n",
            "\u001b[31mERROR: pip's dependency resolver does not currently take into account all the packages that are installed. This behaviour is the source of the following dependency conflicts.\n",
            "chex 0.1.86 requires numpy>=1.24.1, but you have numpy 1.23.5 which is incompatible.\n",
            "pandas-stubs 2.0.3.230814 requires numpy>=1.25.0; python_version >= \"3.9\", but you have numpy 1.23.5 which is incompatible.\u001b[0m\u001b[31m\n",
            "\u001b[0m"
          ]
        }
      ],
      "source": [
        "!pip install -q jarvis-tools qiskit==0.43.1"
      ]
    },
    {
      "cell_type": "code",
      "source": [
        "!pip install qiskit_nature==0.6.2"
      ],
      "metadata": {
        "colab": {
          "base_uri": "https://localhost:8080/"
        },
        "id": "BT1xYSjkSxg-",
        "outputId": "fa553714-2467-409a-91bd-b088839df085"
      },
      "execution_count": 2,
      "outputs": [
        {
          "output_type": "stream",
          "name": "stdout",
          "text": [
            "Collecting qiskit_nature==0.6.2\n",
            "  Downloading qiskit_nature-0.6.2-py3-none-any.whl (4.1 MB)\n",
            "\u001b[2K     \u001b[90m━━━━━━━━━━━━━━━━━━━━━━━━━━━━━━━━━━━━━━━━\u001b[0m \u001b[32m4.1/4.1 MB\u001b[0m \u001b[31m13.8 MB/s\u001b[0m eta \u001b[36m0:00:00\u001b[0m\n",
            "\u001b[?25hRequirement already satisfied: qiskit-terra>=0.24 in /usr/local/lib/python3.10/dist-packages (from qiskit_nature==0.6.2) (0.24.1)\n",
            "Requirement already satisfied: scipy>=1.4 in /usr/local/lib/python3.10/dist-packages (from qiskit_nature==0.6.2) (1.11.4)\n",
            "Requirement already satisfied: numpy>=1.17 in /usr/local/lib/python3.10/dist-packages (from qiskit_nature==0.6.2) (1.23.5)\n",
            "Requirement already satisfied: psutil>=5 in /usr/local/lib/python3.10/dist-packages (from qiskit_nature==0.6.2) (5.9.5)\n",
            "Requirement already satisfied: scikit-learn>=0.20.0 in /usr/local/lib/python3.10/dist-packages (from qiskit_nature==0.6.2) (1.2.2)\n",
            "Requirement already satisfied: setuptools>=40.1.0 in /usr/local/lib/python3.10/dist-packages (from qiskit_nature==0.6.2) (67.7.2)\n",
            "Requirement already satisfied: typing-extensions in /usr/local/lib/python3.10/dist-packages (from qiskit_nature==0.6.2) (4.12.0)\n",
            "Requirement already satisfied: h5py in /usr/local/lib/python3.10/dist-packages (from qiskit_nature==0.6.2) (3.9.0)\n",
            "Requirement already satisfied: rustworkx in /usr/local/lib/python3.10/dist-packages (from qiskit_nature==0.6.2) (0.14.2)\n",
            "Requirement already satisfied: ply>=3.10 in /usr/local/lib/python3.10/dist-packages (from qiskit-terra>=0.24->qiskit_nature==0.6.2) (3.11)\n",
            "Requirement already satisfied: sympy>=1.3 in /usr/local/lib/python3.10/dist-packages (from qiskit-terra>=0.24->qiskit_nature==0.6.2) (1.12.1)\n",
            "Requirement already satisfied: dill>=0.3 in /usr/local/lib/python3.10/dist-packages (from qiskit-terra>=0.24->qiskit_nature==0.6.2) (0.3.8)\n",
            "Requirement already satisfied: python-dateutil>=2.8.0 in /usr/local/lib/python3.10/dist-packages (from qiskit-terra>=0.24->qiskit_nature==0.6.2) (2.8.2)\n",
            "Requirement already satisfied: stevedore>=3.0.0 in /usr/local/lib/python3.10/dist-packages (from qiskit-terra>=0.24->qiskit_nature==0.6.2) (5.2.0)\n",
            "Requirement already satisfied: symengine<0.10,>=0.9 in /usr/local/lib/python3.10/dist-packages (from qiskit-terra>=0.24->qiskit_nature==0.6.2) (0.9.2)\n",
            "Requirement already satisfied: joblib>=1.1.1 in /usr/local/lib/python3.10/dist-packages (from scikit-learn>=0.20.0->qiskit_nature==0.6.2) (1.4.2)\n",
            "Requirement already satisfied: threadpoolctl>=2.0.0 in /usr/local/lib/python3.10/dist-packages (from scikit-learn>=0.20.0->qiskit_nature==0.6.2) (3.5.0)\n",
            "Requirement already satisfied: six>=1.5 in /usr/local/lib/python3.10/dist-packages (from python-dateutil>=2.8.0->qiskit-terra>=0.24->qiskit_nature==0.6.2) (1.16.0)\n",
            "Requirement already satisfied: pbr!=2.1.0,>=2.0.0 in /usr/local/lib/python3.10/dist-packages (from stevedore>=3.0.0->qiskit-terra>=0.24->qiskit_nature==0.6.2) (6.0.0)\n",
            "Requirement already satisfied: mpmath<1.4.0,>=1.1.0 in /usr/local/lib/python3.10/dist-packages (from sympy>=1.3->qiskit-terra>=0.24->qiskit_nature==0.6.2) (1.3.0)\n",
            "Installing collected packages: qiskit_nature\n",
            "Successfully installed qiskit_nature-0.6.2\n"
          ]
        }
      ]
    },
    {
      "cell_type": "code",
      "source": [
        "!pip install pyscf"
      ],
      "metadata": {
        "colab": {
          "base_uri": "https://localhost:8080/"
        },
        "id": "vg34JYqNS79K",
        "outputId": "2e8dc79f-2e32-489b-b8e3-9703fb280de4"
      },
      "execution_count": 3,
      "outputs": [
        {
          "output_type": "stream",
          "name": "stdout",
          "text": [
            "Collecting pyscf\n",
            "  Downloading pyscf-2.6.0-py3-none-manylinux_2_17_x86_64.manylinux2014_x86_64.whl (48.6 MB)\n",
            "\u001b[2K     \u001b[90m━━━━━━━━━━━━━━━━━━━━━━━━━━━━━━━━━━━━━━━━\u001b[0m \u001b[32m48.6/48.6 MB\u001b[0m \u001b[31m10.2 MB/s\u001b[0m eta \u001b[36m0:00:00\u001b[0m\n",
            "\u001b[?25hRequirement already satisfied: numpy!=1.16,!=1.17,>=1.13 in /usr/local/lib/python3.10/dist-packages (from pyscf) (1.23.5)\n",
            "Requirement already satisfied: scipy!=1.5.0,!=1.5.1 in /usr/local/lib/python3.10/dist-packages (from pyscf) (1.11.4)\n",
            "Requirement already satisfied: h5py>=2.7 in /usr/local/lib/python3.10/dist-packages (from pyscf) (3.9.0)\n",
            "Requirement already satisfied: setuptools in /usr/local/lib/python3.10/dist-packages (from pyscf) (67.7.2)\n",
            "Installing collected packages: pyscf\n",
            "Successfully installed pyscf-2.6.0\n"
          ]
        }
      ]
    },
    {
      "cell_type": "code",
      "source": [
        "!pip install qiskit-aer==0.12.0"
      ],
      "metadata": {
        "colab": {
          "base_uri": "https://localhost:8080/"
        },
        "id": "tWaYYfh5S8JA",
        "outputId": "a2634f66-f536-4973-f3c1-dd82dc2a2428"
      },
      "execution_count": 4,
      "outputs": [
        {
          "output_type": "stream",
          "name": "stdout",
          "text": [
            "Requirement already satisfied: qiskit-aer==0.12.0 in /usr/local/lib/python3.10/dist-packages (0.12.0)\n",
            "Requirement already satisfied: qiskit-terra>=0.21.0 in /usr/local/lib/python3.10/dist-packages (from qiskit-aer==0.12.0) (0.24.1)\n",
            "Requirement already satisfied: numpy>=1.16.3 in /usr/local/lib/python3.10/dist-packages (from qiskit-aer==0.12.0) (1.23.5)\n",
            "Requirement already satisfied: scipy>=1.0 in /usr/local/lib/python3.10/dist-packages (from qiskit-aer==0.12.0) (1.11.4)\n",
            "Requirement already satisfied: rustworkx>=0.12.0 in /usr/local/lib/python3.10/dist-packages (from qiskit-terra>=0.21.0->qiskit-aer==0.12.0) (0.14.2)\n",
            "Requirement already satisfied: ply>=3.10 in /usr/local/lib/python3.10/dist-packages (from qiskit-terra>=0.21.0->qiskit-aer==0.12.0) (3.11)\n",
            "Requirement already satisfied: psutil>=5 in /usr/local/lib/python3.10/dist-packages (from qiskit-terra>=0.21.0->qiskit-aer==0.12.0) (5.9.5)\n",
            "Requirement already satisfied: sympy>=1.3 in /usr/local/lib/python3.10/dist-packages (from qiskit-terra>=0.21.0->qiskit-aer==0.12.0) (1.12.1)\n",
            "Requirement already satisfied: dill>=0.3 in /usr/local/lib/python3.10/dist-packages (from qiskit-terra>=0.21.0->qiskit-aer==0.12.0) (0.3.8)\n",
            "Requirement already satisfied: python-dateutil>=2.8.0 in /usr/local/lib/python3.10/dist-packages (from qiskit-terra>=0.21.0->qiskit-aer==0.12.0) (2.8.2)\n",
            "Requirement already satisfied: stevedore>=3.0.0 in /usr/local/lib/python3.10/dist-packages (from qiskit-terra>=0.21.0->qiskit-aer==0.12.0) (5.2.0)\n",
            "Requirement already satisfied: symengine<0.10,>=0.9 in /usr/local/lib/python3.10/dist-packages (from qiskit-terra>=0.21.0->qiskit-aer==0.12.0) (0.9.2)\n",
            "Requirement already satisfied: six>=1.5 in /usr/local/lib/python3.10/dist-packages (from python-dateutil>=2.8.0->qiskit-terra>=0.21.0->qiskit-aer==0.12.0) (1.16.0)\n",
            "Requirement already satisfied: pbr!=2.1.0,>=2.0.0 in /usr/local/lib/python3.10/dist-packages (from stevedore>=3.0.0->qiskit-terra>=0.21.0->qiskit-aer==0.12.0) (6.0.0)\n",
            "Requirement already satisfied: mpmath<1.4.0,>=1.1.0 in /usr/local/lib/python3.10/dist-packages (from sympy>=1.3->qiskit-terra>=0.21.0->qiskit-aer==0.12.0) (1.3.0)\n"
          ]
        }
      ]
    },
    {
      "cell_type": "code",
      "source": [
        "import numpy as np\n",
        "\n",
        "# Importing Qiskit and Jarvis libraries\n",
        "from qiskit import QuantumCircuit, transpile, Aer, IBMQ\n",
        "from qiskit.tools.jupyter import *\n",
        "from qiskit.visualization import *\n",
        "from qiskit import Aer\n",
        "from qiskit_nature.drivers import UnitsType, Molecule\n",
        "from qiskit_nature.drivers.second_quantization import (\n",
        "    ElectronicStructureDriverType,\n",
        "    ElectronicStructureMoleculeDriver,\n",
        ")\n",
        "from qiskit_nature.problems.second_quantization import ElectronicStructureProblem\n",
        "from qiskit_nature.converters.second_quantization import QubitConverter\n",
        "from qiskit_nature.mappers.second_quantization import JordanWignerMapper\n",
        "from qiskit_nature.drivers.second_quantization import PySCFDriver\n",
        "from qiskit_nature.drivers.second_quantization import MethodType\n",
        "from qiskit.algorithms import NumPyMinimumEigensolver\n",
        "from qiskit_nature.transformers.second_quantization.electronic.active_space_transformer import ActiveSpaceTransformer\n",
        "from qiskit_nature.converters.second_quantization import QubitConverter\n",
        "from qiskit_nature.mappers.second_quantization import JordanWignerMapper, ParityMapper\n",
        "from qiskit.utils import QuantumInstance, algorithm_globals\n",
        "from qiskit.algorithms import VQE\n",
        "from qiskit.algorithms.optimizers import SLSQP\n",
        "import itertools, functools\n",
        "from qiskit.opflow import I, X, Y, Z\n",
        "from jarvis.db.figshare import get_wann_electron, get_wann_phonon, get_hk_tb\n",
        "from jarvis.core.circuits import QuantumCircuitLibrary\n",
        "from qiskit_nature.algorithms.ground_state_solvers import GroundStateEigensolver\n",
        "from pyscf import gto, scf, tools"
      ],
      "metadata": {
        "id": "ZJi3yMtVTDCI",
        "outputId": "60f86d2d-2e98-4c65-f83b-635bd315046d",
        "colab": {
          "base_uri": "https://localhost:8080/",
          "height": 105
        }
      },
      "execution_count": 5,
      "outputs": [
        {
          "output_type": "stream",
          "name": "stderr",
          "text": [
            "<ipython-input-5-ccff2813ef8f>:29: NatureDeprecationWarning: The qiskit_nature.algorithms.excited_state_solvers package is deprecated as of version 0.5.0 and will be removed no sooner than 3 months after the release. Instead use the qiskit_nature.second_q.algorithms.excited_state_solvers package.\n",
            "  from qiskit_nature.algorithms.ground_state_solvers import GroundStateEigensolver\n",
            "<ipython-input-5-ccff2813ef8f>:29: NatureDeprecationWarning: The qiskit_nature.algorithms.pes_sampler package is deprecated as of version 0.5.0 and will be removed no sooner than 3 months after the release . Please refer to 'https://github.com/Qiskit/qiskit-nature/issues/750' for additional information regarding 'extrapolators'.\n",
            "  from qiskit_nature.algorithms.ground_state_solvers import GroundStateEigensolver\n"
          ]
        }
      ]
    },
    {
      "cell_type": "code",
      "source": [
        "#Build the molecule\n",
        "molecule = Molecule(\n",
        "    geometry=[['Al',[0.00000000, 0.00000000, 0.00000000]]],\n",
        "    charge=-1,\n",
        "    multiplicity=1)"
      ],
      "metadata": {
        "id": "I7tFEmb0TGZD"
      },
      "execution_count": 6,
      "outputs": []
    },
    {
      "cell_type": "code",
      "source": [
        "def get_qubit_op(\n",
        "    molecule,\n",
        "    basis='sto3g',\n",
        "    functional='lda',\n",
        "    method= MethodType.RKS,\n",
        "    driver_type= ElectronicStructureDriverType.PYSCF,\n",
        "    converter= JordanWignerMapper()):\n",
        "\n",
        "  driver=ElectronicStructureMoleculeDriver(molecule, basis, method,driver_type)\n",
        "  properties = driver.run()\n",
        "  problem = ElectronicStructureProblem(driver)\n",
        "\n",
        "  second_q_ops = problem.second_q_ops()\n",
        "  second_q_ops = list(second_q_ops.values()) #list of second quantized operators\n",
        "  hamiltonian=second_q_ops[0]\n",
        "\n",
        "  numpy_solver = NumPyMinimumEigensolver()\n",
        "  tmp = properties.get_property('ParticleNumber')\n",
        "  alpha_occ=tmp.occupation_alpha\n",
        "  beta_occ=tmp.occupation_beta\n",
        "\n",
        "  mo_considered=3\n",
        "  #active and inactive space has to be even, non-magnetic\n",
        "\n",
        "  first_index = min(np.where(alpha_occ<1)[0][0],np.where(beta_occ<1)[0][0])\n",
        "\n",
        "  orb_act = np.arange(first_index-mo_considered,first_index)+1\n",
        "\n",
        "  transformer= ActiveSpaceTransformer(num_electrons=mo_considered+1, num_molecular_orbitals=len(orb_act), active_orbitals=orb_act)\n",
        "  problem_reduced = ElectronicStructureProblem(driver, [transformer])\n",
        "  second_q_ops_reduced = problem_reduced.second_q_ops()\n",
        "\n",
        "  second_q_ops_reduced = list(second_q_ops_reduced.values())\n",
        "  hamiltonian_reduced = second_q_ops_reduced[0]\n",
        "  mapper = JordanWignerMapper()\n",
        "  converter = QubitConverter(mapper=mapper)\n",
        "  qubit_op = converter.convert(hamiltonian_reduced)\n",
        "\n",
        "  res1={}\n",
        "  res1['qubit_op']=qubit_op\n",
        "  res1['converter']=converter\n",
        "  res1['problem_reduced']=problem_reduced\n",
        "  return res1 #qubit_op, converter, problem_reduced\n",
        "\n",
        "def get_energy(optimizer='',device='',qubit_op='',seed='', reps=1):\n",
        "  seed = 42\n",
        "  counts = []\n",
        "  values = []\n",
        "\n",
        "\n",
        "  def store_intermediate_result(eval_count, parameters, mean, std):\n",
        "    counts.append(eval_count)\n",
        "    values.append(mean)\n",
        "\n",
        "  algorithm_globals.random_seed = seed\n",
        "  print('device',device)\n",
        "  print('seed',seed)\n",
        "\n",
        "  qi = QuantumInstance(device, seed_transpiler=seed, seed_simulator=seed)\n",
        "  n_qubits = qubit_op.num_qubits\n",
        "  ansatz = QuantumCircuitLibrary(n_qubits=n_qubits, reps=reps).circuit6()\n",
        "  vqe = VQE(ansatz, optimizer=optimizer, quantum_instance=qi,callback=store_intermediate_result)\n",
        "  result = vqe.compute_minimum_eigenvalue(operator=qubit_op)\n",
        "\n",
        "\n",
        "  eigenvalue = result.eigenvalue\n",
        "  # return eigenvalue, vqe, qi\n",
        "\n",
        "  res={}\n",
        "  res['eigenvalue']=eigenvalue\n",
        "  res['vqe']=vqe\n",
        "  res['qi']=qi\n",
        "  return res\n",
        "\n",
        "elements=['Al']\n",
        "basis=['sto3g']\n",
        "method=[MethodType.RKS]\n",
        "#driver_type=[]\n",
        "optimizer=[SLSQP(maxiter=1000)]\n",
        "#converter=[JordanWignerMapper()]\n",
        "functionals=['lda']\n",
        "devices=[Aer.get_backend('statevector_simulator')]\n",
        "reps_list = [1, 2, 3, 4]\n",
        "mem={}\n",
        "for i in elements:\n",
        "  for j in basis:\n",
        "    for k in method:\n",
        "      #for l in driver_type:\n",
        "        for m in optimizer:\n",
        "          #for n in converter:\n",
        "            for o in functionals:\n",
        "              for p in devices:\n",
        "                for reps in reps_list:\n",
        "                  print(i,j,k,m,o,p,reps)\n",
        "\n",
        "                  res1=get_qubit_op(molecule=molecule,basis=j,functional=o,method=k)\n",
        "                  res=get_energy(optimizer=m,device=p,qubit_op=res1['qubit_op'],seed=42)\n",
        "                  print(res['eigenvalue'])\n",
        "\n",
        "                  #GroundStateEigensolver\n",
        "                  solver =GroundStateEigensolver(res1['converter'], res['vqe'])\n",
        "                  result=solver.solve(res1['problem_reduced'])\n",
        "                  print(result)\n",
        "\n",
        "                  mem[i,j,k,m,o,p,reps]= {\n",
        "                      'eigenvalue': res['eigenvalue'],\n",
        "                      'vqe': res['vqe'],\n",
        "                      'qi': res['qi'],\n",
        "                      'converter': res1['converter'],\n",
        "                      'problem_reduced': res1['problem_reduced']\n",
        "                     }\n",
        "\n",
        "#print(mem)"
      ],
      "metadata": {
        "colab": {
          "base_uri": "https://localhost:8080/"
        },
        "id": "yO6QUUV2jlPj",
        "outputId": "f3fcc5ab-4398-4b50-9fe8-eeb9231409ca"
      },
      "execution_count": 7,
      "outputs": [
        {
          "output_type": "stream",
          "name": "stdout",
          "text": [
            "Al sto3g MethodType.RKS <qiskit.algorithms.optimizers.slsqp.SLSQP object at 0x7b2d27645ff0> lda statevector_simulator 1\n"
          ]
        },
        {
          "output_type": "stream",
          "name": "stderr",
          "text": [
            "<ipython-input-7-b95b10c12f37>:96: NatureDeprecationWarning: The qiskit_nature.problems.second_quantization.electronic.ElectronicStructureProblem class is deprecated as of version 0.5.0 and will be removed no sooner than 3 months after the release. Instead use the qiskit_nature.second_q.problems.ElectronicStructureProblem class.\n",
            "  res1=get_qubit_op(molecule=molecule,basis=j,functional=o,method=k)\n",
            "<ipython-input-7-b95b10c12f37>:17: DeprecationWarning: The class ``qiskit.algorithms.minimum_eigen_solvers.numpy_minimum_eigen_solver.NumPyMinimumEigensolver`` is deprecated as of qiskit-terra 0.24.0. It will be removed no earlier than 3 months after the release date. Instead, use the class ``qiskit.algorithms.minimum_eigensolvers.NumPyMinimumEigensolver``. See https://qisk.it/algo_migration for a migration guide.\n",
            "  numpy_solver = NumPyMinimumEigensolver()\n"
          ]
        },
        {
          "output_type": "stream",
          "name": "stdout",
          "text": [
            "device statevector_simulator\n",
            "seed 42\n"
          ]
        },
        {
          "output_type": "stream",
          "name": "stderr",
          "text": [
            "<ipython-input-7-b95b10c12f37>:59: DeprecationWarning: The class ``qiskit.utils.quantum_instance.QuantumInstance`` is deprecated as of qiskit-terra 0.24.0. It will be removed no earlier than 3 months after the release date. For code migration guidelines, visit https://qisk.it/qi_migration.\n",
            "  qi = QuantumInstance(device, seed_transpiler=seed, seed_simulator=seed)\n",
            "<ipython-input-7-b95b10c12f37>:62: DeprecationWarning: The class ``qiskit.algorithms.minimum_eigen_solvers.vqe.VQE`` is deprecated as of qiskit-terra 0.24.0. It will be removed no earlier than 3 months after the release date. Instead, use the class ``qiskit.algorithms.minimum_eigensolvers.VQE``. See https://qisk.it/algo_migration for a migration guide.\n",
            "  vqe = VQE(ansatz, optimizer=optimizer, quantum_instance=qi,callback=store_intermediate_result)\n"
          ]
        },
        {
          "output_type": "stream",
          "name": "stdout",
          "text": [
            "(8.5066017987e-08+0j)\n"
          ]
        },
        {
          "output_type": "stream",
          "name": "stderr",
          "text": [
            "<ipython-input-7-b95b10c12f37>:101: NatureDeprecationWarning: The qiskit_nature.algorithms.ground_state_solvers.GroundStateEigensolver class is deprecated as of version 0.5.0 and will be removed no sooner than 3 months after the release. Instead use the qiskit_nature.second_q.algorithms.ground_state_solvers.GroundStateEigensolver class.\n",
            "  solver =GroundStateEigensolver(res1['converter'], res['vqe'])\n"
          ]
        },
        {
          "output_type": "stream",
          "name": "stdout",
          "text": [
            "=== GROUND STATE ENERGY ===\n",
            " \n",
            "* Electronic ground state energy (Hartree): -238.842309564734\n",
            "  - computed part:      -1.677391036244\n",
            "  - ActiveSpaceTransformer extracted energy part: -237.16491852849\n",
            "~ Nuclear repulsion energy (Hartree): 0.0\n",
            "> Total ground state energy (Hartree): -238.842309564734\n",
            " \n",
            "=== MEASURED OBSERVABLES ===\n",
            " \n",
            "  0:  # Particles: 2.977 S: 0.491 S^2: 0.733 M: 0.488\n",
            " \n",
            "=== DIPOLE MOMENTS ===\n",
            " \n",
            "~ Nuclear dipole moment (a.u.): [0.0  0.0  0.0]\n",
            " \n",
            "  0: \n",
            "  * Electronic dipole moment (a.u.): [-0.00043581  -0.00049713  0.00006353]\n",
            "    - computed part:      [-0.00043581  -0.00049713  0.00006353]\n",
            "    - ActiveSpaceTransformer extracted energy part: [0.0  0.0  0.0]\n",
            "  > Dipole moment (a.u.): [0.00043581  0.00049713  -0.00006353]  Total: 0.00066416\n",
            "                 (debye): [0.00110771  0.00126359  -0.00016147]  Total: 0.00168812\n",
            " \n",
            "Al sto3g MethodType.RKS <qiskit.algorithms.optimizers.slsqp.SLSQP object at 0x7b2d27645ff0> lda statevector_simulator 2\n"
          ]
        },
        {
          "output_type": "stream",
          "name": "stderr",
          "text": [
            "<ipython-input-7-b95b10c12f37>:17: DeprecationWarning: The class ``qiskit.algorithms.minimum_eigen_solvers.numpy_minimum_eigen_solver.NumPyMinimumEigensolver`` is deprecated as of qiskit-terra 0.24.0. It will be removed no earlier than 3 months after the release date. Instead, use the class ``qiskit.algorithms.minimum_eigensolvers.NumPyMinimumEigensolver``. See https://qisk.it/algo_migration for a migration guide.\n",
            "  numpy_solver = NumPyMinimumEigensolver()\n"
          ]
        },
        {
          "output_type": "stream",
          "name": "stdout",
          "text": [
            "device statevector_simulator\n",
            "seed 42\n"
          ]
        },
        {
          "output_type": "stream",
          "name": "stderr",
          "text": [
            "<ipython-input-7-b95b10c12f37>:59: DeprecationWarning: The class ``qiskit.utils.quantum_instance.QuantumInstance`` is deprecated as of qiskit-terra 0.24.0. It will be removed no earlier than 3 months after the release date. For code migration guidelines, visit https://qisk.it/qi_migration.\n",
            "  qi = QuantumInstance(device, seed_transpiler=seed, seed_simulator=seed)\n",
            "<ipython-input-7-b95b10c12f37>:62: DeprecationWarning: The class ``qiskit.algorithms.minimum_eigen_solvers.vqe.VQE`` is deprecated as of qiskit-terra 0.24.0. It will be removed no earlier than 3 months after the release date. Instead, use the class ``qiskit.algorithms.minimum_eigensolvers.VQE``. See https://qisk.it/algo_migration for a migration guide.\n",
            "  vqe = VQE(ansatz, optimizer=optimizer, quantum_instance=qi,callback=store_intermediate_result)\n"
          ]
        },
        {
          "output_type": "stream",
          "name": "stdout",
          "text": [
            "(8.5066017987e-08+0j)\n",
            "=== GROUND STATE ENERGY ===\n",
            " \n",
            "* Electronic ground state energy (Hartree): -238.842309565005\n",
            "  - computed part:      -1.677391037017\n",
            "  - ActiveSpaceTransformer extracted energy part: -237.164918527988\n",
            "~ Nuclear repulsion energy (Hartree): 0.0\n",
            "> Total ground state energy (Hartree): -238.842309565005\n",
            " \n",
            "=== MEASURED OBSERVABLES ===\n",
            " \n",
            "  0:  # Particles: 2.977 S: 0.491 S^2: 0.733 M: 0.488\n",
            " \n",
            "=== DIPOLE MOMENTS ===\n",
            " \n",
            "~ Nuclear dipole moment (a.u.): [0.0  0.0  0.0]\n",
            " \n",
            "  0: \n",
            "  * Electronic dipole moment (a.u.): [-0.00019096  0.00049898  -0.00039412]\n",
            "    - computed part:      [-0.00019096  0.00049898  -0.00039412]\n",
            "    - ActiveSpaceTransformer extracted energy part: [0.0  0.0  0.0]\n",
            "  > Dipole moment (a.u.): [0.00019096  -0.00049898  0.00039412]  Total: 0.00066391\n",
            "                 (debye): [0.00048538  -0.00126828  0.00100176]  Total: 0.0016875\n",
            " \n",
            "Al sto3g MethodType.RKS <qiskit.algorithms.optimizers.slsqp.SLSQP object at 0x7b2d27645ff0> lda statevector_simulator 3\n"
          ]
        },
        {
          "output_type": "stream",
          "name": "stderr",
          "text": [
            "<ipython-input-7-b95b10c12f37>:17: DeprecationWarning: The class ``qiskit.algorithms.minimum_eigen_solvers.numpy_minimum_eigen_solver.NumPyMinimumEigensolver`` is deprecated as of qiskit-terra 0.24.0. It will be removed no earlier than 3 months after the release date. Instead, use the class ``qiskit.algorithms.minimum_eigensolvers.NumPyMinimumEigensolver``. See https://qisk.it/algo_migration for a migration guide.\n",
            "  numpy_solver = NumPyMinimumEigensolver()\n"
          ]
        },
        {
          "output_type": "stream",
          "name": "stdout",
          "text": [
            "device statevector_simulator\n",
            "seed 42\n"
          ]
        },
        {
          "output_type": "stream",
          "name": "stderr",
          "text": [
            "<ipython-input-7-b95b10c12f37>:59: DeprecationWarning: The class ``qiskit.utils.quantum_instance.QuantumInstance`` is deprecated as of qiskit-terra 0.24.0. It will be removed no earlier than 3 months after the release date. For code migration guidelines, visit https://qisk.it/qi_migration.\n",
            "  qi = QuantumInstance(device, seed_transpiler=seed, seed_simulator=seed)\n",
            "<ipython-input-7-b95b10c12f37>:62: DeprecationWarning: The class ``qiskit.algorithms.minimum_eigen_solvers.vqe.VQE`` is deprecated as of qiskit-terra 0.24.0. It will be removed no earlier than 3 months after the release date. Instead, use the class ``qiskit.algorithms.minimum_eigensolvers.VQE``. See https://qisk.it/algo_migration for a migration guide.\n",
            "  vqe = VQE(ansatz, optimizer=optimizer, quantum_instance=qi,callback=store_intermediate_result)\n"
          ]
        },
        {
          "output_type": "stream",
          "name": "stdout",
          "text": [
            "(8.5066017987e-08+0j)\n",
            "=== GROUND STATE ENERGY ===\n",
            " \n",
            "* Electronic ground state energy (Hartree): -238.842309565568\n",
            "  - computed part:      -1.677391037856\n",
            "  - ActiveSpaceTransformer extracted energy part: -237.164918527712\n",
            "~ Nuclear repulsion energy (Hartree): 0.0\n",
            "> Total ground state energy (Hartree): -238.842309565568\n",
            " \n",
            "=== MEASURED OBSERVABLES ===\n",
            " \n",
            "  0:  # Particles: 2.977 S: 0.491 S^2: 0.733 M: 0.488\n",
            " \n",
            "=== DIPOLE MOMENTS ===\n",
            " \n",
            "~ Nuclear dipole moment (a.u.): [0.0  0.0  0.0]\n",
            " \n",
            "  0: \n",
            "  * Electronic dipole moment (a.u.): [-0.00019102  0.00049912  -0.00039426]\n",
            "    - computed part:      [-0.00019102  0.00049912  -0.00039426]\n",
            "    - ActiveSpaceTransformer extracted energy part: [0.0  0.0  0.0]\n",
            "  > Dipole moment (a.u.): [0.00019102  -0.00049912  0.00039426]  Total: 0.00066412\n",
            "                 (debye): [0.00048552  -0.00126865  0.00100211]  Total: 0.00168802\n",
            " \n",
            "Al sto3g MethodType.RKS <qiskit.algorithms.optimizers.slsqp.SLSQP object at 0x7b2d27645ff0> lda statevector_simulator 4\n"
          ]
        },
        {
          "output_type": "stream",
          "name": "stderr",
          "text": [
            "<ipython-input-7-b95b10c12f37>:17: DeprecationWarning: The class ``qiskit.algorithms.minimum_eigen_solvers.numpy_minimum_eigen_solver.NumPyMinimumEigensolver`` is deprecated as of qiskit-terra 0.24.0. It will be removed no earlier than 3 months after the release date. Instead, use the class ``qiskit.algorithms.minimum_eigensolvers.NumPyMinimumEigensolver``. See https://qisk.it/algo_migration for a migration guide.\n",
            "  numpy_solver = NumPyMinimumEigensolver()\n"
          ]
        },
        {
          "output_type": "stream",
          "name": "stdout",
          "text": [
            "device statevector_simulator\n",
            "seed 42\n"
          ]
        },
        {
          "output_type": "stream",
          "name": "stderr",
          "text": [
            "<ipython-input-7-b95b10c12f37>:59: DeprecationWarning: The class ``qiskit.utils.quantum_instance.QuantumInstance`` is deprecated as of qiskit-terra 0.24.0. It will be removed no earlier than 3 months after the release date. For code migration guidelines, visit https://qisk.it/qi_migration.\n",
            "  qi = QuantumInstance(device, seed_transpiler=seed, seed_simulator=seed)\n",
            "<ipython-input-7-b95b10c12f37>:62: DeprecationWarning: The class ``qiskit.algorithms.minimum_eigen_solvers.vqe.VQE`` is deprecated as of qiskit-terra 0.24.0. It will be removed no earlier than 3 months after the release date. Instead, use the class ``qiskit.algorithms.minimum_eigensolvers.VQE``. See https://qisk.it/algo_migration for a migration guide.\n",
            "  vqe = VQE(ansatz, optimizer=optimizer, quantum_instance=qi,callback=store_intermediate_result)\n"
          ]
        },
        {
          "output_type": "stream",
          "name": "stdout",
          "text": [
            "(8.5066017987e-08+0j)\n",
            "=== GROUND STATE ENERGY ===\n",
            " \n",
            "* Electronic ground state energy (Hartree): -238.842309564442\n",
            "  - computed part:      -1.677391035543\n",
            "  - ActiveSpaceTransformer extracted energy part: -237.164918528899\n",
            "~ Nuclear repulsion energy (Hartree): 0.0\n",
            "> Total ground state energy (Hartree): -238.842309564442\n",
            " \n",
            "=== MEASURED OBSERVABLES ===\n",
            " \n",
            "  0:  # Particles: 2.977 S: 0.491 S^2: 0.733 M: 0.488\n",
            " \n",
            "=== DIPOLE MOMENTS ===\n",
            " \n",
            "~ Nuclear dipole moment (a.u.): [0.0  0.0  0.0]\n",
            " \n",
            "  0: \n",
            "  * Electronic dipole moment (a.u.): [-0.00043568  -0.00049694  0.00006326]\n",
            "    - computed part:      [-0.00043568  -0.00049694  0.00006326]\n",
            "    - ActiveSpaceTransformer extracted energy part: [0.0  0.0  0.0]\n",
            "  > Dipole moment (a.u.): [0.00043568  0.00049694  -0.00006326]  Total: 0.00066391\n",
            "                 (debye): [0.00110739  0.0012631  -0.0001608]  Total: 0.00168748\n",
            " \n"
          ]
        }
      ]
    }
  ]
}