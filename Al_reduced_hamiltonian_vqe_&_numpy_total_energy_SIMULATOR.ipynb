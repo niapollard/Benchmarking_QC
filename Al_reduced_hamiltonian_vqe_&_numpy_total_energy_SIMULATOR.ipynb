{
  "cells": [
    {
      "cell_type": "markdown",
      "metadata": {
        "id": "view-in-github",
        "colab_type": "text"
      },
      "source": [
        "<a href=\"https://colab.research.google.com/github/niapollard/Benchmarking_QC/blob/main/Al_reduced_hamiltonian_vqe_%26_numpy_total_energy_SIMULATOR.ipynb\" target=\"_parent\"><img src=\"https://colab.research.google.com/assets/colab-badge.svg\" alt=\"Open In Colab\"/></a>"
      ]
    },
    {
      "cell_type": "code",
      "execution_count": 1,
      "metadata": {
        "colab": {
          "base_uri": "https://localhost:8080/"
        },
        "id": "F4xuiL-DchKK",
        "outputId": "e92c9727-ccb8-486e-bb91-b48f8d881da4"
      },
      "outputs": [
        {
          "output_type": "stream",
          "name": "stdout",
          "text": [
            "\u001b[?25l     \u001b[90m━━━━━━━━━━━━━━━━━━━━━━━━━━━━━━━━━━━━━━━━\u001b[0m \u001b[32m0.0/4.2 MB\u001b[0m \u001b[31m?\u001b[0m eta \u001b[36m-:--:--\u001b[0m\r\u001b[2K     \u001b[91m╸\u001b[0m\u001b[90m━━━━━━━━━━━━━━━━━━━━━━━━━━━━━━━━━━━━━━━\u001b[0m \u001b[32m0.1/4.2 MB\u001b[0m \u001b[31m1.9 MB/s\u001b[0m eta \u001b[36m0:00:03\u001b[0m\r\u001b[2K     \u001b[91m━━━━━━━━━━━━━━━━━━\u001b[0m\u001b[91m╸\u001b[0m\u001b[90m━━━━━━━━━━━━━━━━━━━━━\u001b[0m \u001b[32m2.0/4.2 MB\u001b[0m \u001b[31m28.2 MB/s\u001b[0m eta \u001b[36m0:00:01\u001b[0m\r\u001b[2K     \u001b[91m━━━━━━━━━━━━━━━━━━━━━━━━━━━━━━━━━━━━━━━\u001b[0m\u001b[91m╸\u001b[0m \u001b[32m4.2/4.2 MB\u001b[0m \u001b[31m45.0 MB/s\u001b[0m eta \u001b[36m0:00:01\u001b[0m\r\u001b[2K     \u001b[90m━━━━━━━━━━━━━━━━━━━━━━━━━━━━━━━━━━━━━━━━\u001b[0m \u001b[32m4.2/4.2 MB\u001b[0m \u001b[31m31.5 MB/s\u001b[0m eta \u001b[36m0:00:00\u001b[0m\n",
            "\u001b[?25h  Installing build dependencies ... \u001b[?25l\u001b[?25hdone\n",
            "  Getting requirements to build wheel ... \u001b[?25l\u001b[?25hdone\n",
            "  Installing backend dependencies ... \u001b[?25l\u001b[?25hdone\n",
            "  Preparing metadata (pyproject.toml) ... \u001b[?25l\u001b[?25hdone\n",
            "\u001b[2K     \u001b[90m━━━━━━━━━━━━━━━━━━━━━━━━━━━━━━━━━━━━━━━━\u001b[0m \u001b[32m5.9/5.9 MB\u001b[0m \u001b[31m71.6 MB/s\u001b[0m eta \u001b[36m0:00:00\u001b[0m\n",
            "\u001b[2K     \u001b[90m━━━━━━━━━━━━━━━━━━━━━━━━━━━━━━━━━━━━━━━━\u001b[0m \u001b[32m12.8/12.8 MB\u001b[0m \u001b[31m82.0 MB/s\u001b[0m eta \u001b[36m0:00:00\u001b[0m\n",
            "\u001b[2K     \u001b[90m━━━━━━━━━━━━━━━━━━━━━━━━━━━━━━━━━━━━━━━━\u001b[0m \u001b[32m241.5/241.5 kB\u001b[0m \u001b[31m29.2 MB/s\u001b[0m eta \u001b[36m0:00:00\u001b[0m\n",
            "\u001b[2K     \u001b[90m━━━━━━━━━━━━━━━━━━━━━━━━━━━━━━━━━━━━━━━━\u001b[0m \u001b[32m17.1/17.1 MB\u001b[0m \u001b[31m72.3 MB/s\u001b[0m eta \u001b[36m0:00:00\u001b[0m\n",
            "\u001b[2K     \u001b[90m━━━━━━━━━━━━━━━━━━━━━━━━━━━━━━━━━━━━━━━━\u001b[0m \u001b[32m130.2/130.2 kB\u001b[0m \u001b[31m15.2 MB/s\u001b[0m eta \u001b[36m0:00:00\u001b[0m\n",
            "\u001b[2K     \u001b[90m━━━━━━━━━━━━━━━━━━━━━━━━━━━━━━━━━━━━━━━━\u001b[0m \u001b[32m2.1/2.1 MB\u001b[0m \u001b[31m69.7 MB/s\u001b[0m eta \u001b[36m0:00:00\u001b[0m\n",
            "\u001b[2K     \u001b[90m━━━━━━━━━━━━━━━━━━━━━━━━━━━━━━━━━━━━━━━━\u001b[0m \u001b[32m49.6/49.6 kB\u001b[0m \u001b[31m6.7 MB/s\u001b[0m eta \u001b[36m0:00:00\u001b[0m\n",
            "\u001b[2K     \u001b[90m━━━━━━━━━━━━━━━━━━━━━━━━━━━━━━━━━━━━━━━━\u001b[0m \u001b[32m116.3/116.3 kB\u001b[0m \u001b[31m15.8 MB/s\u001b[0m eta \u001b[36m0:00:00\u001b[0m\n",
            "\u001b[2K     \u001b[90m━━━━━━━━━━━━━━━━━━━━━━━━━━━━━━━━━━━━━━━━\u001b[0m \u001b[32m49.7/49.7 kB\u001b[0m \u001b[31m6.3 MB/s\u001b[0m eta \u001b[36m0:00:00\u001b[0m\n",
            "\u001b[2K     \u001b[90m━━━━━━━━━━━━━━━━━━━━━━━━━━━━━━━━━━━━━━━━\u001b[0m \u001b[32m37.5/37.5 MB\u001b[0m \u001b[31m12.3 MB/s\u001b[0m eta \u001b[36m0:00:00\u001b[0m\n",
            "\u001b[2K     \u001b[90m━━━━━━━━━━━━━━━━━━━━━━━━━━━━━━━━━━━━━━━━\u001b[0m \u001b[32m809.2/809.2 kB\u001b[0m \u001b[31m48.6 MB/s\u001b[0m eta \u001b[36m0:00:00\u001b[0m\n",
            "\u001b[2K     \u001b[90m━━━━━━━━━━━━━━━━━━━━━━━━━━━━━━━━━━━━━━━━\u001b[0m \u001b[32m107.5/107.5 kB\u001b[0m \u001b[31m9.6 MB/s\u001b[0m eta \u001b[36m0:00:00\u001b[0m\n",
            "\u001b[?25h  Building wheel for qiskit (pyproject.toml) ... \u001b[?25l\u001b[?25hdone\n",
            "\u001b[31mERROR: pip's dependency resolver does not currently take into account all the packages that are installed. This behaviour is the source of the following dependency conflicts.\n",
            "chex 0.1.86 requires numpy>=1.24.1, but you have numpy 1.23.5 which is incompatible.\n",
            "pandas-stubs 2.0.3.230814 requires numpy>=1.25.0; python_version >= \"3.9\", but you have numpy 1.23.5 which is incompatible.\u001b[0m\u001b[31m\n",
            "\u001b[0m"
          ]
        }
      ],
      "source": [
        "!pip install -q jarvis-tools qiskit==0.43.1"
      ]
    },
    {
      "cell_type": "code",
      "execution_count": 2,
      "metadata": {
        "colab": {
          "base_uri": "https://localhost:8080/"
        },
        "id": "Bfm_po-1c6Dv",
        "outputId": "e3501e4a-d9db-4e1b-c9ae-aee39323db8c"
      },
      "outputs": [
        {
          "output_type": "stream",
          "name": "stdout",
          "text": [
            "Collecting qiskit_nature==0.6.2\n",
            "  Downloading qiskit_nature-0.6.2-py3-none-any.whl (4.1 MB)\n",
            "\u001b[?25l     \u001b[90m━━━━━━━━━━━━━━━━━━━━━━━━━━━━━━━━━━━━━━━━\u001b[0m \u001b[32m0.0/4.1 MB\u001b[0m \u001b[31m?\u001b[0m eta \u001b[36m-:--:--\u001b[0m\r\u001b[2K     \u001b[91m━\u001b[0m\u001b[90m╺\u001b[0m\u001b[90m━━━━━━━━━━━━━━━━━━━━━━━━━━━━━━━━━━━━━━\u001b[0m \u001b[32m0.1/4.1 MB\u001b[0m \u001b[31m4.0 MB/s\u001b[0m eta \u001b[36m0:00:01\u001b[0m\r\u001b[2K     \u001b[91m━━━━━━━━━━━━━━━━━━━━\u001b[0m\u001b[91m╸\u001b[0m\u001b[90m━━━━━━━━━━━━━━━━━━━\u001b[0m \u001b[32m2.2/4.1 MB\u001b[0m \u001b[31m31.4 MB/s\u001b[0m eta \u001b[36m0:00:01\u001b[0m\r\u001b[2K     \u001b[91m━━━━━━━━━━━━━━━━━━━━━━━━━━━━━━━━━━━━━━━\u001b[0m\u001b[91m╸\u001b[0m \u001b[32m4.1/4.1 MB\u001b[0m \u001b[31m49.6 MB/s\u001b[0m eta \u001b[36m0:00:01\u001b[0m\r\u001b[2K     \u001b[90m━━━━━━━━━━━━━━━━━━━━━━━━━━━━━━━━━━━━━━━━\u001b[0m \u001b[32m4.1/4.1 MB\u001b[0m \u001b[31m37.8 MB/s\u001b[0m eta \u001b[36m0:00:00\u001b[0m\n",
            "\u001b[?25hRequirement already satisfied: qiskit-terra>=0.24 in /usr/local/lib/python3.10/dist-packages (from qiskit_nature==0.6.2) (0.24.1)\n",
            "Requirement already satisfied: scipy>=1.4 in /usr/local/lib/python3.10/dist-packages (from qiskit_nature==0.6.2) (1.11.4)\n",
            "Requirement already satisfied: numpy>=1.17 in /usr/local/lib/python3.10/dist-packages (from qiskit_nature==0.6.2) (1.23.5)\n",
            "Requirement already satisfied: psutil>=5 in /usr/local/lib/python3.10/dist-packages (from qiskit_nature==0.6.2) (5.9.5)\n",
            "Requirement already satisfied: scikit-learn>=0.20.0 in /usr/local/lib/python3.10/dist-packages (from qiskit_nature==0.6.2) (1.2.2)\n",
            "Requirement already satisfied: setuptools>=40.1.0 in /usr/local/lib/python3.10/dist-packages (from qiskit_nature==0.6.2) (67.7.2)\n",
            "Requirement already satisfied: typing-extensions in /usr/local/lib/python3.10/dist-packages (from qiskit_nature==0.6.2) (4.11.0)\n",
            "Requirement already satisfied: h5py in /usr/local/lib/python3.10/dist-packages (from qiskit_nature==0.6.2) (3.9.0)\n",
            "Requirement already satisfied: rustworkx in /usr/local/lib/python3.10/dist-packages (from qiskit_nature==0.6.2) (0.14.2)\n",
            "Requirement already satisfied: ply>=3.10 in /usr/local/lib/python3.10/dist-packages (from qiskit-terra>=0.24->qiskit_nature==0.6.2) (3.11)\n",
            "Requirement already satisfied: sympy>=1.3 in /usr/local/lib/python3.10/dist-packages (from qiskit-terra>=0.24->qiskit_nature==0.6.2) (1.12)\n",
            "Requirement already satisfied: dill>=0.3 in /usr/local/lib/python3.10/dist-packages (from qiskit-terra>=0.24->qiskit_nature==0.6.2) (0.3.8)\n",
            "Requirement already satisfied: python-dateutil>=2.8.0 in /usr/local/lib/python3.10/dist-packages (from qiskit-terra>=0.24->qiskit_nature==0.6.2) (2.8.2)\n",
            "Requirement already satisfied: stevedore>=3.0.0 in /usr/local/lib/python3.10/dist-packages (from qiskit-terra>=0.24->qiskit_nature==0.6.2) (5.2.0)\n",
            "Requirement already satisfied: symengine<0.10,>=0.9 in /usr/local/lib/python3.10/dist-packages (from qiskit-terra>=0.24->qiskit_nature==0.6.2) (0.9.2)\n",
            "Requirement already satisfied: joblib>=1.1.1 in /usr/local/lib/python3.10/dist-packages (from scikit-learn>=0.20.0->qiskit_nature==0.6.2) (1.4.2)\n",
            "Requirement already satisfied: threadpoolctl>=2.0.0 in /usr/local/lib/python3.10/dist-packages (from scikit-learn>=0.20.0->qiskit_nature==0.6.2) (3.5.0)\n",
            "Requirement already satisfied: six>=1.5 in /usr/local/lib/python3.10/dist-packages (from python-dateutil>=2.8.0->qiskit-terra>=0.24->qiskit_nature==0.6.2) (1.16.0)\n",
            "Requirement already satisfied: pbr!=2.1.0,>=2.0.0 in /usr/local/lib/python3.10/dist-packages (from stevedore>=3.0.0->qiskit-terra>=0.24->qiskit_nature==0.6.2) (6.0.0)\n",
            "Requirement already satisfied: mpmath>=0.19 in /usr/local/lib/python3.10/dist-packages (from sympy>=1.3->qiskit-terra>=0.24->qiskit_nature==0.6.2) (1.3.0)\n",
            "Installing collected packages: qiskit_nature\n",
            "Successfully installed qiskit_nature-0.6.2\n"
          ]
        }
      ],
      "source": [
        "!pip install qiskit_nature==0.6.2"
      ]
    },
    {
      "cell_type": "code",
      "execution_count": 3,
      "metadata": {
        "colab": {
          "base_uri": "https://localhost:8080/"
        },
        "id": "DKN1J6Sfc9cP",
        "outputId": "07dbf11a-fc73-492c-ef1e-de49d3ece70a"
      },
      "outputs": [
        {
          "output_type": "stream",
          "name": "stdout",
          "text": [
            "Collecting pyscf\n",
            "  Downloading pyscf-2.5.0-py3-none-manylinux_2_17_x86_64.manylinux2014_x86_64.whl (47.3 MB)\n",
            "\u001b[2K     \u001b[90m━━━━━━━━━━━━━━━━━━━━━━━━━━━━━━━━━━━━━━━━\u001b[0m \u001b[32m47.3/47.3 MB\u001b[0m \u001b[31m11.8 MB/s\u001b[0m eta \u001b[36m0:00:00\u001b[0m\n",
            "\u001b[?25hRequirement already satisfied: numpy!=1.16,!=1.17,>=1.13 in /usr/local/lib/python3.10/dist-packages (from pyscf) (1.23.5)\n",
            "Requirement already satisfied: scipy!=1.5.0,!=1.5.1 in /usr/local/lib/python3.10/dist-packages (from pyscf) (1.11.4)\n",
            "Requirement already satisfied: h5py>=2.7 in /usr/local/lib/python3.10/dist-packages (from pyscf) (3.9.0)\n",
            "Requirement already satisfied: setuptools in /usr/local/lib/python3.10/dist-packages (from pyscf) (67.7.2)\n",
            "Installing collected packages: pyscf\n",
            "Successfully installed pyscf-2.5.0\n"
          ]
        }
      ],
      "source": [
        "!pip install pyscf"
      ]
    },
    {
      "cell_type": "code",
      "execution_count": 4,
      "metadata": {
        "colab": {
          "base_uri": "https://localhost:8080/"
        },
        "id": "n0nTiwU5eAqt",
        "outputId": "c6aa43df-4630-4b83-9c1d-6236dd3de186"
      },
      "outputs": [
        {
          "output_type": "stream",
          "name": "stdout",
          "text": [
            "Requirement already satisfied: qiskit-aer==0.12.0 in /usr/local/lib/python3.10/dist-packages (0.12.0)\n",
            "Requirement already satisfied: qiskit-terra>=0.21.0 in /usr/local/lib/python3.10/dist-packages (from qiskit-aer==0.12.0) (0.24.1)\n",
            "Requirement already satisfied: numpy>=1.16.3 in /usr/local/lib/python3.10/dist-packages (from qiskit-aer==0.12.0) (1.23.5)\n",
            "Requirement already satisfied: scipy>=1.0 in /usr/local/lib/python3.10/dist-packages (from qiskit-aer==0.12.0) (1.11.4)\n",
            "Requirement already satisfied: rustworkx>=0.12.0 in /usr/local/lib/python3.10/dist-packages (from qiskit-terra>=0.21.0->qiskit-aer==0.12.0) (0.14.2)\n",
            "Requirement already satisfied: ply>=3.10 in /usr/local/lib/python3.10/dist-packages (from qiskit-terra>=0.21.0->qiskit-aer==0.12.0) (3.11)\n",
            "Requirement already satisfied: psutil>=5 in /usr/local/lib/python3.10/dist-packages (from qiskit-terra>=0.21.0->qiskit-aer==0.12.0) (5.9.5)\n",
            "Requirement already satisfied: sympy>=1.3 in /usr/local/lib/python3.10/dist-packages (from qiskit-terra>=0.21.0->qiskit-aer==0.12.0) (1.12)\n",
            "Requirement already satisfied: dill>=0.3 in /usr/local/lib/python3.10/dist-packages (from qiskit-terra>=0.21.0->qiskit-aer==0.12.0) (0.3.8)\n",
            "Requirement already satisfied: python-dateutil>=2.8.0 in /usr/local/lib/python3.10/dist-packages (from qiskit-terra>=0.21.0->qiskit-aer==0.12.0) (2.8.2)\n",
            "Requirement already satisfied: stevedore>=3.0.0 in /usr/local/lib/python3.10/dist-packages (from qiskit-terra>=0.21.0->qiskit-aer==0.12.0) (5.2.0)\n",
            "Requirement already satisfied: symengine<0.10,>=0.9 in /usr/local/lib/python3.10/dist-packages (from qiskit-terra>=0.21.0->qiskit-aer==0.12.0) (0.9.2)\n",
            "Requirement already satisfied: six>=1.5 in /usr/local/lib/python3.10/dist-packages (from python-dateutil>=2.8.0->qiskit-terra>=0.21.0->qiskit-aer==0.12.0) (1.16.0)\n",
            "Requirement already satisfied: pbr!=2.1.0,>=2.0.0 in /usr/local/lib/python3.10/dist-packages (from stevedore>=3.0.0->qiskit-terra>=0.21.0->qiskit-aer==0.12.0) (6.0.0)\n",
            "Requirement already satisfied: mpmath>=0.19 in /usr/local/lib/python3.10/dist-packages (from sympy>=1.3->qiskit-terra>=0.21.0->qiskit-aer==0.12.0) (1.3.0)\n"
          ]
        }
      ],
      "source": [
        "!pip install qiskit-aer==0.12.0"
      ]
    },
    {
      "cell_type": "code",
      "execution_count": 5,
      "metadata": {
        "id": "vlts5ECVdCtu"
      },
      "outputs": [],
      "source": [
        "import numpy as np\n",
        "\n",
        "# Importing standard Qiskit libraries\n",
        "from qiskit import QuantumCircuit, transpile, Aer, IBMQ\n",
        "from qiskit.tools.jupyter import *\n",
        "from qiskit.visualization import *"
      ]
    },
    {
      "cell_type": "code",
      "execution_count": 6,
      "metadata": {
        "id": "rYXkS1wKdMfO"
      },
      "outputs": [],
      "source": [
        "from qiskit import Aer\n",
        "from qiskit_nature.drivers import UnitsType, Molecule\n",
        "from qiskit_nature.drivers.second_quantization import (\n",
        "    ElectronicStructureDriverType,\n",
        "    ElectronicStructureMoleculeDriver,\n",
        ")\n",
        "from qiskit_nature.problems.second_quantization import ElectronicStructureProblem\n",
        "from qiskit_nature.converters.second_quantization import QubitConverter\n",
        "from qiskit_nature.mappers.second_quantization import JordanWignerMapper\n",
        "from qiskit_nature.drivers.second_quantization import PySCFDriver\n",
        "from qiskit_nature.drivers.second_quantization import MethodType"
      ]
    },
    {
      "cell_type": "code",
      "source": [
        "import time\n",
        "\n",
        "start_time = time.time()"
      ],
      "metadata": {
        "id": "sR74cnxQq4kp"
      },
      "execution_count": 7,
      "outputs": []
    },
    {
      "cell_type": "code",
      "execution_count": 8,
      "metadata": {
        "id": "l1ojdGj0diap"
      },
      "outputs": [],
      "source": [
        "molecule = Molecule(\n",
        "    geometry=[['Al',[0.00000000, 0.00000000, 0.00000000]]],\n",
        "    charge=-1,\n",
        "    multiplicity=1)\n",
        "# multiplicity has to be that active space is even therefore should always be 1 (2s+1)\n",
        "# charge has to be that active space is even therefore species with an odd number of atoms should have a charge of -1\n",
        "MethodType = MethodType.RKS\n",
        "\n",
        "driver = ElectronicStructureMoleculeDriver(\n",
        "    molecule, basis=\"lanl2dz\", method=MethodType, driver_type=ElectronicStructureDriverType.PYSCF\n",
        ")\n",
        "\n",
        "properties = driver.run()\n",
        "problem = ElectronicStructureProblem(driver)\n",
        "qubit_converter = QubitConverter(JordanWignerMapper())"
      ]
    },
    {
      "cell_type": "code",
      "execution_count": 9,
      "metadata": {
        "colab": {
          "base_uri": "https://localhost:8080/"
        },
        "id": "C4YbfsnTPuaQ",
        "outputId": "247f112c-e249-4147-d1a0-0ed4103ce715"
      },
      "outputs": [
        {
          "output_type": "stream",
          "name": "stdout",
          "text": [
            "Fermionic Operator\n",
            "register length=16, number terms=16\n",
            "  (1+0j) * ( +_0 -_0 )\n",
            "+ (1+0j) * ( +_1 -_1 )\n",
            "+ (1+0j) * ( +_2 -_2 )\n",
            "+ (1+0j) * ( +_3 -_3 )\n",
            "+ (1+0j) * ( +_4 -_4 )\n",
            "+ (1+0j) * ( +_5 -_5 )\n",
            "+ (1+0j) * ( +_6 -_6 )\n",
            "+ (1+0j) * ( +_7 -_7 )\n",
            "+ (1+0j) * ( ...\n"
          ]
        }
      ],
      "source": [
        "second_q_ops = problem.second_q_ops()\n",
        "second_q_ops = list(second_q_ops.values()) #list of second quantized operators\n",
        "hamiltonian = second_q_ops[0] #Hamiltonian is the first term\n",
        "print(hamiltonian)"
      ]
    },
    {
      "cell_type": "code",
      "execution_count": 10,
      "metadata": {
        "id": "owdoYo0SRO6A"
      },
      "outputs": [],
      "source": [
        "#lists the full hamiltonian\n",
        "#hamiltonian.to_list()"
      ]
    },
    {
      "cell_type": "code",
      "execution_count": 11,
      "metadata": {
        "colab": {
          "base_uri": "https://localhost:8080/"
        },
        "id": "u1aO1Ot9W7Q0",
        "outputId": "124dde5a-a8d9-4ad3-825b-a7fac799ae7b"
      },
      "outputs": [
        {
          "output_type": "stream",
          "name": "stderr",
          "text": [
            "<ipython-input-11-d9d9d0820b7f>:3: DeprecationWarning: The class ``qiskit.algorithms.minimum_eigen_solvers.numpy_minimum_eigen_solver.NumPyMinimumEigensolver`` is deprecated as of qiskit-terra 0.24.0. It will be removed no earlier than 3 months after the release date. Instead, use the class ``qiskit.algorithms.minimum_eigensolvers.NumPyMinimumEigensolver``. See https://qisk.it/algo_migration for a migration guide.\n",
            "  numpy_solver = NumPyMinimumEigensolver()\n"
          ]
        }
      ],
      "source": [
        "from qiskit.algorithms import NumPyMinimumEigensolver\n",
        "\n",
        "numpy_solver = NumPyMinimumEigensolver()"
      ]
    },
    {
      "cell_type": "code",
      "execution_count": 12,
      "metadata": {
        "id": "VkHSPE0hTk8e"
      },
      "outputs": [],
      "source": [
        "tmp = properties.get_property('ParticleNumber')\n",
        "alpha_occ=tmp.occupation_alpha\n",
        "beta_occ=tmp.occupation_beta"
      ]
    },
    {
      "cell_type": "code",
      "execution_count": 13,
      "metadata": {
        "id": "9uC0mPvuUqAD",
        "colab": {
          "base_uri": "https://localhost:8080/"
        },
        "outputId": "1354c8c5-3029-4fa2-a03d-26085ffa2c03"
      },
      "outputs": [
        {
          "output_type": "execute_result",
          "data": {
            "text/plain": [
              "array([1., 1., 1., 1., 1., 1., 1., 0.])"
            ]
          },
          "metadata": {},
          "execution_count": 13
        }
      ],
      "source": [
        "alpha_occ"
      ]
    },
    {
      "cell_type": "code",
      "execution_count": 14,
      "metadata": {
        "colab": {
          "base_uri": "https://localhost:8080/"
        },
        "id": "MgwUfe8OU2rp",
        "outputId": "dc23746e-89cd-4a66-e191-c3a27716cb12"
      },
      "outputs": [
        {
          "output_type": "execute_result",
          "data": {
            "text/plain": [
              "array([5, 6, 7])"
            ]
          },
          "metadata": {},
          "execution_count": 14
        }
      ],
      "source": [
        "import numpy as np\n",
        "mo_considered=3\n",
        "#active and inactive space has to be even, non-magnetic\n",
        "\n",
        "first_index = min(np.where(alpha_occ<1)[0][0],np.where(beta_occ<1)[0][0])\n",
        "\n",
        "orb_act = np.arange(first_index-mo_considered,first_index)+1\n",
        "orb_act"
      ]
    },
    {
      "cell_type": "code",
      "execution_count": 15,
      "metadata": {
        "colab": {
          "base_uri": "https://localhost:8080/"
        },
        "id": "Uzfa4krpdmks",
        "outputId": "00335373-26f2-433c-e3c8-ac2c9d1ea82c"
      },
      "outputs": [
        {
          "output_type": "stream",
          "name": "stdout",
          "text": [
            "Fermionic Operator\n",
            "register length=6, number terms=6\n",
            "  (1+0j) * ( +_0 -_0 )\n",
            "+ (1+0j) * ( +_1 -_1 )\n",
            "+ (1+0j) * ( +_2 -_2 )\n",
            "+ (1+0j) * ( +_3 -_3 )\n",
            "+ (1+0j) * ( +_4 -_4 )\n",
            "+ (1+0j) * ( +_5 -_5 )\n"
          ]
        }
      ],
      "source": [
        "from qiskit_nature.transformers.second_quantization.electronic.active_space_transformer import ActiveSpaceTransformer\n",
        "\n",
        "#orb_act   = []\n",
        "transformer= ActiveSpaceTransformer(num_electrons=mo_considered+1, num_molecular_orbitals=len(orb_act), active_orbitals=orb_act)\n",
        "problem_reduced = ElectronicStructureProblem(driver, [transformer])\n",
        "second_q_ops_reduced = problem_reduced.second_q_ops()\n",
        "\n",
        "second_q_ops_reduced = list(second_q_ops_reduced.values())\n",
        "hamiltonian_reduced = second_q_ops_reduced[0]\n",
        "print(hamiltonian_reduced)"
      ]
    },
    {
      "cell_type": "code",
      "execution_count": 16,
      "metadata": {
        "colab": {
          "base_uri": "https://localhost:8080/"
        },
        "id": "PMpNvQAcd4Fl",
        "outputId": "ba6ad069-b34c-4267-dc2b-1eba9613da97"
      },
      "outputs": [
        {
          "output_type": "stream",
          "name": "stdout",
          "text": [
            "3.0 * IIIIII\n",
            "- 0.5 * IIIIIZ\n",
            "- 0.5 * IIIIZI\n",
            "- 0.5 * IIIZII\n",
            "- 0.5 * IIZIII\n",
            "- 0.5 * IZIIII\n",
            "- 0.5 * ZIIIII\n"
          ]
        }
      ],
      "source": [
        "from qiskit_nature.converters.second_quantization import QubitConverter\n",
        "from qiskit_nature.mappers.second_quantization import JordanWignerMapper\n",
        "\n",
        "mapper = JordanWignerMapper()\n",
        "converter = QubitConverter(mapper=mapper)\n",
        "qubit_op_jw = converter.convert(hamiltonian_reduced)\n",
        "print(qubit_op_jw) #weighted sum of Pauli terms"
      ]
    },
    {
      "cell_type": "code",
      "execution_count": 17,
      "metadata": {
        "id": "DfCVU69bdRAe"
      },
      "outputs": [],
      "source": [
        "from qiskit.utils import QuantumInstance, algorithm_globals\n",
        "from qiskit.algorithms import VQE\n",
        "from qiskit.algorithms.optimizers import SLSQP\n",
        "import itertools, functools\n",
        "from qiskit.opflow import I, X, Y, Z\n",
        "from jarvis.db.figshare import get_wann_electron, get_wann_phonon, get_hk_tb\n",
        "from jarvis.core.circuits import QuantumCircuitLibrary"
      ]
    },
    {
      "cell_type": "code",
      "execution_count": 18,
      "metadata": {
        "colab": {
          "base_uri": "https://localhost:8080/"
        },
        "id": "F0GPdLMweXIk",
        "outputId": "57c0f2e3-bd86-4686-a83c-71cec204573d"
      },
      "outputs": [
        {
          "output_type": "stream",
          "name": "stderr",
          "text": [
            "<ipython-input-18-7f1824667f0f>:11: DeprecationWarning: The class ``qiskit.utils.quantum_instance.QuantumInstance`` is deprecated as of qiskit-terra 0.24.0. It will be removed no earlier than 3 months after the release date. For code migration guidelines, visit https://qisk.it/qi_migration.\n",
            "  qi = QuantumInstance(Aer.get_backend('statevector_simulator'), seed_transpiler=seed, seed_simulator=seed)\n",
            "<ipython-input-18-7f1824667f0f>:15: DeprecationWarning: The class ``qiskit.algorithms.minimum_eigen_solvers.vqe.VQE`` is deprecated as of qiskit-terra 0.24.0. It will be removed no earlier than 3 months after the release date. Instead, use the class ``qiskit.algorithms.minimum_eigensolvers.VQE``. See https://qisk.it/algo_migration for a migration guide.\n",
            "  vqe = VQE(ansatz, optimizer=slsqp, quantum_instance=qi,callback=store_intermediate_result)\n"
          ]
        },
        {
          "output_type": "stream",
          "name": "stdout",
          "text": [
            "VQE eig. (8.5066017987e-08+0j)\n"
          ]
        }
      ],
      "source": [
        "seed = 42\n",
        "counts = []\n",
        "values = []\n",
        "\n",
        "\n",
        "def store_intermediate_result(eval_count, parameters, mean, std):\n",
        "    counts.append(eval_count)\n",
        "    values.append(mean)\n",
        "\n",
        "algorithm_globals.random_seed = seed\n",
        "qi = QuantumInstance(Aer.get_backend('statevector_simulator'), seed_transpiler=seed, seed_simulator=seed)\n",
        "n_qubits = qubit_op_jw.num_qubits\n",
        "ansatz = QuantumCircuitLibrary(n_qubits=n_qubits, reps=1).circuit6()\n",
        "slsqp = SLSQP(maxiter=1000)\n",
        "vqe = VQE(ansatz, optimizer=slsqp, quantum_instance=qi,callback=store_intermediate_result)\n",
        "\n",
        "result = vqe.compute_minimum_eigenvalue(operator=qubit_op_jw)\n",
        "\n",
        "\n",
        "eigenvalue = result.eigenvalue\n",
        "#print(result)\n",
        "print('VQE eig.', eigenvalue)"
      ]
    },
    {
      "cell_type": "code",
      "execution_count": 19,
      "metadata": {
        "colab": {
          "base_uri": "https://localhost:8080/"
        },
        "id": "uY4IFP7-jW7k",
        "outputId": "3f27379e-1d88-4723-d042-4b91051ec365"
      },
      "outputs": [
        {
          "output_type": "stream",
          "name": "stderr",
          "text": [
            "<ipython-input-19-fb24484ecdc7>:1: NatureDeprecationWarning: The qiskit_nature.algorithms.excited_state_solvers package is deprecated as of version 0.5.0 and will be removed no sooner than 3 months after the release. Instead use the qiskit_nature.second_q.algorithms.excited_state_solvers package.\n",
            "  from qiskit_nature.algorithms.ground_state_solvers import GroundStateEigensolver\n",
            "<ipython-input-19-fb24484ecdc7>:1: NatureDeprecationWarning: The qiskit_nature.algorithms.pes_sampler package is deprecated as of version 0.5.0 and will be removed no sooner than 3 months after the release . Please refer to 'https://github.com/Qiskit/qiskit-nature/issues/750' for additional information regarding 'extrapolators'.\n",
            "  from qiskit_nature.algorithms.ground_state_solvers import GroundStateEigensolver\n",
            "<ipython-input-19-fb24484ecdc7>:3: NatureDeprecationWarning: The qiskit_nature.algorithms.ground_state_solvers.GroundStateEigensolver class is deprecated as of version 0.5.0 and will be removed no sooner than 3 months after the release. Instead use the qiskit_nature.second_q.algorithms.ground_state_solvers.GroundStateEigensolver class.\n",
            "  solver =GroundStateEigensolver(converter, vqe)\n"
          ]
        },
        {
          "output_type": "stream",
          "name": "stdout",
          "text": [
            "=== GROUND STATE ENERGY ===\n",
            " \n",
            "* Electronic ground state energy (Hartree): -42.440577255973\n",
            "  - computed part:      -1.174195669899\n",
            "  - ActiveSpaceTransformer extracted energy part: -41.266381586074\n",
            "~ Nuclear repulsion energy (Hartree): 0.0\n",
            "> Total ground state energy (Hartree): -42.440577255973\n",
            " \n",
            "=== MEASURED OBSERVABLES ===\n",
            " \n",
            "  0:  # Particles: 4.000 S: 0.618 S^2: 1.000 M: 0.000\n",
            " \n",
            "=== DIPOLE MOMENTS ===\n",
            " \n",
            "~ Nuclear dipole moment (a.u.): [0.0  0.0  0.0]\n",
            " \n",
            "  0: \n",
            "  * Electronic dipole moment (a.u.): [0.0  0.0  0.0]\n",
            "    - computed part:      [0.0  0.0  0.0]\n",
            "    - ActiveSpaceTransformer extracted energy part: [0.0  0.0  0.0]\n",
            "  > Dipole moment (a.u.): [0.0  0.0  0.0]  Total: 0.0\n",
            "                 (debye): [0.0  0.0  0.0]  Total: 0.0\n",
            " \n"
          ]
        }
      ],
      "source": [
        "from qiskit_nature.algorithms.ground_state_solvers import GroundStateEigensolver\n",
        "\n",
        "solver =GroundStateEigensolver(converter, vqe)\n",
        "result=solver.solve(problem_reduced)\n",
        "print(result)"
      ]
    },
    {
      "cell_type": "code",
      "execution_count": 20,
      "metadata": {
        "colab": {
          "base_uri": "https://localhost:8080/"
        },
        "id": "VLNT1PuPdfQL",
        "outputId": "d2030d8f-2a10-48c1-f7a5-6500bb0b918c"
      },
      "outputs": [
        {
          "output_type": "stream",
          "name": "stdout",
          "text": [
            "=== GROUND STATE ENERGY ===\n",
            " \n",
            "* Electronic ground state energy (Hartree): -42.454153629561\n",
            "  - computed part:      -1.19046604944\n",
            "  - ActiveSpaceTransformer extracted energy part: -41.263687580121\n",
            "~ Nuclear repulsion energy (Hartree): 0.0\n",
            "> Total ground state energy (Hartree): -42.454153629561\n",
            " \n",
            "=== MEASURED OBSERVABLES ===\n",
            " \n",
            "  0:  # Particles: 4.000 S: 1.000 S^2: 2.000 M: 0.007\n",
            " \n",
            "=== DIPOLE MOMENTS ===\n",
            " \n",
            "~ Nuclear dipole moment (a.u.): [0.0  0.0  0.0]\n",
            " \n",
            "  0: \n",
            "  * Electronic dipole moment (a.u.): [0.0  0.0  0.0]\n",
            "    - computed part:      [0.0  0.0  0.0]\n",
            "    - ActiveSpaceTransformer extracted energy part: [0.0  0.0  0.0]\n",
            "  > Dipole moment (a.u.): [0.0  0.0  0.0]  Total: 0.0\n",
            "                 (debye): [0.0  0.0  0.0]  Total: 0.0\n",
            " \n"
          ]
        }
      ],
      "source": [
        "solver =GroundStateEigensolver(converter, numpy_solver)\n",
        "result=solver.solve(problem_reduced)\n",
        "print(result)"
      ]
    },
    {
      "cell_type": "code",
      "source": [
        "# Record the end time\n",
        "end_time = time.time()\n",
        "\n",
        "# Calculate the duration\n",
        "duration = end_time - start_time\n",
        "\n",
        "# Print the duration\n",
        "print(\"Job took {:.2f} seconds to run.\".format(duration))"
      ],
      "metadata": {
        "colab": {
          "base_uri": "https://localhost:8080/"
        },
        "id": "YA_MgPBkrHQB",
        "outputId": "ab90d334-133e-4430-faa2-fb241d33089a"
      },
      "execution_count": 21,
      "outputs": [
        {
          "output_type": "stream",
          "name": "stdout",
          "text": [
            "Job took 30.93 seconds to run.\n"
          ]
        }
      ]
    }
  ],
  "metadata": {
    "colab": {
      "provenance": [],
      "include_colab_link": true
    },
    "kernelspec": {
      "display_name": "Python 3",
      "name": "python3"
    },
    "language_info": {
      "name": "python"
    }
  },
  "nbformat": 4,
  "nbformat_minor": 0
}