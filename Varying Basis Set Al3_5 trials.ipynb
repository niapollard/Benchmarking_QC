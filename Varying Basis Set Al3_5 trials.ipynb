{
  "cells": [
    {
      "cell_type": "markdown",
      "metadata": {
        "id": "view-in-github",
        "colab_type": "text"
      },
      "source": [
        "<a href=\"https://colab.research.google.com/github/niapollard/Benchmarking_QC/blob/main/Varying%20Basis%20Set%20Al3_5%20trials.ipynb\" target=\"_parent\"><img src=\"https://colab.research.google.com/assets/colab-badge.svg\" alt=\"Open In Colab\"/></a>"
      ]
    },
    {
      "cell_type": "code",
      "execution_count": 1,
      "metadata": {
        "id": "J2DR6LXvr5-c",
        "colab": {
          "base_uri": "https://localhost:8080/"
        },
        "outputId": "730031d6-7c27-418d-a998-82b222ba206b"
      },
      "outputs": [
        {
          "output_type": "stream",
          "name": "stdout",
          "text": [
            "  Installing build dependencies ... \u001b[?25l\u001b[?25hdone\n",
            "  Getting requirements to build wheel ... \u001b[?25l\u001b[?25hdone\n",
            "  Preparing metadata (pyproject.toml) ... \u001b[?25l\u001b[?25hdone\n",
            "\u001b[2K   \u001b[90m━━━━━━━━━━━━━━━━━━━━━━━━━━━━━━━━━━━━━━━━\u001b[0m \u001b[32m12.8/12.8 MB\u001b[0m \u001b[31m60.6 MB/s\u001b[0m eta \u001b[36m0:00:00\u001b[0m\n",
            "\u001b[2K   \u001b[90m━━━━━━━━━━━━━━━━━━━━━━━━━━━━━━━━━━━━━━━━\u001b[0m \u001b[32m241.5/241.5 kB\u001b[0m \u001b[31m14.5 MB/s\u001b[0m eta \u001b[36m0:00:00\u001b[0m\n",
            "\u001b[2K   \u001b[90m━━━━━━━━━━━━━━━━━━━━━━━━━━━━━━━━━━━━━━━━\u001b[0m \u001b[32m5.9/5.9 MB\u001b[0m \u001b[31m48.2 MB/s\u001b[0m eta \u001b[36m0:00:00\u001b[0m\n",
            "\u001b[2K   \u001b[90m━━━━━━━━━━━━━━━━━━━━━━━━━━━━━━━━━━━━━━━━\u001b[0m \u001b[32m4.2/4.2 MB\u001b[0m \u001b[31m38.9 MB/s\u001b[0m eta \u001b[36m0:00:00\u001b[0m\n",
            "\u001b[2K   \u001b[90m━━━━━━━━━━━━━━━━━━━━━━━━━━━━━━━━━━━━━━━━\u001b[0m \u001b[32m17.1/17.1 MB\u001b[0m \u001b[31m40.7 MB/s\u001b[0m eta \u001b[36m0:00:00\u001b[0m\n",
            "\u001b[2K   \u001b[90m━━━━━━━━━━━━━━━━━━━━━━━━━━━━━━━━━━━━━━━━\u001b[0m \u001b[32m1.1/1.1 MB\u001b[0m \u001b[31m23.9 MB/s\u001b[0m eta \u001b[36m0:00:00\u001b[0m\n",
            "\u001b[2K   \u001b[90m━━━━━━━━━━━━━━━━━━━━━━━━━━━━━━━━━━━━━━━━\u001b[0m \u001b[32m116.3/116.3 kB\u001b[0m \u001b[31m7.5 MB/s\u001b[0m eta \u001b[36m0:00:00\u001b[0m\n",
            "\u001b[2K   \u001b[90m━━━━━━━━━━━━━━━━━━━━━━━━━━━━━━━━━━━━━━━━\u001b[0m \u001b[32m49.6/49.6 kB\u001b[0m \u001b[31m2.8 MB/s\u001b[0m eta \u001b[36m0:00:00\u001b[0m\n",
            "\u001b[2K   \u001b[90m━━━━━━━━━━━━━━━━━━━━━━━━━━━━━━━━━━━━━━━━\u001b[0m \u001b[32m2.0/2.0 MB\u001b[0m \u001b[31m40.0 MB/s\u001b[0m eta \u001b[36m0:00:00\u001b[0m\n",
            "\u001b[2K   \u001b[90m━━━━━━━━━━━━━━━━━━━━━━━━━━━━━━━━━━━━━━━━\u001b[0m \u001b[32m49.7/49.7 kB\u001b[0m \u001b[31m2.2 MB/s\u001b[0m eta \u001b[36m0:00:00\u001b[0m\n",
            "\u001b[2K   \u001b[90m━━━━━━━━━━━━━━━━━━━━━━━━━━━━━━━━━━━━━━━━\u001b[0m \u001b[32m37.5/37.5 MB\u001b[0m \u001b[31m13.4 MB/s\u001b[0m eta \u001b[36m0:00:00\u001b[0m\n",
            "\u001b[2K   \u001b[90m━━━━━━━━━━━━━━━━━━━━━━━━━━━━━━━━━━━━━━━━\u001b[0m \u001b[32m130.2/130.2 kB\u001b[0m \u001b[31m7.5 MB/s\u001b[0m eta \u001b[36m0:00:00\u001b[0m\n",
            "\u001b[2K   \u001b[90m━━━━━━━━━━━━━━━━━━━━━━━━━━━━━━━━━━━━━━━━\u001b[0m \u001b[32m107.5/107.5 kB\u001b[0m \u001b[31m7.1 MB/s\u001b[0m eta \u001b[36m0:00:00\u001b[0m\n",
            "\u001b[?25h  Building wheel for qiskit (pyproject.toml) ... \u001b[?25l\u001b[?25hdone\n",
            "\u001b[31mERROR: pip's dependency resolver does not currently take into account all the packages that are installed. This behaviour is the source of the following dependency conflicts.\n",
            "chex 0.1.86 requires numpy>=1.24.1, but you have numpy 1.23.5 which is incompatible.\n",
            "pandas-stubs 2.0.3.230814 requires numpy>=1.25.0; python_version >= \"3.9\", but you have numpy 1.23.5 which is incompatible.\u001b[0m\u001b[31m\n",
            "\u001b[0m"
          ]
        }
      ],
      "source": [
        "!pip install -q jarvis-tools qiskit==0.43.1"
      ]
    },
    {
      "cell_type": "code",
      "execution_count": 2,
      "metadata": {
        "colab": {
          "base_uri": "https://localhost:8080/"
        },
        "id": "msrqzUtIsbmC",
        "outputId": "002adec2-9b3e-4889-8ee0-500911b09ac0"
      },
      "outputs": [
        {
          "output_type": "stream",
          "name": "stdout",
          "text": [
            "Collecting qiskit_nature==0.6.2\n",
            "  Downloading qiskit_nature-0.6.2-py3-none-any.whl.metadata (7.4 kB)\n",
            "Requirement already satisfied: qiskit-terra>=0.24 in /usr/local/lib/python3.10/dist-packages (from qiskit_nature==0.6.2) (0.24.1)\n",
            "Requirement already satisfied: scipy>=1.4 in /usr/local/lib/python3.10/dist-packages (from qiskit_nature==0.6.2) (1.11.4)\n",
            "Requirement already satisfied: numpy>=1.17 in /usr/local/lib/python3.10/dist-packages (from qiskit_nature==0.6.2) (1.23.5)\n",
            "Requirement already satisfied: psutil>=5 in /usr/local/lib/python3.10/dist-packages (from qiskit_nature==0.6.2) (5.9.5)\n",
            "Requirement already satisfied: scikit-learn>=0.20.0 in /usr/local/lib/python3.10/dist-packages (from qiskit_nature==0.6.2) (1.2.2)\n",
            "Requirement already satisfied: setuptools>=40.1.0 in /usr/local/lib/python3.10/dist-packages (from qiskit_nature==0.6.2) (71.0.4)\n",
            "Requirement already satisfied: typing-extensions in /usr/local/lib/python3.10/dist-packages (from qiskit_nature==0.6.2) (4.12.2)\n",
            "Requirement already satisfied: h5py in /usr/local/lib/python3.10/dist-packages (from qiskit_nature==0.6.2) (3.9.0)\n",
            "Requirement already satisfied: rustworkx in /usr/local/lib/python3.10/dist-packages (from qiskit_nature==0.6.2) (0.15.1)\n",
            "Requirement already satisfied: ply>=3.10 in /usr/local/lib/python3.10/dist-packages (from qiskit-terra>=0.24->qiskit_nature==0.6.2) (3.11)\n",
            "Requirement already satisfied: sympy>=1.3 in /usr/local/lib/python3.10/dist-packages (from qiskit-terra>=0.24->qiskit_nature==0.6.2) (1.13.1)\n",
            "Requirement already satisfied: dill>=0.3 in /usr/local/lib/python3.10/dist-packages (from qiskit-terra>=0.24->qiskit_nature==0.6.2) (0.3.8)\n",
            "Requirement already satisfied: python-dateutil>=2.8.0 in /usr/local/lib/python3.10/dist-packages (from qiskit-terra>=0.24->qiskit_nature==0.6.2) (2.8.2)\n",
            "Requirement already satisfied: stevedore>=3.0.0 in /usr/local/lib/python3.10/dist-packages (from qiskit-terra>=0.24->qiskit_nature==0.6.2) (5.2.0)\n",
            "Requirement already satisfied: symengine<0.10,>=0.9 in /usr/local/lib/python3.10/dist-packages (from qiskit-terra>=0.24->qiskit_nature==0.6.2) (0.9.2)\n",
            "Requirement already satisfied: joblib>=1.1.1 in /usr/local/lib/python3.10/dist-packages (from scikit-learn>=0.20.0->qiskit_nature==0.6.2) (1.4.2)\n",
            "Requirement already satisfied: threadpoolctl>=2.0.0 in /usr/local/lib/python3.10/dist-packages (from scikit-learn>=0.20.0->qiskit_nature==0.6.2) (3.5.0)\n",
            "Requirement already satisfied: six>=1.5 in /usr/local/lib/python3.10/dist-packages (from python-dateutil>=2.8.0->qiskit-terra>=0.24->qiskit_nature==0.6.2) (1.16.0)\n",
            "Requirement already satisfied: pbr!=2.1.0,>=2.0.0 in /usr/local/lib/python3.10/dist-packages (from stevedore>=3.0.0->qiskit-terra>=0.24->qiskit_nature==0.6.2) (6.0.0)\n",
            "Requirement already satisfied: mpmath<1.4,>=1.1.0 in /usr/local/lib/python3.10/dist-packages (from sympy>=1.3->qiskit-terra>=0.24->qiskit_nature==0.6.2) (1.3.0)\n",
            "Downloading qiskit_nature-0.6.2-py3-none-any.whl (4.1 MB)\n",
            "\u001b[2K   \u001b[90m━━━━━━━━━━━━━━━━━━━━━━━━━━━━━━━━━━━━━━━━\u001b[0m \u001b[32m4.1/4.1 MB\u001b[0m \u001b[31m23.8 MB/s\u001b[0m eta \u001b[36m0:00:00\u001b[0m\n",
            "\u001b[?25hInstalling collected packages: qiskit_nature\n",
            "Successfully installed qiskit_nature-0.6.2\n"
          ]
        }
      ],
      "source": [
        "!pip install qiskit_nature==0.6.2"
      ]
    },
    {
      "cell_type": "code",
      "execution_count": 3,
      "metadata": {
        "colab": {
          "base_uri": "https://localhost:8080/"
        },
        "id": "3BhIc8-cse-G",
        "outputId": "4f27011d-1e84-4084-bdce-823954987142"
      },
      "outputs": [
        {
          "output_type": "stream",
          "name": "stdout",
          "text": [
            "Collecting pyscf\n",
            "  Downloading pyscf-2.6.2-py3-none-manylinux_2_17_x86_64.manylinux2014_x86_64.whl.metadata (6.3 kB)\n",
            "Requirement already satisfied: numpy!=1.16,!=1.17,>=1.13 in /usr/local/lib/python3.10/dist-packages (from pyscf) (1.23.5)\n",
            "Requirement already satisfied: scipy!=1.5.0,!=1.5.1 in /usr/local/lib/python3.10/dist-packages (from pyscf) (1.11.4)\n",
            "Requirement already satisfied: h5py>=2.7 in /usr/local/lib/python3.10/dist-packages (from pyscf) (3.9.0)\n",
            "Requirement already satisfied: setuptools in /usr/local/lib/python3.10/dist-packages (from pyscf) (71.0.4)\n",
            "Downloading pyscf-2.6.2-py3-none-manylinux_2_17_x86_64.manylinux2014_x86_64.whl (48.6 MB)\n",
            "\u001b[2K   \u001b[90m━━━━━━━━━━━━━━━━━━━━━━━━━━━━━━━━━━━━━━━━\u001b[0m \u001b[32m48.6/48.6 MB\u001b[0m \u001b[31m10.7 MB/s\u001b[0m eta \u001b[36m0:00:00\u001b[0m\n",
            "\u001b[?25hInstalling collected packages: pyscf\n",
            "Successfully installed pyscf-2.6.2\n"
          ]
        }
      ],
      "source": [
        "!pip install pyscf"
      ]
    },
    {
      "cell_type": "code",
      "execution_count": 4,
      "metadata": {
        "colab": {
          "base_uri": "https://localhost:8080/"
        },
        "id": "M2164pFlshSS",
        "outputId": "385a0117-4b07-45a0-bbb5-0c08c3d9e019"
      },
      "outputs": [
        {
          "output_type": "stream",
          "name": "stdout",
          "text": [
            "Requirement already satisfied: qiskit-aer==0.12.0 in /usr/local/lib/python3.10/dist-packages (0.12.0)\n",
            "Requirement already satisfied: qiskit-terra>=0.21.0 in /usr/local/lib/python3.10/dist-packages (from qiskit-aer==0.12.0) (0.24.1)\n",
            "Requirement already satisfied: numpy>=1.16.3 in /usr/local/lib/python3.10/dist-packages (from qiskit-aer==0.12.0) (1.23.5)\n",
            "Requirement already satisfied: scipy>=1.0 in /usr/local/lib/python3.10/dist-packages (from qiskit-aer==0.12.0) (1.11.4)\n",
            "Requirement already satisfied: rustworkx>=0.12.0 in /usr/local/lib/python3.10/dist-packages (from qiskit-terra>=0.21.0->qiskit-aer==0.12.0) (0.15.1)\n",
            "Requirement already satisfied: ply>=3.10 in /usr/local/lib/python3.10/dist-packages (from qiskit-terra>=0.21.0->qiskit-aer==0.12.0) (3.11)\n",
            "Requirement already satisfied: psutil>=5 in /usr/local/lib/python3.10/dist-packages (from qiskit-terra>=0.21.0->qiskit-aer==0.12.0) (5.9.5)\n",
            "Requirement already satisfied: sympy>=1.3 in /usr/local/lib/python3.10/dist-packages (from qiskit-terra>=0.21.0->qiskit-aer==0.12.0) (1.13.1)\n",
            "Requirement already satisfied: dill>=0.3 in /usr/local/lib/python3.10/dist-packages (from qiskit-terra>=0.21.0->qiskit-aer==0.12.0) (0.3.8)\n",
            "Requirement already satisfied: python-dateutil>=2.8.0 in /usr/local/lib/python3.10/dist-packages (from qiskit-terra>=0.21.0->qiskit-aer==0.12.0) (2.8.2)\n",
            "Requirement already satisfied: stevedore>=3.0.0 in /usr/local/lib/python3.10/dist-packages (from qiskit-terra>=0.21.0->qiskit-aer==0.12.0) (5.2.0)\n",
            "Requirement already satisfied: symengine<0.10,>=0.9 in /usr/local/lib/python3.10/dist-packages (from qiskit-terra>=0.21.0->qiskit-aer==0.12.0) (0.9.2)\n",
            "Requirement already satisfied: six>=1.5 in /usr/local/lib/python3.10/dist-packages (from python-dateutil>=2.8.0->qiskit-terra>=0.21.0->qiskit-aer==0.12.0) (1.16.0)\n",
            "Requirement already satisfied: pbr!=2.1.0,>=2.0.0 in /usr/local/lib/python3.10/dist-packages (from stevedore>=3.0.0->qiskit-terra>=0.21.0->qiskit-aer==0.12.0) (6.0.0)\n",
            "Requirement already satisfied: mpmath<1.4,>=1.1.0 in /usr/local/lib/python3.10/dist-packages (from sympy>=1.3->qiskit-terra>=0.21.0->qiskit-aer==0.12.0) (1.3.0)\n"
          ]
        }
      ],
      "source": [
        "!pip install qiskit-aer==0.12.0"
      ]
    },
    {
      "cell_type": "code",
      "execution_count": 5,
      "metadata": {
        "colab": {
          "base_uri": "https://localhost:8080/",
          "height": 105
        },
        "id": "GhkTJUOjslEg",
        "outputId": "f415b41f-cf0e-48e0-95db-cd21981638ce"
      },
      "outputs": [
        {
          "output_type": "stream",
          "name": "stderr",
          "text": [
            "<ipython-input-5-fba5fa152d80>:29: NatureDeprecationWarning: The qiskit_nature.algorithms.excited_state_solvers package is deprecated as of version 0.5.0 and will be removed no sooner than 3 months after the release. Instead use the qiskit_nature.second_q.algorithms.excited_state_solvers package.\n",
            "  from qiskit_nature.algorithms.ground_state_solvers import GroundStateEigensolver\n",
            "<ipython-input-5-fba5fa152d80>:29: NatureDeprecationWarning: The qiskit_nature.algorithms.pes_sampler package is deprecated as of version 0.5.0 and will be removed no sooner than 3 months after the release . Please refer to 'https://github.com/Qiskit/qiskit-nature/issues/750' for additional information regarding 'extrapolators'.\n",
            "  from qiskit_nature.algorithms.ground_state_solvers import GroundStateEigensolver\n"
          ]
        }
      ],
      "source": [
        "import numpy as np\n",
        "\n",
        "# Importing Qiskit and Jarvis libraries\n",
        "from qiskit import QuantumCircuit, transpile, Aer, IBMQ\n",
        "from qiskit.tools.jupyter import *\n",
        "from qiskit.visualization import *\n",
        "from qiskit import Aer\n",
        "from qiskit_nature.drivers import UnitsType, Molecule\n",
        "from qiskit_nature.drivers.second_quantization import (\n",
        "    ElectronicStructureDriverType,\n",
        "    ElectronicStructureMoleculeDriver,\n",
        ")\n",
        "from qiskit_nature.problems.second_quantization import ElectronicStructureProblem\n",
        "from qiskit_nature.converters.second_quantization import QubitConverter\n",
        "from qiskit_nature.mappers.second_quantization import JordanWignerMapper\n",
        "from qiskit_nature.drivers.second_quantization import PySCFDriver\n",
        "from qiskit_nature.drivers.second_quantization import MethodType\n",
        "from qiskit.algorithms import NumPyMinimumEigensolver\n",
        "from qiskit_nature.transformers.second_quantization.electronic.active_space_transformer import ActiveSpaceTransformer\n",
        "from qiskit_nature.converters.second_quantization import QubitConverter\n",
        "from qiskit_nature.mappers.second_quantization import JordanWignerMapper, ParityMapper\n",
        "from qiskit.utils import QuantumInstance, algorithm_globals\n",
        "from qiskit.algorithms import VQE\n",
        "from qiskit.algorithms.optimizers import SLSQP, COBYLA, L_BFGS_B, SPSA\n",
        "import itertools, functools\n",
        "from qiskit.opflow import I, X, Y, Z\n",
        "from jarvis.db.figshare import get_wann_electron, get_wann_phonon, get_hk_tb\n",
        "from jarvis.core.circuits import QuantumCircuitLibrary\n",
        "from qiskit_nature.algorithms.ground_state_solvers import GroundStateEigensolver\n",
        "from pyscf import gto, scf, tools"
      ]
    },
    {
      "cell_type": "code",
      "execution_count": 6,
      "metadata": {
        "id": "UFydAh6ouSaM"
      },
      "outputs": [],
      "source": [
        "#Build the molecule\n",
        "molecule = Molecule(\n",
        "    geometry=[['Al',[-3.12653169, 0.21001977, 0.00000000]],\n",
        "              ['Al',[-0.60201643, 0.29584456, 0.00000000]],\n",
        "              ['Al',[-1.93850704, 2.43904280, 0.00000000]]],\n",
        "    charge=-1,\n",
        "    multiplicity=1)\n",
        "\n",
        "# molecule = Molecule(\n",
        "#     geometry=[['Al',[0,0, 0.00000000]]],\n",
        "#     charge=-1,\n",
        "#     multiplicity=1)"
      ]
    },
    {
      "cell_type": "code",
      "source": [
        "import time\n",
        "\n",
        "start_time = time.time()"
      ],
      "metadata": {
        "id": "ZDxv9z-9EfH2"
      },
      "execution_count": 7,
      "outputs": []
    },
    {
      "cell_type": "code",
      "execution_count": 8,
      "metadata": {
        "colab": {
          "base_uri": "https://localhost:8080/"
        },
        "id": "RiTF3vtHtEh0",
        "outputId": "94bb3dcf-9dee-43ca-c8af-e34cce2330ec"
      },
      "outputs": [
        {
          "output_type": "stream",
          "name": "stdout",
          "text": [
            "Al 631g MethodType.RKS <qiskit.algorithms.optimizers.slsqp.SLSQP object at 0x7e9e570d75b0> <qiskit_nature.mappers.second_quantization.jordan_wigner_mapper.JordanWignerMapper object at 0x7e9e605d8d00> lda statevector_simulator 1\n"
          ]
        },
        {
          "output_type": "stream",
          "name": "stderr",
          "text": [
            "<ipython-input-8-eb8e343ad184>:99: NatureDeprecationWarning: The qiskit_nature.problems.second_quantization.electronic.ElectronicStructureProblem class is deprecated as of version 0.5.0 and will be removed no sooner than 3 months after the release. Instead use the qiskit_nature.second_q.problems.ElectronicStructureProblem class.\n",
            "  res1=get_qubit_op(molecule=molecule,basis=j,mapper=n,functional=o,method=k)\n",
            "<ipython-input-8-eb8e343ad184>:17: DeprecationWarning: The class ``qiskit.algorithms.minimum_eigen_solvers.numpy_minimum_eigen_solver.NumPyMinimumEigensolver`` is deprecated as of qiskit-terra 0.24.0. It will be removed no earlier than 3 months after the release date. Instead, use the class ``qiskit.algorithms.minimum_eigensolvers.NumPyMinimumEigensolver``. See https://qisk.it/algo_migration for a migration guide.\n",
            "  numpy_solver = NumPyMinimumEigensolver()\n"
          ]
        },
        {
          "output_type": "stream",
          "name": "stdout",
          "text": [
            "device statevector_simulator\n",
            "seed 42\n"
          ]
        },
        {
          "output_type": "stream",
          "name": "stderr",
          "text": [
            "<ipython-input-8-eb8e343ad184>:62: DeprecationWarning: The class ``qiskit.utils.quantum_instance.QuantumInstance`` is deprecated as of qiskit-terra 0.24.0. It will be removed no earlier than 3 months after the release date. For code migration guidelines, visit https://qisk.it/qi_migration.\n",
            "  qi = QuantumInstance(device, seed_transpiler=seed, seed_simulator=seed)\n",
            "<ipython-input-8-eb8e343ad184>:65: DeprecationWarning: The class ``qiskit.algorithms.minimum_eigen_solvers.vqe.VQE`` is deprecated as of qiskit-terra 0.24.0. It will be removed no earlier than 3 months after the release date. Instead, use the class ``qiskit.algorithms.minimum_eigensolvers.VQE``. See https://qisk.it/algo_migration for a migration guide.\n",
            "  vqe = VQE(ansatz, optimizer=optimizer, quantum_instance=qi,callback=store_intermediate_result)\n"
          ]
        },
        {
          "output_type": "stream",
          "name": "stdout",
          "text": [
            "(8.5066017987e-08+0j)\n",
            "VQE Energy Result\n"
          ]
        },
        {
          "output_type": "stream",
          "name": "stderr",
          "text": [
            "<ipython-input-8-eb8e343ad184>:105: NatureDeprecationWarning: The qiskit_nature.algorithms.ground_state_solvers.GroundStateEigensolver class is deprecated as of version 0.5.0 and will be removed no sooner than 3 months after the release. Instead use the qiskit_nature.second_q.algorithms.ground_state_solvers.GroundStateEigensolver class.\n",
            "  solver =GroundStateEigensolver(res1['converter'], res['vqe'])\n"
          ]
        },
        {
          "output_type": "stream",
          "name": "stdout",
          "text": [
            "=== GROUND STATE ENERGY ===\n",
            " \n",
            "* Electronic ground state energy (Hartree): -831.82003099983\n",
            "  - computed part:      -1.371347608228\n",
            "  - ActiveSpaceTransformer extracted energy part: -830.448683391601\n",
            "~ Nuclear repulsion energy (Hartree): 106.218168150552\n",
            "> Total ground state energy (Hartree): -725.601862849278\n",
            " \n",
            "=== MEASURED OBSERVABLES ===\n",
            " \n",
            "  0:  # Particles: 4.000 S: 0.511 S^2: 0.771 M: 0.000\n",
            " \n",
            "=== DIPOLE MOMENTS ===\n",
            " \n",
            "~ Nuclear dipole moment (a.u.): [-139.21936841  72.34588319  0.0]\n",
            " \n",
            "  0: \n",
            "  * Electronic dipole moment (a.u.): [-142.7914412  74.14977246  -0.00023482]\n",
            "    - computed part:      [-14.28126109  7.36862776  -0.00023482]\n",
            "    - ActiveSpaceTransformer extracted energy part: [-128.5101801  66.78114469  0.0]\n",
            "  > Dipole moment (a.u.): [3.57207279  -1.80388927  0.00023482]  Total: 4.0017147\n",
            "                 (debye): [9.07930254  -4.58502875  0.00059686]  Total: 10.17134326\n",
            " \n",
            "Numpy Energy Result\n",
            "=== GROUND STATE ENERGY ===\n",
            " \n",
            "* Electronic ground state energy (Hartree): -831.821509811015\n",
            "  - computed part:      -1.372826419414\n",
            "  - ActiveSpaceTransformer extracted energy part: -830.448683391601\n",
            "~ Nuclear repulsion energy (Hartree): 106.218168150552\n",
            "> Total ground state energy (Hartree): -725.603341660463\n",
            " \n",
            "=== MEASURED OBSERVABLES ===\n",
            " \n",
            "  0:  # Particles: 4.000 S: 0.000 S^2: 0.000 M: 0.000\n",
            " \n",
            "=== DIPOLE MOMENTS ===\n",
            " \n",
            "~ Nuclear dipole moment (a.u.): [-139.21936841  72.34588319  0.0]\n",
            " \n",
            "  0: \n",
            "  * Electronic dipole moment (a.u.): [-142.76671451  74.18271849  0.0]\n",
            "    - computed part:      [-14.25653441  7.4015738  0.0]\n",
            "    - ActiveSpaceTransformer extracted energy part: [-128.5101801  66.78114469  0.0]\n",
            "  > Dipole moment (a.u.): [3.5473461  -1.8368353  0.0]  Total: 3.99470003\n",
            "                 (debye): [9.01645359  -4.66876921  0.0]  Total: 10.15351374\n",
            " \n",
            "Al sto3g MethodType.RKS <qiskit.algorithms.optimizers.slsqp.SLSQP object at 0x7e9e570d75b0> <qiskit_nature.mappers.second_quantization.jordan_wigner_mapper.JordanWignerMapper object at 0x7e9e605d8d00> lda statevector_simulator 1\n"
          ]
        },
        {
          "output_type": "stream",
          "name": "stderr",
          "text": [
            "<ipython-input-8-eb8e343ad184>:17: DeprecationWarning: The class ``qiskit.algorithms.minimum_eigen_solvers.numpy_minimum_eigen_solver.NumPyMinimumEigensolver`` is deprecated as of qiskit-terra 0.24.0. It will be removed no earlier than 3 months after the release date. Instead, use the class ``qiskit.algorithms.minimum_eigensolvers.NumPyMinimumEigensolver``. See https://qisk.it/algo_migration for a migration guide.\n",
            "  numpy_solver = NumPyMinimumEigensolver()\n"
          ]
        },
        {
          "output_type": "stream",
          "name": "stdout",
          "text": [
            "device statevector_simulator\n",
            "seed 42\n"
          ]
        },
        {
          "output_type": "stream",
          "name": "stderr",
          "text": [
            "<ipython-input-8-eb8e343ad184>:62: DeprecationWarning: The class ``qiskit.utils.quantum_instance.QuantumInstance`` is deprecated as of qiskit-terra 0.24.0. It will be removed no earlier than 3 months after the release date. For code migration guidelines, visit https://qisk.it/qi_migration.\n",
            "  qi = QuantumInstance(device, seed_transpiler=seed, seed_simulator=seed)\n",
            "<ipython-input-8-eb8e343ad184>:65: DeprecationWarning: The class ``qiskit.algorithms.minimum_eigen_solvers.vqe.VQE`` is deprecated as of qiskit-terra 0.24.0. It will be removed no earlier than 3 months after the release date. Instead, use the class ``qiskit.algorithms.minimum_eigensolvers.VQE``. See https://qisk.it/algo_migration for a migration guide.\n",
            "  vqe = VQE(ansatz, optimizer=optimizer, quantum_instance=qi,callback=store_intermediate_result)\n"
          ]
        },
        {
          "output_type": "stream",
          "name": "stdout",
          "text": [
            "(8.5066017987e-08+0j)\n",
            "VQE Energy Result\n",
            "=== GROUND STATE ENERGY ===\n",
            " \n",
            "* Electronic ground state energy (Hartree): -822.893419520072\n",
            "  - computed part:      -0.731268771236\n",
            "  - ActiveSpaceTransformer extracted energy part: -822.162150748835\n",
            "~ Nuclear repulsion energy (Hartree): 106.218168150552\n",
            "> Total ground state energy (Hartree): -716.67525136952\n",
            " \n",
            "=== MEASURED OBSERVABLES ===\n",
            " \n",
            "  0:  # Particles: 2.000 S: 0.618 S^2: 1.000 M: 0.000\n",
            " \n",
            "=== DIPOLE MOMENTS ===\n",
            " \n",
            "~ Nuclear dipole moment (a.u.): [-139.21936841  72.34588319  0.0]\n",
            " \n",
            "  0: \n",
            "  * Electronic dipole moment (a.u.): [-135.59497101  70.63160551  0.0002646]\n",
            "    - computed part:      [-7.08474263  3.85091175  0.0002646]\n",
            "    - ActiveSpaceTransformer extracted energy part: [-128.51022838  66.78069376  0.0]\n",
            "  > Dipole moment (a.u.): [-3.6243974  1.71427768  -0.0002646]  Total: 4.00936461\n",
            "                 (debye): [-9.21229842  4.35725884  -0.00067256]  Total: 10.19078737\n",
            " \n",
            "Numpy Energy Result\n",
            "=== GROUND STATE ENERGY ===\n",
            " \n",
            "* Electronic ground state energy (Hartree): -822.926897053139\n",
            "  - computed part:      -0.764746304304\n",
            "  - ActiveSpaceTransformer extracted energy part: -822.162150748835\n",
            "~ Nuclear repulsion energy (Hartree): 106.218168150552\n",
            "> Total ground state energy (Hartree): -716.708728902588\n",
            " \n",
            "=== MEASURED OBSERVABLES ===\n",
            " \n",
            "  0:  # Particles: 2.000 S: 1.000 S^2: 2.000 M: -0.114\n",
            " \n",
            "=== DIPOLE MOMENTS ===\n",
            " \n",
            "~ Nuclear dipole moment (a.u.): [-139.21936841  72.34588319  0.0]\n",
            " \n",
            "  0: \n",
            "  * Electronic dipole moment (a.u.): [-135.53589431  70.77412326  0.0]\n",
            "    - computed part:      [-7.02566593  3.9934295  0.0]\n",
            "    - ActiveSpaceTransformer extracted energy part: [-128.51022838  66.78069376  0.0]\n",
            "  > Dipole moment (a.u.): [-3.6834741  1.57175993  0.0]  Total: 4.00479846\n",
            "                 (debye): [-9.36245641  3.99501488  0.0]  Total: 10.1791814\n",
            " \n",
            "Al 321g MethodType.RKS <qiskit.algorithms.optimizers.slsqp.SLSQP object at 0x7e9e570d75b0> <qiskit_nature.mappers.second_quantization.jordan_wigner_mapper.JordanWignerMapper object at 0x7e9e605d8d00> lda statevector_simulator 1\n"
          ]
        },
        {
          "output_type": "stream",
          "name": "stderr",
          "text": [
            "<ipython-input-8-eb8e343ad184>:17: DeprecationWarning: The class ``qiskit.algorithms.minimum_eigen_solvers.numpy_minimum_eigen_solver.NumPyMinimumEigensolver`` is deprecated as of qiskit-terra 0.24.0. It will be removed no earlier than 3 months after the release date. Instead, use the class ``qiskit.algorithms.minimum_eigensolvers.NumPyMinimumEigensolver``. See https://qisk.it/algo_migration for a migration guide.\n",
            "  numpy_solver = NumPyMinimumEigensolver()\n"
          ]
        },
        {
          "output_type": "stream",
          "name": "stdout",
          "text": [
            "device statevector_simulator\n",
            "seed 42\n"
          ]
        },
        {
          "output_type": "stream",
          "name": "stderr",
          "text": [
            "<ipython-input-8-eb8e343ad184>:62: DeprecationWarning: The class ``qiskit.utils.quantum_instance.QuantumInstance`` is deprecated as of qiskit-terra 0.24.0. It will be removed no earlier than 3 months after the release date. For code migration guidelines, visit https://qisk.it/qi_migration.\n",
            "  qi = QuantumInstance(device, seed_transpiler=seed, seed_simulator=seed)\n",
            "<ipython-input-8-eb8e343ad184>:65: DeprecationWarning: The class ``qiskit.algorithms.minimum_eigen_solvers.vqe.VQE`` is deprecated as of qiskit-terra 0.24.0. It will be removed no earlier than 3 months after the release date. Instead, use the class ``qiskit.algorithms.minimum_eigensolvers.VQE``. See https://qisk.it/algo_migration for a migration guide.\n",
            "  vqe = VQE(ansatz, optimizer=optimizer, quantum_instance=qi,callback=store_intermediate_result)\n"
          ]
        },
        {
          "output_type": "stream",
          "name": "stdout",
          "text": [
            "(8.5066017987e-08+0j)\n",
            "VQE Energy Result\n",
            "=== GROUND STATE ENERGY ===\n",
            " \n",
            "* Electronic ground state energy (Hartree): -827.912667839944\n",
            "  - computed part:      -1.378194240326\n",
            "  - ActiveSpaceTransformer extracted energy part: -826.534473599618\n",
            "~ Nuclear repulsion energy (Hartree): 106.218168150552\n",
            "> Total ground state energy (Hartree): -721.694499689392\n",
            " \n",
            "=== MEASURED OBSERVABLES ===\n",
            " \n",
            "  0:  # Particles: 4.000 S: 0.526 S^2: 0.803 M: 0.000\n",
            " \n",
            "=== DIPOLE MOMENTS ===\n",
            " \n",
            "~ Nuclear dipole moment (a.u.): [-139.21936841  72.34588319  0.0]\n",
            " \n",
            "  0: \n",
            "  * Electronic dipole moment (a.u.): [-142.79460851  74.13940826  -0.00014318]\n",
            "    - computed part:      [-14.28472758  7.35837854  -0.00014318]\n",
            "    - ActiveSpaceTransformer extracted energy part: [-128.50988093  66.78102972  0.0]\n",
            "  > Dipole moment (a.u.): [3.5752401  -1.79352507  0.00014318]  Total: 3.99988424\n",
            "                 (debye): [9.08735305  -4.55868558  0.00036392]  Total: 10.1666907\n",
            " \n",
            "Numpy Energy Result\n",
            "=== GROUND STATE ENERGY ===\n",
            " \n",
            "* Electronic ground state energy (Hartree): -827.913682021382\n",
            "  - computed part:      -1.379208421763\n",
            "  - ActiveSpaceTransformer extracted energy part: -826.534473599618\n",
            "~ Nuclear repulsion energy (Hartree): 106.218168150552\n",
            "> Total ground state energy (Hartree): -721.69551387083\n",
            " \n",
            "=== MEASURED OBSERVABLES ===\n",
            " \n",
            "  0:  # Particles: 4.000 S: 0.000 S^2: 0.000 M: 0.000\n",
            " \n",
            "=== DIPOLE MOMENTS ===\n",
            " \n",
            "~ Nuclear dipole moment (a.u.): [-139.21936841  72.34588319  0.0]\n",
            " \n",
            "  0: \n",
            "  * Electronic dipole moment (a.u.): [-142.7689468  74.17757105  0.0]\n",
            "    - computed part:      [-14.25906587  7.39654133  0.0]\n",
            "    - ActiveSpaceTransformer extracted energy part: [-128.50988093  66.78102972  0.0]\n",
            "  > Dipole moment (a.u.): [3.54957839  -1.83168786  0.0]  Total: 3.99431936\n",
            "                 (debye): [9.02212749  -4.65568571  0.0]  Total: 10.15254618\n",
            " \n",
            "Al sto6g MethodType.RKS <qiskit.algorithms.optimizers.slsqp.SLSQP object at 0x7e9e570d75b0> <qiskit_nature.mappers.second_quantization.jordan_wigner_mapper.JordanWignerMapper object at 0x7e9e605d8d00> lda statevector_simulator 1\n"
          ]
        },
        {
          "output_type": "stream",
          "name": "stderr",
          "text": [
            "<ipython-input-8-eb8e343ad184>:17: DeprecationWarning: The class ``qiskit.algorithms.minimum_eigen_solvers.numpy_minimum_eigen_solver.NumPyMinimumEigensolver`` is deprecated as of qiskit-terra 0.24.0. It will be removed no earlier than 3 months after the release date. Instead, use the class ``qiskit.algorithms.minimum_eigensolvers.NumPyMinimumEigensolver``. See https://qisk.it/algo_migration for a migration guide.\n",
            "  numpy_solver = NumPyMinimumEigensolver()\n"
          ]
        },
        {
          "output_type": "stream",
          "name": "stdout",
          "text": [
            "device statevector_simulator\n",
            "seed 42\n"
          ]
        },
        {
          "output_type": "stream",
          "name": "stderr",
          "text": [
            "<ipython-input-8-eb8e343ad184>:62: DeprecationWarning: The class ``qiskit.utils.quantum_instance.QuantumInstance`` is deprecated as of qiskit-terra 0.24.0. It will be removed no earlier than 3 months after the release date. For code migration guidelines, visit https://qisk.it/qi_migration.\n",
            "  qi = QuantumInstance(device, seed_transpiler=seed, seed_simulator=seed)\n",
            "<ipython-input-8-eb8e343ad184>:65: DeprecationWarning: The class ``qiskit.algorithms.minimum_eigen_solvers.vqe.VQE`` is deprecated as of qiskit-terra 0.24.0. It will be removed no earlier than 3 months after the release date. Instead, use the class ``qiskit.algorithms.minimum_eigensolvers.VQE``. See https://qisk.it/algo_migration for a migration guide.\n",
            "  vqe = VQE(ansatz, optimizer=optimizer, quantum_instance=qi,callback=store_intermediate_result)\n"
          ]
        },
        {
          "output_type": "stream",
          "name": "stdout",
          "text": [
            "(8.5066017987e-08+0j)\n",
            "VQE Energy Result\n",
            "=== GROUND STATE ENERGY ===\n",
            " \n",
            "* Electronic ground state energy (Hartree): -828.758905639159\n",
            "  - computed part:      -0.727676985474\n",
            "  - ActiveSpaceTransformer extracted energy part: -828.031228653685\n",
            "~ Nuclear repulsion energy (Hartree): 106.218168150552\n",
            "> Total ground state energy (Hartree): -722.540737488608\n",
            " \n",
            "=== MEASURED OBSERVABLES ===\n",
            " \n",
            "  0:  # Particles: 2.000 S: 0.618 S^2: 1.000 M: 0.000\n",
            " \n",
            "=== DIPOLE MOMENTS ===\n",
            " \n",
            "~ Nuclear dipole moment (a.u.): [-139.21936841  72.34588319  0.0]\n",
            " \n",
            "  0: \n",
            "  * Electronic dipole moment (a.u.): [-135.60019153  70.62072638  0.00017354]\n",
            "    - computed part:      [-7.08994737  3.84002058  0.00017354]\n",
            "    - ActiveSpaceTransformer extracted energy part: [-128.51024416  66.7807058  0.0]\n",
            "  > Dipole moment (a.u.): [-3.61917688  1.72515681  -0.00017354]  Total: 4.00931507\n",
            "                 (debye): [-9.1990292  4.38491082  -0.00044111]  Total: 10.19066147\n",
            " \n",
            "Numpy Energy Result\n",
            "=== GROUND STATE ENERGY ===\n",
            " \n",
            "* Electronic ground state energy (Hartree): -828.793074556762\n",
            "  - computed part:      -0.761845903078\n",
            "  - ActiveSpaceTransformer extracted energy part: -828.031228653685\n",
            "~ Nuclear repulsion energy (Hartree): 106.218168150552\n",
            "> Total ground state energy (Hartree): -722.574906406211\n",
            " \n",
            "=== MEASURED OBSERVABLES ===\n",
            " \n",
            "  0:  # Particles: 2.000 S: 1.000 S^2: 2.000 M: -0.048\n",
            " \n",
            "=== DIPOLE MOMENTS ===\n",
            " \n",
            "~ Nuclear dipole moment (a.u.): [-139.21936841  72.34588319  0.0]\n",
            " \n",
            "  0: \n",
            "  * Electronic dipole moment (a.u.): [-135.54775199  70.75191569  0.0]\n",
            "    - computed part:      [-7.03750783  3.97120989  0.0]\n",
            "    - ActiveSpaceTransformer extracted energy part: [-128.51024416  66.7807058  0.0]\n",
            "  > Dipole moment (a.u.): [-3.67161642  1.5939675  0.0]  Total: 4.00268654\n",
            "                 (debye): [-9.33231719  4.05146088  0.0]  Total: 10.17381342\n",
            " \n",
            "Al 631g MethodType.RKS <qiskit.algorithms.optimizers.slsqp.SLSQP object at 0x7e9e570d75b0> <qiskit_nature.mappers.second_quantization.jordan_wigner_mapper.JordanWignerMapper object at 0x7e9e605d8d00> lda statevector_simulator 1\n"
          ]
        },
        {
          "output_type": "stream",
          "name": "stderr",
          "text": [
            "<ipython-input-8-eb8e343ad184>:17: DeprecationWarning: The class ``qiskit.algorithms.minimum_eigen_solvers.numpy_minimum_eigen_solver.NumPyMinimumEigensolver`` is deprecated as of qiskit-terra 0.24.0. It will be removed no earlier than 3 months after the release date. Instead, use the class ``qiskit.algorithms.minimum_eigensolvers.NumPyMinimumEigensolver``. See https://qisk.it/algo_migration for a migration guide.\n",
            "  numpy_solver = NumPyMinimumEigensolver()\n"
          ]
        },
        {
          "output_type": "stream",
          "name": "stdout",
          "text": [
            "device statevector_simulator\n",
            "seed 42\n"
          ]
        },
        {
          "output_type": "stream",
          "name": "stderr",
          "text": [
            "<ipython-input-8-eb8e343ad184>:62: DeprecationWarning: The class ``qiskit.utils.quantum_instance.QuantumInstance`` is deprecated as of qiskit-terra 0.24.0. It will be removed no earlier than 3 months after the release date. For code migration guidelines, visit https://qisk.it/qi_migration.\n",
            "  qi = QuantumInstance(device, seed_transpiler=seed, seed_simulator=seed)\n",
            "<ipython-input-8-eb8e343ad184>:65: DeprecationWarning: The class ``qiskit.algorithms.minimum_eigen_solvers.vqe.VQE`` is deprecated as of qiskit-terra 0.24.0. It will be removed no earlier than 3 months after the release date. Instead, use the class ``qiskit.algorithms.minimum_eigensolvers.VQE``. See https://qisk.it/algo_migration for a migration guide.\n",
            "  vqe = VQE(ansatz, optimizer=optimizer, quantum_instance=qi,callback=store_intermediate_result)\n"
          ]
        },
        {
          "output_type": "stream",
          "name": "stdout",
          "text": [
            "(8.5066017987e-08+0j)\n",
            "VQE Energy Result\n",
            "=== GROUND STATE ENERGY ===\n",
            " \n",
            "* Electronic ground state energy (Hartree): -831.820030951415\n",
            "  - computed part:      -1.371347559814\n",
            "  - ActiveSpaceTransformer extracted energy part: -830.448683391601\n",
            "~ Nuclear repulsion energy (Hartree): 106.218168150552\n",
            "> Total ground state energy (Hartree): -725.601862800864\n",
            " \n",
            "=== MEASURED OBSERVABLES ===\n",
            " \n",
            "  0:  # Particles: 4.000 S: 0.511 S^2: 0.771 M: 0.000\n",
            " \n",
            "=== DIPOLE MOMENTS ===\n",
            " \n",
            "~ Nuclear dipole moment (a.u.): [-139.21936841  72.34588319  0.0]\n",
            " \n",
            "  0: \n",
            "  * Electronic dipole moment (a.u.): [-142.79164006  74.1497234  -0.00023779]\n",
            "    - computed part:      [-14.28145996  7.36857871  -0.00023779]\n",
            "    - ActiveSpaceTransformer extracted energy part: [-128.5101801  66.78114469  0.0]\n",
            "  > Dipole moment (a.u.): [3.57227165  -1.80384021  0.00023779]  Total: 4.0018701\n",
            "                 (debye): [9.079808  -4.58490406  0.00060441]  Total: 10.17173825\n",
            " \n",
            "Numpy Energy Result\n",
            "=== GROUND STATE ENERGY ===\n",
            " \n",
            "* Electronic ground state energy (Hartree): -831.821509811015\n",
            "  - computed part:      -1.372826419414\n",
            "  - ActiveSpaceTransformer extracted energy part: -830.448683391601\n",
            "~ Nuclear repulsion energy (Hartree): 106.218168150552\n",
            "> Total ground state energy (Hartree): -725.603341660463\n",
            " \n",
            "=== MEASURED OBSERVABLES ===\n",
            " \n",
            "  0:  # Particles: 4.000 S: 0.000 S^2: 0.000 M: 0.000\n",
            " \n",
            "=== DIPOLE MOMENTS ===\n",
            " \n",
            "~ Nuclear dipole moment (a.u.): [-139.21936841  72.34588319  0.0]\n",
            " \n",
            "  0: \n",
            "  * Electronic dipole moment (a.u.): [-142.76671451  74.18271849  0.0]\n",
            "    - computed part:      [-14.25653441  7.4015738  0.0]\n",
            "    - ActiveSpaceTransformer extracted energy part: [-128.5101801  66.78114469  0.0]\n",
            "  > Dipole moment (a.u.): [3.5473461  -1.8368353  0.0]  Total: 3.99470003\n",
            "                 (debye): [9.01645359  -4.66876921  0.0]  Total: 10.15351374\n",
            " \n",
            "Al lanl2dz MethodType.RKS <qiskit.algorithms.optimizers.slsqp.SLSQP object at 0x7e9e570d75b0> <qiskit_nature.mappers.second_quantization.jordan_wigner_mapper.JordanWignerMapper object at 0x7e9e605d8d00> lda statevector_simulator 1\n"
          ]
        },
        {
          "output_type": "stream",
          "name": "stderr",
          "text": [
            "<ipython-input-8-eb8e343ad184>:17: DeprecationWarning: The class ``qiskit.algorithms.minimum_eigen_solvers.numpy_minimum_eigen_solver.NumPyMinimumEigensolver`` is deprecated as of qiskit-terra 0.24.0. It will be removed no earlier than 3 months after the release date. Instead, use the class ``qiskit.algorithms.minimum_eigensolvers.NumPyMinimumEigensolver``. See https://qisk.it/algo_migration for a migration guide.\n",
            "  numpy_solver = NumPyMinimumEigensolver()\n"
          ]
        },
        {
          "output_type": "stream",
          "name": "stdout",
          "text": [
            "device statevector_simulator\n",
            "seed 42\n"
          ]
        },
        {
          "output_type": "stream",
          "name": "stderr",
          "text": [
            "<ipython-input-8-eb8e343ad184>:62: DeprecationWarning: The class ``qiskit.utils.quantum_instance.QuantumInstance`` is deprecated as of qiskit-terra 0.24.0. It will be removed no earlier than 3 months after the release date. For code migration guidelines, visit https://qisk.it/qi_migration.\n",
            "  qi = QuantumInstance(device, seed_transpiler=seed, seed_simulator=seed)\n",
            "<ipython-input-8-eb8e343ad184>:65: DeprecationWarning: The class ``qiskit.algorithms.minimum_eigen_solvers.vqe.VQE`` is deprecated as of qiskit-terra 0.24.0. It will be removed no earlier than 3 months after the release date. Instead, use the class ``qiskit.algorithms.minimum_eigensolvers.VQE``. See https://qisk.it/algo_migration for a migration guide.\n",
            "  vqe = VQE(ansatz, optimizer=optimizer, quantum_instance=qi,callback=store_intermediate_result)\n"
          ]
        },
        {
          "output_type": "stream",
          "name": "stdout",
          "text": [
            "(8.5066017987e-08+0j)\n",
            "VQE Energy Result\n",
            "=== GROUND STATE ENERGY ===\n",
            " \n",
            "* Electronic ground state energy (Hartree): -247.938891926001\n",
            "  - computed part:      -1.240115742037\n",
            "  - ActiveSpaceTransformer extracted energy part: -246.698776183964\n",
            "~ Nuclear repulsion energy (Hartree): 106.218168150552\n",
            "> Total ground state energy (Hartree): -141.72072377545\n",
            " \n",
            "=== MEASURED OBSERVABLES ===\n",
            " \n",
            "  0:  # Particles: 4.000 S: 0.369 S^2: 0.504 M: -0.000\n",
            " \n",
            "=== DIPOLE MOMENTS ===\n",
            " \n",
            "~ Nuclear dipole moment (a.u.): [-139.21936841  72.34588319  0.0]\n",
            " \n",
            "  0: \n",
            "  * Electronic dipole moment (a.u.): [-137.47168758  77.84898293  0.00911928]\n",
            "    - computed part:      [-9.39155037  10.93771565  -0.01861597]\n",
            "    - ActiveSpaceTransformer extracted energy part: [-128.08013722  66.91126727  0.02773525]\n",
            "  > Dipole moment (a.u.): [-1.74768083  -5.50309974  -0.00911928]  Total: 5.77395689\n",
            "                 (debye): [-4.44216115  -13.98748301  -0.0231789]  Total: 14.67593315\n",
            " \n",
            "Numpy Energy Result\n",
            "=== GROUND STATE ENERGY ===\n",
            " \n",
            "* Electronic ground state energy (Hartree): -248.006589089371\n",
            "  - computed part:      -1.302286360282\n",
            "  - ActiveSpaceTransformer extracted energy part: -246.70430272909\n",
            "~ Nuclear repulsion energy (Hartree): 106.218168150552\n",
            "> Total ground state energy (Hartree): -141.78842093882\n",
            " \n",
            "=== MEASURED OBSERVABLES ===\n",
            " \n",
            "  0:  # Particles: 4.000 S: 1.000 S^2: 2.000 M: -0.339\n",
            " \n",
            "=== DIPOLE MOMENTS ===\n",
            " \n",
            "~ Nuclear dipole moment (a.u.): [-139.21936841  72.34588319  0.0]\n",
            " \n",
            "  0: \n",
            "  * Electronic dipole moment (a.u.): [-141.57018556  73.90539024  -0.09545301]\n",
            "    - computed part:      [-13.38796412  7.19343363  -0.08671488]\n",
            "    - ActiveSpaceTransformer extracted energy part: [-128.18222144  66.71195661  -0.00873813]\n",
            "  > Dipole moment (a.u.): [2.35081715  -1.55950705  0.09545301]  Total: 2.82267865\n",
            "                 (debye): [5.97518063  -3.96387116  0.24261732]  Total: 7.17453282\n",
            " \n"
          ]
        }
      ],
      "source": [
        "def get_qubit_op(\n",
        "    molecule,\n",
        "    basis,\n",
        "    functional,\n",
        "    method,\n",
        "    driver_type= ElectronicStructureDriverType.PYSCF,\n",
        "    mapper= JordanWignerMapper()):\n",
        "\n",
        "  driver=ElectronicStructureMoleculeDriver(molecule, basis, method,driver_type)\n",
        "  properties = driver.run()\n",
        "  problem = ElectronicStructureProblem(driver)\n",
        "\n",
        "  second_q_ops = problem.second_q_ops()\n",
        "  second_q_ops = list(second_q_ops.values()) #list of second quantized operators\n",
        "  hamiltonian=second_q_ops[0]\n",
        "\n",
        "  numpy_solver = NumPyMinimumEigensolver()\n",
        "  tmp = properties.get_property('ParticleNumber')\n",
        "  alpha_occ=tmp.occupation_alpha\n",
        "  beta_occ=tmp.occupation_beta\n",
        "\n",
        "  mo_considered=3\n",
        "  #active and inactive space has to be even, non-magnetic\n",
        "\n",
        "  first_index = min(np.where(alpha_occ<1)[0][0],np.where(beta_occ<1)[0][0])\n",
        "\n",
        "  orb_act = np.arange(first_index-mo_considered,first_index)+1\n",
        "\n",
        "  transformer= ActiveSpaceTransformer(num_electrons=mo_considered+1, num_molecular_orbitals=len(orb_act), active_orbitals=orb_act)\n",
        "  problem_reduced = ElectronicStructureProblem(driver, [transformer])\n",
        "  second_q_ops_reduced = problem_reduced.second_q_ops()\n",
        "\n",
        "  second_q_ops_reduced = list(second_q_ops_reduced.values())\n",
        "  hamiltonian_reduced = second_q_ops_reduced[0]\n",
        "\n",
        "  # mapper = JordanWignerMapper()\n",
        "  converter = QubitConverter(mapper=mapper)\n",
        "  qubit_op = converter.convert(hamiltonian_reduced)\n",
        "\n",
        "  res1={}\n",
        "  res1['qubit_op']=qubit_op\n",
        "  res1['converter']=converter\n",
        "  res1['problem_reduced']=problem_reduced\n",
        "  res1['numpy_solver']=numpy_solver\n",
        "  return res1 #qubit_op, converter, problem_reduced\n",
        "\n",
        "def get_energy(optimizer='',device='',qubit_op='',seed='42', reps=1):\n",
        "  #seed = 42\n",
        "  counts = []\n",
        "  values = []\n",
        "\n",
        "\n",
        "  def store_intermediate_result(eval_count, parameters, mean, std):\n",
        "    counts.append(eval_count)\n",
        "    values.append(mean)\n",
        "\n",
        "  algorithm_globals.random_seed = seed\n",
        "  np.random.seed(seed)\n",
        "  print('device',device)\n",
        "  print('seed',seed)\n",
        "\n",
        "  qi = QuantumInstance(device, seed_transpiler=seed, seed_simulator=seed)\n",
        "  n_qubits = qubit_op.num_qubits\n",
        "  ansatz = QuantumCircuitLibrary(n_qubits=n_qubits, reps=reps).circuit6()\n",
        "  vqe = VQE(ansatz, optimizer=optimizer, quantum_instance=qi,callback=store_intermediate_result)\n",
        "  result = vqe.compute_minimum_eigenvalue(operator=qubit_op)\n",
        "\n",
        "\n",
        "  eigenvalue = result.eigenvalue\n",
        "  # return eigenvalue, vqe, qi\n",
        "\n",
        "  res={}\n",
        "  res['eigenvalue']=eigenvalue\n",
        "  res['vqe']=vqe\n",
        "  res['qi']=qi\n",
        "  return res\n",
        "\n",
        "elements=['Al']\n",
        "basis=['631g','sto3g', '321g', 'sto6g', '631g','lanl2dz']\n",
        "method=[MethodType.RKS]\n",
        "#driver_type=[]\n",
        "optimizer=[SLSQP(maxiter=1000)]\n",
        "mapper=[JordanWignerMapper()]\n",
        "functionals=['lda']\n",
        "devices=[Aer.get_backend('statevector_simulator')]\n",
        "reps_list = [1]\n",
        "mem={}\n",
        "for i in elements:\n",
        "  for j in basis:\n",
        "    for k in method:\n",
        "      #for l in driver_type:\n",
        "        for m in optimizer:\n",
        "          for n in mapper:\n",
        "            for o in functionals:\n",
        "              for p in devices:\n",
        "                for reps in reps_list:\n",
        "                  print(i,j,k,m,n,o,p,reps)\n",
        "\n",
        "                  res1=get_qubit_op(molecule=molecule,basis=j,mapper=n,functional=o,method=k)\n",
        "                  res=get_energy(optimizer=m,device=p,qubit_op=res1['qubit_op'],seed=42)\n",
        "                  print(res['eigenvalue'])\n",
        "\n",
        "                  #GroundStateEigensolver\n",
        "                  print(\"VQE Energy Result\")\n",
        "                  solver =GroundStateEigensolver(res1['converter'], res['vqe'])\n",
        "                  result=solver.solve(res1['problem_reduced'])\n",
        "                  print(result)\n",
        "\n",
        "                  #numpy\n",
        "                  print(\"Numpy Energy Result\")\n",
        "                  solver =GroundStateEigensolver(res1['converter'], res1['numpy_solver'])\n",
        "                  result=solver.solve(res1['problem_reduced'])\n",
        "                  print(result)\n",
        "\n",
        "                  mem[i,j,k,m,n,o,p,reps]= {\n",
        "                      'eigenvalue': res['eigenvalue'],\n",
        "                      'vqe': res['vqe'],\n",
        "                      'qi': res['qi'],\n",
        "                      'converter': res1['converter'],\n",
        "                      'problem_reduced': res1['problem_reduced']\n",
        "                     }"
      ]
    },
    {
      "cell_type": "code",
      "source": [
        "# Record the end time\n",
        "end_time = time.time()\n",
        "\n",
        "# Calculate the duration\n",
        "duration = end_time - start_time\n",
        "\n",
        "# Print the duration\n",
        "print(\"Job took {:.2f} seconds to run.\".format(duration))"
      ],
      "metadata": {
        "colab": {
          "base_uri": "https://localhost:8080/"
        },
        "id": "Okn-yDpOEhRl",
        "outputId": "59ba4850-c9dc-4ee9-eb0f-ef5e63ca7453"
      },
      "execution_count": 9,
      "outputs": [
        {
          "output_type": "stream",
          "name": "stdout",
          "text": [
            "Job took 368.71 seconds to run.\n"
          ]
        }
      ]
    },
    {
      "cell_type": "code",
      "source": [
        "start_time = time.time()"
      ],
      "metadata": {
        "id": "11VbaYozEhJW"
      },
      "execution_count": 10,
      "outputs": []
    },
    {
      "cell_type": "code",
      "source": [
        "def get_qubit_op(\n",
        "    molecule,\n",
        "    basis,\n",
        "    functional,\n",
        "    method,\n",
        "    driver_type= ElectronicStructureDriverType.PYSCF,\n",
        "    mapper= JordanWignerMapper()):\n",
        "\n",
        "  driver=ElectronicStructureMoleculeDriver(molecule, basis, method,driver_type)\n",
        "  properties = driver.run()\n",
        "  problem = ElectronicStructureProblem(driver)\n",
        "\n",
        "  second_q_ops = problem.second_q_ops()\n",
        "  second_q_ops = list(second_q_ops.values()) #list of second quantized operators\n",
        "  hamiltonian=second_q_ops[0]\n",
        "\n",
        "  numpy_solver = NumPyMinimumEigensolver()\n",
        "  tmp = properties.get_property('ParticleNumber')\n",
        "  alpha_occ=tmp.occupation_alpha\n",
        "  beta_occ=tmp.occupation_beta\n",
        "\n",
        "  mo_considered=3\n",
        "  #active and inactive space has to be even, non-magnetic\n",
        "\n",
        "  first_index = min(np.where(alpha_occ<1)[0][0],np.where(beta_occ<1)[0][0])\n",
        "\n",
        "  orb_act = np.arange(first_index-mo_considered,first_index)+1\n",
        "\n",
        "  transformer= ActiveSpaceTransformer(num_electrons=mo_considered+1, num_molecular_orbitals=len(orb_act), active_orbitals=orb_act)\n",
        "  problem_reduced = ElectronicStructureProblem(driver, [transformer])\n",
        "  second_q_ops_reduced = problem_reduced.second_q_ops()\n",
        "\n",
        "  second_q_ops_reduced = list(second_q_ops_reduced.values())\n",
        "  hamiltonian_reduced = second_q_ops_reduced[0]\n",
        "\n",
        "  # mapper = JordanWignerMapper()\n",
        "  converter = QubitConverter(mapper=mapper)\n",
        "  qubit_op = converter.convert(hamiltonian_reduced)\n",
        "\n",
        "  res1={}\n",
        "  res1['qubit_op']=qubit_op\n",
        "  res1['converter']=converter\n",
        "  res1['problem_reduced']=problem_reduced\n",
        "  res1['numpy_solver']=numpy_solver\n",
        "  return res1 #qubit_op, converter, problem_reduced\n",
        "\n",
        "def get_energy(optimizer='',device='',qubit_op='',seed='42', reps=1):\n",
        "  #seed = 42\n",
        "  counts = []\n",
        "  values = []\n",
        "\n",
        "\n",
        "  def store_intermediate_result(eval_count, parameters, mean, std):\n",
        "    counts.append(eval_count)\n",
        "    values.append(mean)\n",
        "\n",
        "  algorithm_globals.random_seed = seed\n",
        "  np.random.seed(seed)\n",
        "  print('device',device)\n",
        "  print('seed',seed)\n",
        "\n",
        "  qi = QuantumInstance(device, seed_transpiler=seed, seed_simulator=seed)\n",
        "  n_qubits = qubit_op.num_qubits\n",
        "  ansatz = QuantumCircuitLibrary(n_qubits=n_qubits, reps=reps).circuit6()\n",
        "  vqe = VQE(ansatz, optimizer=optimizer, quantum_instance=qi,callback=store_intermediate_result)\n",
        "  result = vqe.compute_minimum_eigenvalue(operator=qubit_op)\n",
        "\n",
        "\n",
        "  eigenvalue = result.eigenvalue\n",
        "  # return eigenvalue, vqe, qi\n",
        "\n",
        "  res={}\n",
        "  res['eigenvalue']=eigenvalue\n",
        "  res['vqe']=vqe\n",
        "  res['qi']=qi\n",
        "  return res\n",
        "\n",
        "elements=['Al']\n",
        "basis=['631g','sto3g', '321g', 'sto6g', '631g','lanl2dz']\n",
        "method=[MethodType.RKS]\n",
        "#driver_type=[]\n",
        "optimizer=[SLSQP(maxiter=1000)]\n",
        "mapper=[JordanWignerMapper()]\n",
        "functionals=['lda']\n",
        "devices=[Aer.get_backend('statevector_simulator')]\n",
        "reps_list = [1]\n",
        "mem={}\n",
        "for i in elements:\n",
        "  for j in basis:\n",
        "    for k in method:\n",
        "      #for l in driver_type:\n",
        "        for m in optimizer:\n",
        "          for n in mapper:\n",
        "            for o in functionals:\n",
        "              for p in devices:\n",
        "                for reps in reps_list:\n",
        "                  print(i,j,k,m,n,o,p,reps)\n",
        "\n",
        "                  res1=get_qubit_op(molecule=molecule,basis=j,mapper=n,functional=o,method=k)\n",
        "                  res=get_energy(optimizer=m,device=p,qubit_op=res1['qubit_op'],seed=42)\n",
        "                  print(res['eigenvalue'])\n",
        "\n",
        "                  #GroundStateEigensolver\n",
        "                  print(\"VQE Energy Result\")\n",
        "                  solver =GroundStateEigensolver(res1['converter'], res['vqe'])\n",
        "                  result=solver.solve(res1['problem_reduced'])\n",
        "                  print(result)\n",
        "\n",
        "                  #numpy\n",
        "                  print(\"Numpy Energy Result\")\n",
        "                  solver =GroundStateEigensolver(res1['converter'], res1['numpy_solver'])\n",
        "                  result=solver.solve(res1['problem_reduced'])\n",
        "                  print(result)\n",
        "\n",
        "                  mem[i,j,k,m,n,o,p,reps]= {\n",
        "                      'eigenvalue': res['eigenvalue'],\n",
        "                      'vqe': res['vqe'],\n",
        "                      'qi': res['qi'],\n",
        "                      'converter': res1['converter'],\n",
        "                      'problem_reduced': res1['problem_reduced']\n",
        "                     }"
      ],
      "metadata": {
        "colab": {
          "base_uri": "https://localhost:8080/"
        },
        "id": "rL0ApGeApqwC",
        "outputId": "9a6f660b-431e-4166-d684-a2e2ca13e3b5"
      },
      "execution_count": 11,
      "outputs": [
        {
          "output_type": "stream",
          "name": "stdout",
          "text": [
            "Al 631g MethodType.RKS <qiskit.algorithms.optimizers.slsqp.SLSQP object at 0x7e9e542980a0> <qiskit_nature.mappers.second_quantization.jordan_wigner_mapper.JordanWignerMapper object at 0x7e9e54299270> lda statevector_simulator 1\n"
          ]
        },
        {
          "output_type": "stream",
          "name": "stderr",
          "text": [
            "<ipython-input-11-eb8e343ad184>:17: DeprecationWarning: The class ``qiskit.algorithms.minimum_eigen_solvers.numpy_minimum_eigen_solver.NumPyMinimumEigensolver`` is deprecated as of qiskit-terra 0.24.0. It will be removed no earlier than 3 months after the release date. Instead, use the class ``qiskit.algorithms.minimum_eigensolvers.NumPyMinimumEigensolver``. See https://qisk.it/algo_migration for a migration guide.\n",
            "  numpy_solver = NumPyMinimumEigensolver()\n"
          ]
        },
        {
          "output_type": "stream",
          "name": "stdout",
          "text": [
            "device statevector_simulator\n",
            "seed 42\n"
          ]
        },
        {
          "output_type": "stream",
          "name": "stderr",
          "text": [
            "<ipython-input-11-eb8e343ad184>:62: DeprecationWarning: The class ``qiskit.utils.quantum_instance.QuantumInstance`` is deprecated as of qiskit-terra 0.24.0. It will be removed no earlier than 3 months after the release date. For code migration guidelines, visit https://qisk.it/qi_migration.\n",
            "  qi = QuantumInstance(device, seed_transpiler=seed, seed_simulator=seed)\n",
            "<ipython-input-11-eb8e343ad184>:65: DeprecationWarning: The class ``qiskit.algorithms.minimum_eigen_solvers.vqe.VQE`` is deprecated as of qiskit-terra 0.24.0. It will be removed no earlier than 3 months after the release date. Instead, use the class ``qiskit.algorithms.minimum_eigensolvers.VQE``. See https://qisk.it/algo_migration for a migration guide.\n",
            "  vqe = VQE(ansatz, optimizer=optimizer, quantum_instance=qi,callback=store_intermediate_result)\n"
          ]
        },
        {
          "output_type": "stream",
          "name": "stdout",
          "text": [
            "(8.5066017987e-08+0j)\n",
            "VQE Energy Result\n",
            "=== GROUND STATE ENERGY ===\n",
            " \n",
            "* Electronic ground state energy (Hartree): -831.82003091059\n",
            "  - computed part:      -1.371347518989\n",
            "  - ActiveSpaceTransformer extracted energy part: -830.448683391601\n",
            "~ Nuclear repulsion energy (Hartree): 106.218168150552\n",
            "> Total ground state energy (Hartree): -725.601862760039\n",
            " \n",
            "=== MEASURED OBSERVABLES ===\n",
            " \n",
            "  0:  # Particles: 4.000 S: 0.511 S^2: 0.771 M: 0.000\n",
            " \n",
            "=== DIPOLE MOMENTS ===\n",
            " \n",
            "~ Nuclear dipole moment (a.u.): [-139.21936841  72.34588319  0.0]\n",
            " \n",
            "  0: \n",
            "  * Electronic dipole moment (a.u.): [-142.79168596  74.14970798  -0.00024821]\n",
            "    - computed part:      [-14.28150586  7.36856329  -0.00024821]\n",
            "    - ActiveSpaceTransformer extracted energy part: [-128.5101801  66.78114469  0.0]\n",
            "  > Dipole moment (a.u.): [3.57231755  -1.80382479  0.00024821]  Total: 4.00190412\n",
            "                 (debye): [9.07992466  -4.58486486  0.0006309]  Total: 10.17182472\n",
            " \n",
            "Numpy Energy Result\n",
            "=== GROUND STATE ENERGY ===\n",
            " \n",
            "* Electronic ground state energy (Hartree): -831.821509811016\n",
            "  - computed part:      -1.372826419414\n",
            "  - ActiveSpaceTransformer extracted energy part: -830.448683391602\n",
            "~ Nuclear repulsion energy (Hartree): 106.218168150552\n",
            "> Total ground state energy (Hartree): -725.603341660465\n",
            " \n",
            "=== MEASURED OBSERVABLES ===\n",
            " \n",
            "  0:  # Particles: 4.000 S: 0.000 S^2: 0.000 M: 0.000\n",
            " \n",
            "=== DIPOLE MOMENTS ===\n",
            " \n",
            "~ Nuclear dipole moment (a.u.): [-139.21936841  72.34588319  0.0]\n",
            " \n",
            "  0: \n",
            "  * Electronic dipole moment (a.u.): [-142.76671451  74.18271849  0.0]\n",
            "    - computed part:      [-14.25653441  7.4015738  0.0]\n",
            "    - ActiveSpaceTransformer extracted energy part: [-128.5101801  66.78114469  0.0]\n",
            "  > Dipole moment (a.u.): [3.5473461  -1.8368353  0.0]  Total: 3.99470003\n",
            "                 (debye): [9.01645359  -4.66876921  0.0]  Total: 10.15351374\n",
            " \n",
            "Al sto3g MethodType.RKS <qiskit.algorithms.optimizers.slsqp.SLSQP object at 0x7e9e542980a0> <qiskit_nature.mappers.second_quantization.jordan_wigner_mapper.JordanWignerMapper object at 0x7e9e54299270> lda statevector_simulator 1\n"
          ]
        },
        {
          "output_type": "stream",
          "name": "stderr",
          "text": [
            "<ipython-input-11-eb8e343ad184>:17: DeprecationWarning: The class ``qiskit.algorithms.minimum_eigen_solvers.numpy_minimum_eigen_solver.NumPyMinimumEigensolver`` is deprecated as of qiskit-terra 0.24.0. It will be removed no earlier than 3 months after the release date. Instead, use the class ``qiskit.algorithms.minimum_eigensolvers.NumPyMinimumEigensolver``. See https://qisk.it/algo_migration for a migration guide.\n",
            "  numpy_solver = NumPyMinimumEigensolver()\n"
          ]
        },
        {
          "output_type": "stream",
          "name": "stdout",
          "text": [
            "device statevector_simulator\n",
            "seed 42\n"
          ]
        },
        {
          "output_type": "stream",
          "name": "stderr",
          "text": [
            "<ipython-input-11-eb8e343ad184>:62: DeprecationWarning: The class ``qiskit.utils.quantum_instance.QuantumInstance`` is deprecated as of qiskit-terra 0.24.0. It will be removed no earlier than 3 months after the release date. For code migration guidelines, visit https://qisk.it/qi_migration.\n",
            "  qi = QuantumInstance(device, seed_transpiler=seed, seed_simulator=seed)\n",
            "<ipython-input-11-eb8e343ad184>:65: DeprecationWarning: The class ``qiskit.algorithms.minimum_eigen_solvers.vqe.VQE`` is deprecated as of qiskit-terra 0.24.0. It will be removed no earlier than 3 months after the release date. Instead, use the class ``qiskit.algorithms.minimum_eigensolvers.VQE``. See https://qisk.it/algo_migration for a migration guide.\n",
            "  vqe = VQE(ansatz, optimizer=optimizer, quantum_instance=qi,callback=store_intermediate_result)\n"
          ]
        },
        {
          "output_type": "stream",
          "name": "stdout",
          "text": [
            "(8.5066017987e-08+0j)\n",
            "VQE Energy Result\n",
            "=== GROUND STATE ENERGY ===\n",
            " \n",
            "* Electronic ground state energy (Hartree): -822.893419520476\n",
            "  - computed part:      -0.731268771641\n",
            "  - ActiveSpaceTransformer extracted energy part: -822.162150748835\n",
            "~ Nuclear repulsion energy (Hartree): 106.218168150552\n",
            "> Total ground state energy (Hartree): -716.675251369924\n",
            " \n",
            "=== MEASURED OBSERVABLES ===\n",
            " \n",
            "  0:  # Particles: 2.000 S: 0.618 S^2: 1.000 M: 0.000\n",
            " \n",
            "=== DIPOLE MOMENTS ===\n",
            " \n",
            "~ Nuclear dipole moment (a.u.): [-139.21936841  72.34588319  0.0]\n",
            " \n",
            "  0: \n",
            "  * Electronic dipole moment (a.u.): [-135.59497116  70.63160551  0.00026466]\n",
            "    - computed part:      [-7.08474278  3.85091175  0.00026466]\n",
            "    - ActiveSpaceTransformer extracted energy part: [-128.51022838  66.78069376  0.0]\n",
            "  > Dipole moment (a.u.): [-3.62439725  1.71427768  -0.00026466]  Total: 4.00936447\n",
            "                 (debye): [-9.21229806  4.35725884  -0.00067269]  Total: 10.19078704\n",
            " \n",
            "Numpy Energy Result\n",
            "=== GROUND STATE ENERGY ===\n",
            " \n",
            "* Electronic ground state energy (Hartree): -822.926897053139\n",
            "  - computed part:      -0.764746304304\n",
            "  - ActiveSpaceTransformer extracted energy part: -822.162150748835\n",
            "~ Nuclear repulsion energy (Hartree): 106.218168150552\n",
            "> Total ground state energy (Hartree): -716.708728902588\n",
            " \n",
            "=== MEASURED OBSERVABLES ===\n",
            " \n",
            "  0:  # Particles: 2.000 S: 1.000 S^2: 2.000 M: -0.428\n",
            " \n",
            "=== DIPOLE MOMENTS ===\n",
            " \n",
            "~ Nuclear dipole moment (a.u.): [-139.21936841  72.34588319  0.0]\n",
            " \n",
            "  0: \n",
            "  * Electronic dipole moment (a.u.): [-135.53589431  70.77412326  0.0]\n",
            "    - computed part:      [-7.02566593  3.9934295  0.0]\n",
            "    - ActiveSpaceTransformer extracted energy part: [-128.51022838  66.78069376  0.0]\n",
            "  > Dipole moment (a.u.): [-3.6834741  1.57175993  0.0]  Total: 4.00479846\n",
            "                 (debye): [-9.36245641  3.99501488  0.0]  Total: 10.1791814\n",
            " \n",
            "Al 321g MethodType.RKS <qiskit.algorithms.optimizers.slsqp.SLSQP object at 0x7e9e542980a0> <qiskit_nature.mappers.second_quantization.jordan_wigner_mapper.JordanWignerMapper object at 0x7e9e54299270> lda statevector_simulator 1\n"
          ]
        },
        {
          "output_type": "stream",
          "name": "stderr",
          "text": [
            "<ipython-input-11-eb8e343ad184>:17: DeprecationWarning: The class ``qiskit.algorithms.minimum_eigen_solvers.numpy_minimum_eigen_solver.NumPyMinimumEigensolver`` is deprecated as of qiskit-terra 0.24.0. It will be removed no earlier than 3 months after the release date. Instead, use the class ``qiskit.algorithms.minimum_eigensolvers.NumPyMinimumEigensolver``. See https://qisk.it/algo_migration for a migration guide.\n",
            "  numpy_solver = NumPyMinimumEigensolver()\n"
          ]
        },
        {
          "output_type": "stream",
          "name": "stdout",
          "text": [
            "device statevector_simulator\n",
            "seed 42\n"
          ]
        },
        {
          "output_type": "stream",
          "name": "stderr",
          "text": [
            "<ipython-input-11-eb8e343ad184>:62: DeprecationWarning: The class ``qiskit.utils.quantum_instance.QuantumInstance`` is deprecated as of qiskit-terra 0.24.0. It will be removed no earlier than 3 months after the release date. For code migration guidelines, visit https://qisk.it/qi_migration.\n",
            "  qi = QuantumInstance(device, seed_transpiler=seed, seed_simulator=seed)\n",
            "<ipython-input-11-eb8e343ad184>:65: DeprecationWarning: The class ``qiskit.algorithms.minimum_eigen_solvers.vqe.VQE`` is deprecated as of qiskit-terra 0.24.0. It will be removed no earlier than 3 months after the release date. Instead, use the class ``qiskit.algorithms.minimum_eigensolvers.VQE``. See https://qisk.it/algo_migration for a migration guide.\n",
            "  vqe = VQE(ansatz, optimizer=optimizer, quantum_instance=qi,callback=store_intermediate_result)\n"
          ]
        },
        {
          "output_type": "stream",
          "name": "stdout",
          "text": [
            "(8.5066017987e-08+0j)\n",
            "VQE Energy Result\n",
            "=== GROUND STATE ENERGY ===\n",
            " \n",
            "* Electronic ground state energy (Hartree): -827.912667937258\n",
            "  - computed part:      -1.37819433764\n",
            "  - ActiveSpaceTransformer extracted energy part: -826.534473599618\n",
            "~ Nuclear repulsion energy (Hartree): 106.218168150552\n",
            "> Total ground state energy (Hartree): -721.694499786707\n",
            " \n",
            "=== MEASURED OBSERVABLES ===\n",
            " \n",
            "  0:  # Particles: 4.000 S: 0.526 S^2: 0.804 M: 0.000\n",
            " \n",
            "=== DIPOLE MOMENTS ===\n",
            " \n",
            "~ Nuclear dipole moment (a.u.): [-139.21936841  72.34588319  0.0]\n",
            " \n",
            "  0: \n",
            "  * Electronic dipole moment (a.u.): [-142.79605684  74.13898899  -0.00016424]\n",
            "    - computed part:      [-14.28617591  7.35795927  -0.00016424]\n",
            "    - ActiveSpaceTransformer extracted energy part: [-128.50988093  66.78102972  0.0]\n",
            "  > Dipole moment (a.u.): [3.57668843  -1.7931058  0.00016424]  Total: 4.00099094\n",
            "                 (debye): [9.09103433  -4.5576199  0.00041747]  Total: 10.16950365\n",
            " \n",
            "Numpy Energy Result\n",
            "=== GROUND STATE ENERGY ===\n",
            " \n",
            "* Electronic ground state energy (Hartree): -827.913682021381\n",
            "  - computed part:      -1.379208421763\n",
            "  - ActiveSpaceTransformer extracted energy part: -826.534473599618\n",
            "~ Nuclear repulsion energy (Hartree): 106.218168150552\n",
            "> Total ground state energy (Hartree): -721.695513870829\n",
            " \n",
            "=== MEASURED OBSERVABLES ===\n",
            " \n",
            "  0:  # Particles: 4.000 S: 0.000 S^2: 0.000 M: 0.000\n",
            " \n",
            "=== DIPOLE MOMENTS ===\n",
            " \n",
            "~ Nuclear dipole moment (a.u.): [-139.21936841  72.34588319  0.0]\n",
            " \n",
            "  0: \n",
            "  * Electronic dipole moment (a.u.): [-142.7689468  74.17757105  0.0]\n",
            "    - computed part:      [-14.25906587  7.39654133  0.0]\n",
            "    - ActiveSpaceTransformer extracted energy part: [-128.50988093  66.78102972  0.0]\n",
            "  > Dipole moment (a.u.): [3.54957839  -1.83168786  0.0]  Total: 3.99431936\n",
            "                 (debye): [9.02212749  -4.65568571  0.0]  Total: 10.15254618\n",
            " \n",
            "Al sto6g MethodType.RKS <qiskit.algorithms.optimizers.slsqp.SLSQP object at 0x7e9e542980a0> <qiskit_nature.mappers.second_quantization.jordan_wigner_mapper.JordanWignerMapper object at 0x7e9e54299270> lda statevector_simulator 1\n"
          ]
        },
        {
          "output_type": "stream",
          "name": "stderr",
          "text": [
            "<ipython-input-11-eb8e343ad184>:17: DeprecationWarning: The class ``qiskit.algorithms.minimum_eigen_solvers.numpy_minimum_eigen_solver.NumPyMinimumEigensolver`` is deprecated as of qiskit-terra 0.24.0. It will be removed no earlier than 3 months after the release date. Instead, use the class ``qiskit.algorithms.minimum_eigensolvers.NumPyMinimumEigensolver``. See https://qisk.it/algo_migration for a migration guide.\n",
            "  numpy_solver = NumPyMinimumEigensolver()\n"
          ]
        },
        {
          "output_type": "stream",
          "name": "stdout",
          "text": [
            "device statevector_simulator\n",
            "seed 42\n"
          ]
        },
        {
          "output_type": "stream",
          "name": "stderr",
          "text": [
            "<ipython-input-11-eb8e343ad184>:62: DeprecationWarning: The class ``qiskit.utils.quantum_instance.QuantumInstance`` is deprecated as of qiskit-terra 0.24.0. It will be removed no earlier than 3 months after the release date. For code migration guidelines, visit https://qisk.it/qi_migration.\n",
            "  qi = QuantumInstance(device, seed_transpiler=seed, seed_simulator=seed)\n",
            "<ipython-input-11-eb8e343ad184>:65: DeprecationWarning: The class ``qiskit.algorithms.minimum_eigen_solvers.vqe.VQE`` is deprecated as of qiskit-terra 0.24.0. It will be removed no earlier than 3 months after the release date. Instead, use the class ``qiskit.algorithms.minimum_eigensolvers.VQE``. See https://qisk.it/algo_migration for a migration guide.\n",
            "  vqe = VQE(ansatz, optimizer=optimizer, quantum_instance=qi,callback=store_intermediate_result)\n"
          ]
        },
        {
          "output_type": "stream",
          "name": "stdout",
          "text": [
            "(8.5066017987e-08+0j)\n",
            "VQE Energy Result\n",
            "=== GROUND STATE ENERGY ===\n",
            " \n",
            "* Electronic ground state energy (Hartree): -828.758905639079\n",
            "  - computed part:      -0.727676985394\n",
            "  - ActiveSpaceTransformer extracted energy part: -828.031228653685\n",
            "~ Nuclear repulsion energy (Hartree): 106.218168150552\n",
            "> Total ground state energy (Hartree): -722.540737488528\n",
            " \n",
            "=== MEASURED OBSERVABLES ===\n",
            " \n",
            "  0:  # Particles: 2.000 S: 0.618 S^2: 1.000 M: 0.000\n",
            " \n",
            "=== DIPOLE MOMENTS ===\n",
            " \n",
            "~ Nuclear dipole moment (a.u.): [-139.21936841  72.34588319  0.0]\n",
            " \n",
            "  0: \n",
            "  * Electronic dipole moment (a.u.): [-135.60019147  70.62072634  0.00017358]\n",
            "    - computed part:      [-7.08994731  3.84002054  0.00017358]\n",
            "    - ActiveSpaceTransformer extracted energy part: [-128.51024416  66.7807058  0.0]\n",
            "  > Dipole moment (a.u.): [-3.61917694  1.72515685  -0.00017358]  Total: 4.00931514\n",
            "                 (debye): [-9.19902934  4.38491091  -0.00044119]  Total: 10.19066165\n",
            " \n",
            "Numpy Energy Result\n",
            "=== GROUND STATE ENERGY ===\n",
            " \n",
            "* Electronic ground state energy (Hartree): -828.793074556762\n",
            "  - computed part:      -0.761845903077\n",
            "  - ActiveSpaceTransformer extracted energy part: -828.031228653685\n",
            "~ Nuclear repulsion energy (Hartree): 106.218168150552\n",
            "> Total ground state energy (Hartree): -722.574906406211\n",
            " \n",
            "=== MEASURED OBSERVABLES ===\n",
            " \n",
            "  0:  # Particles: 2.000 S: 1.000 S^2: 2.000 M: 0.251\n",
            " \n",
            "=== DIPOLE MOMENTS ===\n",
            " \n",
            "~ Nuclear dipole moment (a.u.): [-139.21936841  72.34588319  0.0]\n",
            " \n",
            "  0: \n",
            "  * Electronic dipole moment (a.u.): [-135.54775199  70.75191569  0.0]\n",
            "    - computed part:      [-7.03750783  3.97120989  0.0]\n",
            "    - ActiveSpaceTransformer extracted energy part: [-128.51024416  66.7807058  0.0]\n",
            "  > Dipole moment (a.u.): [-3.67161642  1.5939675  0.0]  Total: 4.00268654\n",
            "                 (debye): [-9.33231719  4.05146088  0.0]  Total: 10.17381342\n",
            " \n",
            "Al 631g MethodType.RKS <qiskit.algorithms.optimizers.slsqp.SLSQP object at 0x7e9e542980a0> <qiskit_nature.mappers.second_quantization.jordan_wigner_mapper.JordanWignerMapper object at 0x7e9e54299270> lda statevector_simulator 1\n"
          ]
        },
        {
          "output_type": "stream",
          "name": "stderr",
          "text": [
            "<ipython-input-11-eb8e343ad184>:17: DeprecationWarning: The class ``qiskit.algorithms.minimum_eigen_solvers.numpy_minimum_eigen_solver.NumPyMinimumEigensolver`` is deprecated as of qiskit-terra 0.24.0. It will be removed no earlier than 3 months after the release date. Instead, use the class ``qiskit.algorithms.minimum_eigensolvers.NumPyMinimumEigensolver``. See https://qisk.it/algo_migration for a migration guide.\n",
            "  numpy_solver = NumPyMinimumEigensolver()\n"
          ]
        },
        {
          "output_type": "stream",
          "name": "stdout",
          "text": [
            "device statevector_simulator\n",
            "seed 42\n"
          ]
        },
        {
          "output_type": "stream",
          "name": "stderr",
          "text": [
            "<ipython-input-11-eb8e343ad184>:62: DeprecationWarning: The class ``qiskit.utils.quantum_instance.QuantumInstance`` is deprecated as of qiskit-terra 0.24.0. It will be removed no earlier than 3 months after the release date. For code migration guidelines, visit https://qisk.it/qi_migration.\n",
            "  qi = QuantumInstance(device, seed_transpiler=seed, seed_simulator=seed)\n",
            "<ipython-input-11-eb8e343ad184>:65: DeprecationWarning: The class ``qiskit.algorithms.minimum_eigen_solvers.vqe.VQE`` is deprecated as of qiskit-terra 0.24.0. It will be removed no earlier than 3 months after the release date. Instead, use the class ``qiskit.algorithms.minimum_eigensolvers.VQE``. See https://qisk.it/algo_migration for a migration guide.\n",
            "  vqe = VQE(ansatz, optimizer=optimizer, quantum_instance=qi,callback=store_intermediate_result)\n"
          ]
        },
        {
          "output_type": "stream",
          "name": "stdout",
          "text": [
            "(8.5066017987e-08+0j)\n",
            "VQE Energy Result\n",
            "=== GROUND STATE ENERGY ===\n",
            " \n",
            "* Electronic ground state energy (Hartree): -831.820031609566\n",
            "  - computed part:      -1.371348217964\n",
            "  - ActiveSpaceTransformer extracted energy part: -830.448683391601\n",
            "~ Nuclear repulsion energy (Hartree): 106.218168150552\n",
            "> Total ground state energy (Hartree): -725.601863459014\n",
            " \n",
            "=== MEASURED OBSERVABLES ===\n",
            " \n",
            "  0:  # Particles: 4.000 S: 0.511 S^2: 0.771 M: 0.000\n",
            " \n",
            "=== DIPOLE MOMENTS ===\n",
            " \n",
            "~ Nuclear dipole moment (a.u.): [-139.21936841  72.34588319  0.0]\n",
            " \n",
            "  0: \n",
            "  * Electronic dipole moment (a.u.): [-142.7912319  74.1498657  -0.00001837]\n",
            "    - computed part:      [-14.2810518  7.36872101  -0.00001837]\n",
            "    - ActiveSpaceTransformer extracted energy part: [-128.5101801  66.78114469  0.0]\n",
            "  > Dipole moment (a.u.): [3.57186349  -1.80398251  0.00001837]  Total: 4.0015699\n",
            "                 (debye): [9.07877056  -4.58526575  0.00004669]  Total: 10.17097522\n",
            " \n",
            "Numpy Energy Result\n",
            "=== GROUND STATE ENERGY ===\n",
            " \n",
            "* Electronic ground state energy (Hartree): -831.821509811015\n",
            "  - computed part:      -1.372826419414\n",
            "  - ActiveSpaceTransformer extracted energy part: -830.448683391601\n",
            "~ Nuclear repulsion energy (Hartree): 106.218168150552\n",
            "> Total ground state energy (Hartree): -725.603341660463\n",
            " \n",
            "=== MEASURED OBSERVABLES ===\n",
            " \n",
            "  0:  # Particles: 4.000 S: 0.000 S^2: 0.000 M: 0.000\n",
            " \n",
            "=== DIPOLE MOMENTS ===\n",
            " \n",
            "~ Nuclear dipole moment (a.u.): [-139.21936841  72.34588319  0.0]\n",
            " \n",
            "  0: \n",
            "  * Electronic dipole moment (a.u.): [-142.76671451  74.18271849  0.0]\n",
            "    - computed part:      [-14.25653441  7.4015738  0.0]\n",
            "    - ActiveSpaceTransformer extracted energy part: [-128.5101801  66.78114469  0.0]\n",
            "  > Dipole moment (a.u.): [3.5473461  -1.8368353  0.0]  Total: 3.99470003\n",
            "                 (debye): [9.01645359  -4.66876921  0.0]  Total: 10.15351374\n",
            " \n",
            "Al lanl2dz MethodType.RKS <qiskit.algorithms.optimizers.slsqp.SLSQP object at 0x7e9e542980a0> <qiskit_nature.mappers.second_quantization.jordan_wigner_mapper.JordanWignerMapper object at 0x7e9e54299270> lda statevector_simulator 1\n"
          ]
        },
        {
          "output_type": "stream",
          "name": "stderr",
          "text": [
            "<ipython-input-11-eb8e343ad184>:17: DeprecationWarning: The class ``qiskit.algorithms.minimum_eigen_solvers.numpy_minimum_eigen_solver.NumPyMinimumEigensolver`` is deprecated as of qiskit-terra 0.24.0. It will be removed no earlier than 3 months after the release date. Instead, use the class ``qiskit.algorithms.minimum_eigensolvers.NumPyMinimumEigensolver``. See https://qisk.it/algo_migration for a migration guide.\n",
            "  numpy_solver = NumPyMinimumEigensolver()\n"
          ]
        },
        {
          "output_type": "stream",
          "name": "stdout",
          "text": [
            "device statevector_simulator\n",
            "seed 42\n"
          ]
        },
        {
          "output_type": "stream",
          "name": "stderr",
          "text": [
            "<ipython-input-11-eb8e343ad184>:62: DeprecationWarning: The class ``qiskit.utils.quantum_instance.QuantumInstance`` is deprecated as of qiskit-terra 0.24.0. It will be removed no earlier than 3 months after the release date. For code migration guidelines, visit https://qisk.it/qi_migration.\n",
            "  qi = QuantumInstance(device, seed_transpiler=seed, seed_simulator=seed)\n",
            "<ipython-input-11-eb8e343ad184>:65: DeprecationWarning: The class ``qiskit.algorithms.minimum_eigen_solvers.vqe.VQE`` is deprecated as of qiskit-terra 0.24.0. It will be removed no earlier than 3 months after the release date. Instead, use the class ``qiskit.algorithms.minimum_eigensolvers.VQE``. See https://qisk.it/algo_migration for a migration guide.\n",
            "  vqe = VQE(ansatz, optimizer=optimizer, quantum_instance=qi,callback=store_intermediate_result)\n"
          ]
        },
        {
          "output_type": "stream",
          "name": "stdout",
          "text": [
            "(8.5066017987e-08+0j)\n",
            "VQE Energy Result\n",
            "=== GROUND STATE ENERGY ===\n",
            " \n",
            "* Electronic ground state energy (Hartree): -247.937816119919\n",
            "  - computed part:      -1.239101574264\n",
            "  - ActiveSpaceTransformer extracted energy part: -246.698714545656\n",
            "~ Nuclear repulsion energy (Hartree): 106.218168150552\n",
            "> Total ground state energy (Hartree): -141.719647969368\n",
            " \n",
            "=== MEASURED OBSERVABLES ===\n",
            " \n",
            "  0:  # Particles: 4.000 S: 0.360 S^2: 0.490 M: 0.000\n",
            " \n",
            "=== DIPOLE MOMENTS ===\n",
            " \n",
            "~ Nuclear dipole moment (a.u.): [-139.21936841  72.34588319  0.0]\n",
            " \n",
            "  0: \n",
            "  * Electronic dipole moment (a.u.): [-137.31861525  77.72402858  -0.01045773]\n",
            "    - computed part:      [-9.30724909  10.85746579  -0.01581419]\n",
            "    - ActiveSpaceTransformer extracted energy part: [-128.01136617  66.86656279  0.00535646]\n",
            "  > Dipole moment (a.u.): [-1.90075316  -5.37814539  0.01045773]  Total: 5.70415811\n",
            "                 (debye): [-4.83123217  -13.66988077  0.0265809]  Total: 14.49852238\n",
            " \n",
            "Numpy Energy Result\n",
            "=== GROUND STATE ENERGY ===\n",
            " \n",
            "* Electronic ground state energy (Hartree): -247.958886590576\n",
            "  - computed part:      -1.260688889699\n",
            "  - ActiveSpaceTransformer extracted energy part: -246.698197700878\n",
            "~ Nuclear repulsion energy (Hartree): 106.218168150552\n",
            "> Total ground state energy (Hartree): -141.740718440025\n",
            " \n",
            "=== MEASURED OBSERVABLES ===\n",
            " \n",
            "  0:  # Particles: 4.000 S: 0.000 S^2: 0.000 M: 0.000\n",
            " \n",
            "=== DIPOLE MOMENTS ===\n",
            " \n",
            "~ Nuclear dipole moment (a.u.): [-139.21936841  72.34588319  0.0]\n",
            " \n",
            "  0: \n",
            "  * Electronic dipole moment (a.u.): [-137.43522866  77.64617446  -0.00372295]\n",
            "    - computed part:      [-9.33801548  10.75408034  0.00628202]\n",
            "    - ActiveSpaceTransformer extracted energy part: [-128.09721318  66.89209412  -0.01000497]\n",
            "  > Dipole moment (a.u.): [-1.78413975  -5.30029127  0.00372295]  Total: 5.59251787\n",
            "                 (debye): [-4.53483049  -13.47199537  0.00946281]  Total: 14.21476121\n",
            " \n"
          ]
        }
      ]
    },
    {
      "cell_type": "code",
      "source": [
        "# Record the end time\n",
        "end_time = time.time()\n",
        "\n",
        "# Calculate the duration\n",
        "duration = end_time - start_time\n",
        "\n",
        "# Print the duration\n",
        "print(\"Job took {:.2f} seconds to run.\".format(duration))"
      ],
      "metadata": {
        "colab": {
          "base_uri": "https://localhost:8080/"
        },
        "id": "oocOUE1mElb9",
        "outputId": "c488d700-b88b-44a5-a8a0-95543cba807b"
      },
      "execution_count": 12,
      "outputs": [
        {
          "output_type": "stream",
          "name": "stdout",
          "text": [
            "Job took 367.24 seconds to run.\n"
          ]
        }
      ]
    },
    {
      "cell_type": "code",
      "source": [
        "start_time = time.time()"
      ],
      "metadata": {
        "id": "60lBSE9ZElTX"
      },
      "execution_count": 13,
      "outputs": []
    },
    {
      "cell_type": "code",
      "source": [
        "def get_qubit_op(\n",
        "    molecule,\n",
        "    basis,\n",
        "    functional,\n",
        "    method,\n",
        "    driver_type= ElectronicStructureDriverType.PYSCF,\n",
        "    mapper= JordanWignerMapper()):\n",
        "\n",
        "  driver=ElectronicStructureMoleculeDriver(molecule, basis, method,driver_type)\n",
        "  properties = driver.run()\n",
        "  problem = ElectronicStructureProblem(driver)\n",
        "\n",
        "  second_q_ops = problem.second_q_ops()\n",
        "  second_q_ops = list(second_q_ops.values()) #list of second quantized operators\n",
        "  hamiltonian=second_q_ops[0]\n",
        "\n",
        "  numpy_solver = NumPyMinimumEigensolver()\n",
        "  tmp = properties.get_property('ParticleNumber')\n",
        "  alpha_occ=tmp.occupation_alpha\n",
        "  beta_occ=tmp.occupation_beta\n",
        "\n",
        "  mo_considered=3\n",
        "  #active and inactive space has to be even, non-magnetic\n",
        "\n",
        "  first_index = min(np.where(alpha_occ<1)[0][0],np.where(beta_occ<1)[0][0])\n",
        "\n",
        "  orb_act = np.arange(first_index-mo_considered,first_index)+1\n",
        "\n",
        "  transformer= ActiveSpaceTransformer(num_electrons=mo_considered+1, num_molecular_orbitals=len(orb_act), active_orbitals=orb_act)\n",
        "  problem_reduced = ElectronicStructureProblem(driver, [transformer])\n",
        "  second_q_ops_reduced = problem_reduced.second_q_ops()\n",
        "\n",
        "  second_q_ops_reduced = list(second_q_ops_reduced.values())\n",
        "  hamiltonian_reduced = second_q_ops_reduced[0]\n",
        "\n",
        "  # mapper = JordanWignerMapper()\n",
        "  converter = QubitConverter(mapper=mapper)\n",
        "  qubit_op = converter.convert(hamiltonian_reduced)\n",
        "\n",
        "  res1={}\n",
        "  res1['qubit_op']=qubit_op\n",
        "  res1['converter']=converter\n",
        "  res1['problem_reduced']=problem_reduced\n",
        "  res1['numpy_solver']=numpy_solver\n",
        "  return res1 #qubit_op, converter, problem_reduced\n",
        "\n",
        "def get_energy(optimizer='',device='',qubit_op='',seed='42', reps=1):\n",
        "  #seed = 42\n",
        "  counts = []\n",
        "  values = []\n",
        "\n",
        "\n",
        "  def store_intermediate_result(eval_count, parameters, mean, std):\n",
        "    counts.append(eval_count)\n",
        "    values.append(mean)\n",
        "\n",
        "  algorithm_globals.random_seed = seed\n",
        "  np.random.seed(seed)\n",
        "  print('device',device)\n",
        "  print('seed',seed)\n",
        "\n",
        "  qi = QuantumInstance(device, seed_transpiler=seed, seed_simulator=seed)\n",
        "  n_qubits = qubit_op.num_qubits\n",
        "  ansatz = QuantumCircuitLibrary(n_qubits=n_qubits, reps=reps).circuit6()\n",
        "  vqe = VQE(ansatz, optimizer=optimizer, quantum_instance=qi,callback=store_intermediate_result)\n",
        "  result = vqe.compute_minimum_eigenvalue(operator=qubit_op)\n",
        "\n",
        "\n",
        "  eigenvalue = result.eigenvalue\n",
        "  # return eigenvalue, vqe, qi\n",
        "\n",
        "  res={}\n",
        "  res['eigenvalue']=eigenvalue\n",
        "  res['vqe']=vqe\n",
        "  res['qi']=qi\n",
        "  return res\n",
        "\n",
        "elements=['Al']\n",
        "basis=['631g','sto3g', '321g', 'sto6g', '631g','lanl2dz']\n",
        "method=[MethodType.RKS]\n",
        "#driver_type=[]\n",
        "optimizer=[SLSQP(maxiter=1000)]\n",
        "mapper=[JordanWignerMapper()]\n",
        "functionals=['lda']\n",
        "devices=[Aer.get_backend('statevector_simulator')]\n",
        "reps_list = [1]\n",
        "mem={}\n",
        "for i in elements:\n",
        "  for j in basis:\n",
        "    for k in method:\n",
        "      #for l in driver_type:\n",
        "        for m in optimizer:\n",
        "          for n in mapper:\n",
        "            for o in functionals:\n",
        "              for p in devices:\n",
        "                for reps in reps_list:\n",
        "                  print(i,j,k,m,n,o,p,reps)\n",
        "\n",
        "                  res1=get_qubit_op(molecule=molecule,basis=j,mapper=n,functional=o,method=k)\n",
        "                  res=get_energy(optimizer=m,device=p,qubit_op=res1['qubit_op'],seed=42)\n",
        "                  print(res['eigenvalue'])\n",
        "\n",
        "                  #GroundStateEigensolver\n",
        "                  print(\"VQE Energy Result\")\n",
        "                  solver =GroundStateEigensolver(res1['converter'], res['vqe'])\n",
        "                  result=solver.solve(res1['problem_reduced'])\n",
        "                  print(result)\n",
        "\n",
        "                  #numpy\n",
        "                  print(\"Numpy Energy Result\")\n",
        "                  solver =GroundStateEigensolver(res1['converter'], res1['numpy_solver'])\n",
        "                  result=solver.solve(res1['problem_reduced'])\n",
        "                  print(result)\n",
        "\n",
        "                  mem[i,j,k,m,n,o,p,reps]= {\n",
        "                      'eigenvalue': res['eigenvalue'],\n",
        "                      'vqe': res['vqe'],\n",
        "                      'qi': res['qi'],\n",
        "                      'converter': res1['converter'],\n",
        "                      'problem_reduced': res1['problem_reduced']\n",
        "                     }"
      ],
      "metadata": {
        "colab": {
          "base_uri": "https://localhost:8080/"
        },
        "id": "kQnFzNk3DXrJ",
        "outputId": "508aeeca-19b0-4759-e3d9-8d4bd96b922b"
      },
      "execution_count": 14,
      "outputs": [
        {
          "output_type": "stream",
          "name": "stdout",
          "text": [
            "Al 631g MethodType.RKS <qiskit.algorithms.optimizers.slsqp.SLSQP object at 0x7e9e54299810> <qiskit_nature.mappers.second_quantization.jordan_wigner_mapper.JordanWignerMapper object at 0x7e9e5429aa70> lda statevector_simulator 1\n"
          ]
        },
        {
          "output_type": "stream",
          "name": "stderr",
          "text": [
            "<ipython-input-14-eb8e343ad184>:17: DeprecationWarning: The class ``qiskit.algorithms.minimum_eigen_solvers.numpy_minimum_eigen_solver.NumPyMinimumEigensolver`` is deprecated as of qiskit-terra 0.24.0. It will be removed no earlier than 3 months after the release date. Instead, use the class ``qiskit.algorithms.minimum_eigensolvers.NumPyMinimumEigensolver``. See https://qisk.it/algo_migration for a migration guide.\n",
            "  numpy_solver = NumPyMinimumEigensolver()\n"
          ]
        },
        {
          "output_type": "stream",
          "name": "stdout",
          "text": [
            "device statevector_simulator\n",
            "seed 42\n"
          ]
        },
        {
          "output_type": "stream",
          "name": "stderr",
          "text": [
            "<ipython-input-14-eb8e343ad184>:62: DeprecationWarning: The class ``qiskit.utils.quantum_instance.QuantumInstance`` is deprecated as of qiskit-terra 0.24.0. It will be removed no earlier than 3 months after the release date. For code migration guidelines, visit https://qisk.it/qi_migration.\n",
            "  qi = QuantumInstance(device, seed_transpiler=seed, seed_simulator=seed)\n",
            "<ipython-input-14-eb8e343ad184>:65: DeprecationWarning: The class ``qiskit.algorithms.minimum_eigen_solvers.vqe.VQE`` is deprecated as of qiskit-terra 0.24.0. It will be removed no earlier than 3 months after the release date. Instead, use the class ``qiskit.algorithms.minimum_eigensolvers.VQE``. See https://qisk.it/algo_migration for a migration guide.\n",
            "  vqe = VQE(ansatz, optimizer=optimizer, quantum_instance=qi,callback=store_intermediate_result)\n"
          ]
        },
        {
          "output_type": "stream",
          "name": "stdout",
          "text": [
            "(8.5066017987e-08+0j)\n",
            "VQE Energy Result\n",
            "=== GROUND STATE ENERGY ===\n",
            " \n",
            "* Electronic ground state energy (Hartree): -831.820031614239\n",
            "  - computed part:      -1.371348222638\n",
            "  - ActiveSpaceTransformer extracted energy part: -830.448683391601\n",
            "~ Nuclear repulsion energy (Hartree): 106.218168150552\n",
            "> Total ground state energy (Hartree): -725.601863463687\n",
            " \n",
            "=== MEASURED OBSERVABLES ===\n",
            " \n",
            "  0:  # Particles: 4.000 S: 0.511 S^2: 0.771 M: 0.000\n",
            " \n",
            "=== DIPOLE MOMENTS ===\n",
            " \n",
            "~ Nuclear dipole moment (a.u.): [-139.21936841  72.34588319  0.0]\n",
            " \n",
            "  0: \n",
            "  * Electronic dipole moment (a.u.): [-142.79136301  74.14983453  -0.00002307]\n",
            "    - computed part:      [-14.28118291  7.36868984  -0.00002307]\n",
            "    - ActiveSpaceTransformer extracted energy part: [-128.5101801  66.78114469  0.0]\n",
            "  > Dipole moment (a.u.): [3.5719946  -1.80395134  0.00002307]  Total: 4.00167288\n",
            "                 (debye): [9.07910381  -4.58518651  0.00005863]  Total: 10.17123696\n",
            " \n",
            "Numpy Energy Result\n",
            "=== GROUND STATE ENERGY ===\n",
            " \n",
            "* Electronic ground state energy (Hartree): -831.821509811015\n",
            "  - computed part:      -1.372826419414\n",
            "  - ActiveSpaceTransformer extracted energy part: -830.448683391601\n",
            "~ Nuclear repulsion energy (Hartree): 106.218168150552\n",
            "> Total ground state energy (Hartree): -725.603341660463\n",
            " \n",
            "=== MEASURED OBSERVABLES ===\n",
            " \n",
            "  0:  # Particles: 4.000 S: 0.000 S^2: 0.000 M: 0.000\n",
            " \n",
            "=== DIPOLE MOMENTS ===\n",
            " \n",
            "~ Nuclear dipole moment (a.u.): [-139.21936841  72.34588319  0.0]\n",
            " \n",
            "  0: \n",
            "  * Electronic dipole moment (a.u.): [-142.76671451  74.18271849  0.0]\n",
            "    - computed part:      [-14.25653441  7.4015738  0.0]\n",
            "    - ActiveSpaceTransformer extracted energy part: [-128.5101801  66.78114469  0.0]\n",
            "  > Dipole moment (a.u.): [3.5473461  -1.8368353  0.0]  Total: 3.99470003\n",
            "                 (debye): [9.01645359  -4.66876921  0.0]  Total: 10.15351374\n",
            " \n",
            "Al sto3g MethodType.RKS <qiskit.algorithms.optimizers.slsqp.SLSQP object at 0x7e9e54299810> <qiskit_nature.mappers.second_quantization.jordan_wigner_mapper.JordanWignerMapper object at 0x7e9e5429aa70> lda statevector_simulator 1\n"
          ]
        },
        {
          "output_type": "stream",
          "name": "stderr",
          "text": [
            "<ipython-input-14-eb8e343ad184>:17: DeprecationWarning: The class ``qiskit.algorithms.minimum_eigen_solvers.numpy_minimum_eigen_solver.NumPyMinimumEigensolver`` is deprecated as of qiskit-terra 0.24.0. It will be removed no earlier than 3 months after the release date. Instead, use the class ``qiskit.algorithms.minimum_eigensolvers.NumPyMinimumEigensolver``. See https://qisk.it/algo_migration for a migration guide.\n",
            "  numpy_solver = NumPyMinimumEigensolver()\n"
          ]
        },
        {
          "output_type": "stream",
          "name": "stdout",
          "text": [
            "device statevector_simulator\n",
            "seed 42\n"
          ]
        },
        {
          "output_type": "stream",
          "name": "stderr",
          "text": [
            "<ipython-input-14-eb8e343ad184>:62: DeprecationWarning: The class ``qiskit.utils.quantum_instance.QuantumInstance`` is deprecated as of qiskit-terra 0.24.0. It will be removed no earlier than 3 months after the release date. For code migration guidelines, visit https://qisk.it/qi_migration.\n",
            "  qi = QuantumInstance(device, seed_transpiler=seed, seed_simulator=seed)\n",
            "<ipython-input-14-eb8e343ad184>:65: DeprecationWarning: The class ``qiskit.algorithms.minimum_eigen_solvers.vqe.VQE`` is deprecated as of qiskit-terra 0.24.0. It will be removed no earlier than 3 months after the release date. Instead, use the class ``qiskit.algorithms.minimum_eigensolvers.VQE``. See https://qisk.it/algo_migration for a migration guide.\n",
            "  vqe = VQE(ansatz, optimizer=optimizer, quantum_instance=qi,callback=store_intermediate_result)\n"
          ]
        },
        {
          "output_type": "stream",
          "name": "stdout",
          "text": [
            "(8.5066017987e-08+0j)\n",
            "VQE Energy Result\n",
            "=== GROUND STATE ENERGY ===\n",
            " \n",
            "* Electronic ground state energy (Hartree): -822.89341952137\n",
            "  - computed part:      -0.731268772535\n",
            "  - ActiveSpaceTransformer extracted energy part: -822.162150748835\n",
            "~ Nuclear repulsion energy (Hartree): 106.218168150552\n",
            "> Total ground state energy (Hartree): -716.675251370819\n",
            " \n",
            "=== MEASURED OBSERVABLES ===\n",
            " \n",
            "  0:  # Particles: 2.000 S: 0.618 S^2: 1.000 M: 0.000\n",
            " \n",
            "=== DIPOLE MOMENTS ===\n",
            " \n",
            "~ Nuclear dipole moment (a.u.): [-139.21936841  72.34588319  0.0]\n",
            " \n",
            "  0: \n",
            "  * Electronic dipole moment (a.u.): [-135.59497111  70.63160549  0.00026448]\n",
            "    - computed part:      [-7.08474273  3.85091173  0.00026448]\n",
            "    - ActiveSpaceTransformer extracted energy part: [-128.51022838  66.78069376  0.0]\n",
            "  > Dipole moment (a.u.): [-3.6243973  1.7142777  -0.00026448]  Total: 4.00936452\n",
            "                 (debye): [-9.21229818  4.35725887  -0.00067225]  Total: 10.19078717\n",
            " \n",
            "Numpy Energy Result\n",
            "=== GROUND STATE ENERGY ===\n",
            " \n",
            "* Electronic ground state energy (Hartree): -822.926897053139\n",
            "  - computed part:      -0.764746304304\n",
            "  - ActiveSpaceTransformer extracted energy part: -822.162150748835\n",
            "~ Nuclear repulsion energy (Hartree): 106.218168150552\n",
            "> Total ground state energy (Hartree): -716.708728902588\n",
            " \n",
            "=== MEASURED OBSERVABLES ===\n",
            " \n",
            "  0:  # Particles: 2.000 S: 1.000 S^2: 2.000 M: -0.068\n",
            " \n",
            "=== DIPOLE MOMENTS ===\n",
            " \n",
            "~ Nuclear dipole moment (a.u.): [-139.21936841  72.34588319  0.0]\n",
            " \n",
            "  0: \n",
            "  * Electronic dipole moment (a.u.): [-135.53589431  70.77412326  0.0]\n",
            "    - computed part:      [-7.02566593  3.9934295  0.0]\n",
            "    - ActiveSpaceTransformer extracted energy part: [-128.51022838  66.78069376  0.0]\n",
            "  > Dipole moment (a.u.): [-3.6834741  1.57175993  0.0]  Total: 4.00479846\n",
            "                 (debye): [-9.36245641  3.99501488  0.0]  Total: 10.1791814\n",
            " \n",
            "Al 321g MethodType.RKS <qiskit.algorithms.optimizers.slsqp.SLSQP object at 0x7e9e54299810> <qiskit_nature.mappers.second_quantization.jordan_wigner_mapper.JordanWignerMapper object at 0x7e9e5429aa70> lda statevector_simulator 1\n"
          ]
        },
        {
          "output_type": "stream",
          "name": "stderr",
          "text": [
            "<ipython-input-14-eb8e343ad184>:17: DeprecationWarning: The class ``qiskit.algorithms.minimum_eigen_solvers.numpy_minimum_eigen_solver.NumPyMinimumEigensolver`` is deprecated as of qiskit-terra 0.24.0. It will be removed no earlier than 3 months after the release date. Instead, use the class ``qiskit.algorithms.minimum_eigensolvers.NumPyMinimumEigensolver``. See https://qisk.it/algo_migration for a migration guide.\n",
            "  numpy_solver = NumPyMinimumEigensolver()\n"
          ]
        },
        {
          "output_type": "stream",
          "name": "stdout",
          "text": [
            "device statevector_simulator\n",
            "seed 42\n"
          ]
        },
        {
          "output_type": "stream",
          "name": "stderr",
          "text": [
            "<ipython-input-14-eb8e343ad184>:62: DeprecationWarning: The class ``qiskit.utils.quantum_instance.QuantumInstance`` is deprecated as of qiskit-terra 0.24.0. It will be removed no earlier than 3 months after the release date. For code migration guidelines, visit https://qisk.it/qi_migration.\n",
            "  qi = QuantumInstance(device, seed_transpiler=seed, seed_simulator=seed)\n",
            "<ipython-input-14-eb8e343ad184>:65: DeprecationWarning: The class ``qiskit.algorithms.minimum_eigen_solvers.vqe.VQE`` is deprecated as of qiskit-terra 0.24.0. It will be removed no earlier than 3 months after the release date. Instead, use the class ``qiskit.algorithms.minimum_eigensolvers.VQE``. See https://qisk.it/algo_migration for a migration guide.\n",
            "  vqe = VQE(ansatz, optimizer=optimizer, quantum_instance=qi,callback=store_intermediate_result)\n"
          ]
        },
        {
          "output_type": "stream",
          "name": "stdout",
          "text": [
            "(8.5066017987e-08+0j)\n",
            "VQE Energy Result\n",
            "=== GROUND STATE ENERGY ===\n",
            " \n",
            "* Electronic ground state energy (Hartree): -827.912668196696\n",
            "  - computed part:      -1.378194597078\n",
            "  - ActiveSpaceTransformer extracted energy part: -826.534473599618\n",
            "~ Nuclear repulsion energy (Hartree): 106.218168150552\n",
            "> Total ground state energy (Hartree): -721.694500046144\n",
            " \n",
            "=== MEASURED OBSERVABLES ===\n",
            " \n",
            "  0:  # Particles: 4.000 S: 0.526 S^2: 0.803 M: 0.000\n",
            " \n",
            "=== DIPOLE MOMENTS ===\n",
            " \n",
            "~ Nuclear dipole moment (a.u.): [-139.21936841  72.34588319  0.0]\n",
            " \n",
            "  0: \n",
            "  * Electronic dipole moment (a.u.): [-142.7959282  74.13907757  -0.00015506]\n",
            "    - computed part:      [-14.28604728  7.35804785  -0.00015506]\n",
            "    - ActiveSpaceTransformer extracted energy part: [-128.50988093  66.78102972  0.0]\n",
            "  > Dipole moment (a.u.): [3.57655979  -1.79319438  0.00015506]  Total: 4.00091565\n",
            "                 (debye): [9.09070738  -4.55784505  0.00039413]  Total: 10.16931228\n",
            " \n",
            "Numpy Energy Result\n",
            "=== GROUND STATE ENERGY ===\n",
            " \n",
            "* Electronic ground state energy (Hartree): -827.913682021381\n",
            "  - computed part:      -1.379208421762\n",
            "  - ActiveSpaceTransformer extracted energy part: -826.534473599619\n",
            "~ Nuclear repulsion energy (Hartree): 106.218168150552\n",
            "> Total ground state energy (Hartree): -721.695513870829\n",
            " \n",
            "=== MEASURED OBSERVABLES ===\n",
            " \n",
            "  0:  # Particles: 4.000 S: 0.000 S^2: 0.000 M: 0.000\n",
            " \n",
            "=== DIPOLE MOMENTS ===\n",
            " \n",
            "~ Nuclear dipole moment (a.u.): [-139.21936841  72.34588319  0.0]\n",
            " \n",
            "  0: \n",
            "  * Electronic dipole moment (a.u.): [-142.7689468  74.17757105  0.0]\n",
            "    - computed part:      [-14.25906587  7.39654133  0.0]\n",
            "    - ActiveSpaceTransformer extracted energy part: [-128.50988093  66.78102972  0.0]\n",
            "  > Dipole moment (a.u.): [3.54957839  -1.83168786  0.0]  Total: 3.99431936\n",
            "                 (debye): [9.02212749  -4.65568571  0.0]  Total: 10.15254618\n",
            " \n",
            "Al sto6g MethodType.RKS <qiskit.algorithms.optimizers.slsqp.SLSQP object at 0x7e9e54299810> <qiskit_nature.mappers.second_quantization.jordan_wigner_mapper.JordanWignerMapper object at 0x7e9e5429aa70> lda statevector_simulator 1\n"
          ]
        },
        {
          "output_type": "stream",
          "name": "stderr",
          "text": [
            "<ipython-input-14-eb8e343ad184>:17: DeprecationWarning: The class ``qiskit.algorithms.minimum_eigen_solvers.numpy_minimum_eigen_solver.NumPyMinimumEigensolver`` is deprecated as of qiskit-terra 0.24.0. It will be removed no earlier than 3 months after the release date. Instead, use the class ``qiskit.algorithms.minimum_eigensolvers.NumPyMinimumEigensolver``. See https://qisk.it/algo_migration for a migration guide.\n",
            "  numpy_solver = NumPyMinimumEigensolver()\n"
          ]
        },
        {
          "output_type": "stream",
          "name": "stdout",
          "text": [
            "device statevector_simulator\n",
            "seed 42\n"
          ]
        },
        {
          "output_type": "stream",
          "name": "stderr",
          "text": [
            "<ipython-input-14-eb8e343ad184>:62: DeprecationWarning: The class ``qiskit.utils.quantum_instance.QuantumInstance`` is deprecated as of qiskit-terra 0.24.0. It will be removed no earlier than 3 months after the release date. For code migration guidelines, visit https://qisk.it/qi_migration.\n",
            "  qi = QuantumInstance(device, seed_transpiler=seed, seed_simulator=seed)\n",
            "<ipython-input-14-eb8e343ad184>:65: DeprecationWarning: The class ``qiskit.algorithms.minimum_eigen_solvers.vqe.VQE`` is deprecated as of qiskit-terra 0.24.0. It will be removed no earlier than 3 months after the release date. Instead, use the class ``qiskit.algorithms.minimum_eigensolvers.VQE``. See https://qisk.it/algo_migration for a migration guide.\n",
            "  vqe = VQE(ansatz, optimizer=optimizer, quantum_instance=qi,callback=store_intermediate_result)\n"
          ]
        },
        {
          "output_type": "stream",
          "name": "stdout",
          "text": [
            "(8.5066017987e-08+0j)\n",
            "VQE Energy Result\n",
            "=== GROUND STATE ENERGY ===\n",
            " \n",
            "* Electronic ground state energy (Hartree): -828.758905639252\n",
            "  - computed part:      -0.727676985568\n",
            "  - ActiveSpaceTransformer extracted energy part: -828.031228653685\n",
            "~ Nuclear repulsion energy (Hartree): 106.218168150552\n",
            "> Total ground state energy (Hartree): -722.540737488701\n",
            " \n",
            "=== MEASURED OBSERVABLES ===\n",
            " \n",
            "  0:  # Particles: 2.000 S: 0.618 S^2: 1.000 M: 0.000\n",
            " \n",
            "=== DIPOLE MOMENTS ===\n",
            " \n",
            "~ Nuclear dipole moment (a.u.): [-139.21936841  72.34588319  0.0]\n",
            " \n",
            "  0: \n",
            "  * Electronic dipole moment (a.u.): [-135.60019151  70.62072636  0.00017354]\n",
            "    - computed part:      [-7.08994735  3.84002056  0.00017354]\n",
            "    - ActiveSpaceTransformer extracted energy part: [-128.51024416  66.7807058  0.0]\n",
            "  > Dipole moment (a.u.): [-3.6191769  1.72515683  -0.00017354]  Total: 4.0093151\n",
            "                 (debye): [-9.19902925  4.38491088  -0.00044108]  Total: 10.19066154\n",
            " \n",
            "Numpy Energy Result\n",
            "=== GROUND STATE ENERGY ===\n",
            " \n",
            "* Electronic ground state energy (Hartree): -828.793074556763\n",
            "  - computed part:      -0.761845903077\n",
            "  - ActiveSpaceTransformer extracted energy part: -828.031228653685\n",
            "~ Nuclear repulsion energy (Hartree): 106.218168150552\n",
            "> Total ground state energy (Hartree): -722.574906406211\n",
            " \n",
            "=== MEASURED OBSERVABLES ===\n",
            " \n",
            "  0:  # Particles: 2.000 S: 1.000 S^2: 2.000 M: 0.135\n",
            " \n",
            "=== DIPOLE MOMENTS ===\n",
            " \n",
            "~ Nuclear dipole moment (a.u.): [-139.21936841  72.34588319  0.0]\n",
            " \n",
            "  0: \n",
            "  * Electronic dipole moment (a.u.): [-135.54775199  70.75191569  0.0]\n",
            "    - computed part:      [-7.03750783  3.97120989  0.0]\n",
            "    - ActiveSpaceTransformer extracted energy part: [-128.51024416  66.7807058  0.0]\n",
            "  > Dipole moment (a.u.): [-3.67161642  1.5939675  0.0]  Total: 4.00268654\n",
            "                 (debye): [-9.33231719  4.05146088  0.0]  Total: 10.17381342\n",
            " \n",
            "Al 631g MethodType.RKS <qiskit.algorithms.optimizers.slsqp.SLSQP object at 0x7e9e54299810> <qiskit_nature.mappers.second_quantization.jordan_wigner_mapper.JordanWignerMapper object at 0x7e9e5429aa70> lda statevector_simulator 1\n"
          ]
        },
        {
          "output_type": "stream",
          "name": "stderr",
          "text": [
            "<ipython-input-14-eb8e343ad184>:17: DeprecationWarning: The class ``qiskit.algorithms.minimum_eigen_solvers.numpy_minimum_eigen_solver.NumPyMinimumEigensolver`` is deprecated as of qiskit-terra 0.24.0. It will be removed no earlier than 3 months after the release date. Instead, use the class ``qiskit.algorithms.minimum_eigensolvers.NumPyMinimumEigensolver``. See https://qisk.it/algo_migration for a migration guide.\n",
            "  numpy_solver = NumPyMinimumEigensolver()\n"
          ]
        },
        {
          "output_type": "stream",
          "name": "stdout",
          "text": [
            "device statevector_simulator\n",
            "seed 42\n"
          ]
        },
        {
          "output_type": "stream",
          "name": "stderr",
          "text": [
            "<ipython-input-14-eb8e343ad184>:62: DeprecationWarning: The class ``qiskit.utils.quantum_instance.QuantumInstance`` is deprecated as of qiskit-terra 0.24.0. It will be removed no earlier than 3 months after the release date. For code migration guidelines, visit https://qisk.it/qi_migration.\n",
            "  qi = QuantumInstance(device, seed_transpiler=seed, seed_simulator=seed)\n",
            "<ipython-input-14-eb8e343ad184>:65: DeprecationWarning: The class ``qiskit.algorithms.minimum_eigen_solvers.vqe.VQE`` is deprecated as of qiskit-terra 0.24.0. It will be removed no earlier than 3 months after the release date. Instead, use the class ``qiskit.algorithms.minimum_eigensolvers.VQE``. See https://qisk.it/algo_migration for a migration guide.\n",
            "  vqe = VQE(ansatz, optimizer=optimizer, quantum_instance=qi,callback=store_intermediate_result)\n"
          ]
        },
        {
          "output_type": "stream",
          "name": "stdout",
          "text": [
            "(8.5066017987e-08+0j)\n",
            "VQE Energy Result\n",
            "=== GROUND STATE ENERGY ===\n",
            " \n",
            "* Electronic ground state energy (Hartree): -831.820030932327\n",
            "  - computed part:      -1.371347540726\n",
            "  - ActiveSpaceTransformer extracted energy part: -830.448683391601\n",
            "~ Nuclear repulsion energy (Hartree): 106.218168150552\n",
            "> Total ground state energy (Hartree): -725.601862781775\n",
            " \n",
            "=== MEASURED OBSERVABLES ===\n",
            " \n",
            "  0:  # Particles: 4.000 S: 0.511 S^2: 0.772 M: 0.000\n",
            " \n",
            "=== DIPOLE MOMENTS ===\n",
            " \n",
            "~ Nuclear dipole moment (a.u.): [-139.21936841  72.34588319  0.0]\n",
            " \n",
            "  0: \n",
            "  * Electronic dipole moment (a.u.): [-142.79164438  74.1497164  -0.00024658]\n",
            "    - computed part:      [-14.28146428  7.36857171  -0.00024658]\n",
            "    - ActiveSpaceTransformer extracted energy part: [-128.5101801  66.78114469  0.0]\n",
            "  > Dipole moment (a.u.): [3.57227597  -1.80383321  0.00024658]  Total: 4.0018708\n",
            "                 (debye): [9.07981899  -4.58488626  0.00062674]  Total: 10.17174003\n",
            " \n",
            "Numpy Energy Result\n",
            "=== GROUND STATE ENERGY ===\n",
            " \n",
            "* Electronic ground state energy (Hartree): -831.821509811015\n",
            "  - computed part:      -1.372826419414\n",
            "  - ActiveSpaceTransformer extracted energy part: -830.448683391602\n",
            "~ Nuclear repulsion energy (Hartree): 106.218168150552\n",
            "> Total ground state energy (Hartree): -725.603341660464\n",
            " \n",
            "=== MEASURED OBSERVABLES ===\n",
            " \n",
            "  0:  # Particles: 4.000 S: 0.000 S^2: 0.000 M: 0.000\n",
            " \n",
            "=== DIPOLE MOMENTS ===\n",
            " \n",
            "~ Nuclear dipole moment (a.u.): [-139.21936841  72.34588319  0.0]\n",
            " \n",
            "  0: \n",
            "  * Electronic dipole moment (a.u.): [-142.76671451  74.18271849  0.0]\n",
            "    - computed part:      [-14.25653441  7.4015738  0.0]\n",
            "    - ActiveSpaceTransformer extracted energy part: [-128.5101801  66.78114469  0.0]\n",
            "  > Dipole moment (a.u.): [3.5473461  -1.8368353  0.0]  Total: 3.99470003\n",
            "                 (debye): [9.01645359  -4.66876921  0.0]  Total: 10.15351374\n",
            " \n",
            "Al lanl2dz MethodType.RKS <qiskit.algorithms.optimizers.slsqp.SLSQP object at 0x7e9e54299810> <qiskit_nature.mappers.second_quantization.jordan_wigner_mapper.JordanWignerMapper object at 0x7e9e5429aa70> lda statevector_simulator 1\n"
          ]
        },
        {
          "output_type": "stream",
          "name": "stderr",
          "text": [
            "<ipython-input-14-eb8e343ad184>:17: DeprecationWarning: The class ``qiskit.algorithms.minimum_eigen_solvers.numpy_minimum_eigen_solver.NumPyMinimumEigensolver`` is deprecated as of qiskit-terra 0.24.0. It will be removed no earlier than 3 months after the release date. Instead, use the class ``qiskit.algorithms.minimum_eigensolvers.NumPyMinimumEigensolver``. See https://qisk.it/algo_migration for a migration guide.\n",
            "  numpy_solver = NumPyMinimumEigensolver()\n"
          ]
        },
        {
          "output_type": "stream",
          "name": "stdout",
          "text": [
            "device statevector_simulator\n",
            "seed 42\n"
          ]
        },
        {
          "output_type": "stream",
          "name": "stderr",
          "text": [
            "<ipython-input-14-eb8e343ad184>:62: DeprecationWarning: The class ``qiskit.utils.quantum_instance.QuantumInstance`` is deprecated as of qiskit-terra 0.24.0. It will be removed no earlier than 3 months after the release date. For code migration guidelines, visit https://qisk.it/qi_migration.\n",
            "  qi = QuantumInstance(device, seed_transpiler=seed, seed_simulator=seed)\n",
            "<ipython-input-14-eb8e343ad184>:65: DeprecationWarning: The class ``qiskit.algorithms.minimum_eigen_solvers.vqe.VQE`` is deprecated as of qiskit-terra 0.24.0. It will be removed no earlier than 3 months after the release date. Instead, use the class ``qiskit.algorithms.minimum_eigensolvers.VQE``. See https://qisk.it/algo_migration for a migration guide.\n",
            "  vqe = VQE(ansatz, optimizer=optimizer, quantum_instance=qi,callback=store_intermediate_result)\n"
          ]
        },
        {
          "output_type": "stream",
          "name": "stdout",
          "text": [
            "(8.5066017987e-08+0j)\n",
            "VQE Energy Result\n",
            "=== GROUND STATE ENERGY ===\n",
            " \n",
            "* Electronic ground state energy (Hartree): -248.007026437908\n",
            "  - computed part:      -1.303106791901\n",
            "  - ActiveSpaceTransformer extracted energy part: -246.703919646007\n",
            "~ Nuclear repulsion energy (Hartree): 106.218168150552\n",
            "> Total ground state energy (Hartree): -141.788858287356\n",
            " \n",
            "=== MEASURED OBSERVABLES ===\n",
            " \n",
            "  0:  # Particles: 4.000 S: 1.000 S^2: 2.000 M: -1.000\n",
            " \n",
            "=== DIPOLE MOMENTS ===\n",
            " \n",
            "~ Nuclear dipole moment (a.u.): [-139.21936841  72.34588319  0.0]\n",
            " \n",
            "  0: \n",
            "  * Electronic dipole moment (a.u.): [-141.72729882  74.38712216  -0.0081244]\n",
            "    - computed part:      [-13.34150076  7.56574241  -0.00747228]\n",
            "    - ActiveSpaceTransformer extracted energy part: [-128.38579806  66.82137974  -0.00065211]\n",
            "  > Dipole moment (a.u.): [2.50793041  -2.04123897  0.0081244]  Total: 3.23364151\n",
            "                 (debye): [6.37452266  -5.18831145  0.02065016]  Total: 8.21909613\n",
            " \n",
            "Numpy Energy Result\n",
            "=== GROUND STATE ENERGY ===\n",
            " \n",
            "* Electronic ground state energy (Hartree): -247.961357361275\n",
            "  - computed part:      -1.262402341192\n",
            "  - ActiveSpaceTransformer extracted energy part: -246.698955020083\n",
            "~ Nuclear repulsion energy (Hartree): 106.218168150552\n",
            "> Total ground state energy (Hartree): -141.743189210723\n",
            " \n",
            "=== MEASURED OBSERVABLES ===\n",
            " \n",
            "  0:  # Particles: 4.000 S: 0.000 S^2: 0.000 M: 0.000\n",
            " \n",
            "=== DIPOLE MOMENTS ===\n",
            " \n",
            "~ Nuclear dipole moment (a.u.): [-139.21936841  72.34588319  0.0]\n",
            " \n",
            "  0: \n",
            "  * Electronic dipole moment (a.u.): [-137.61682323  77.63252229  -0.00020869]\n",
            "    - computed part:      [-9.48703142  10.72205833  0.01000846]\n",
            "    - ActiveSpaceTransformer extracted energy part: [-128.12979181  66.91046396  -0.01021714]\n",
            "  > Dipole moment (a.u.): [-1.60254518  -5.2866391  0.00020869]  Total: 5.52419262\n",
            "                 (debye): [-4.07326317  -13.43729502  0.00053043]  Total: 14.04109577\n",
            " \n"
          ]
        }
      ]
    },
    {
      "cell_type": "code",
      "source": [
        "# Record the end time\n",
        "end_time = time.time()\n",
        "\n",
        "# Calculate the duration\n",
        "duration = end_time - start_time\n",
        "\n",
        "# Print the duration\n",
        "print(\"Job took {:.2f} seconds to run.\".format(duration))"
      ],
      "metadata": {
        "colab": {
          "base_uri": "https://localhost:8080/"
        },
        "id": "K981LCLgEmuk",
        "outputId": "ffee7d6d-6710-4576-88fc-2f479289570b"
      },
      "execution_count": 15,
      "outputs": [
        {
          "output_type": "stream",
          "name": "stdout",
          "text": [
            "Job took 362.44 seconds to run.\n"
          ]
        }
      ]
    },
    {
      "cell_type": "code",
      "source": [
        "start_time = time.time()"
      ],
      "metadata": {
        "id": "9lfnbJyREmq6"
      },
      "execution_count": 16,
      "outputs": []
    },
    {
      "cell_type": "code",
      "source": [
        "def get_qubit_op(\n",
        "    molecule,\n",
        "    basis,\n",
        "    functional,\n",
        "    method,\n",
        "    driver_type= ElectronicStructureDriverType.PYSCF,\n",
        "    mapper= JordanWignerMapper()):\n",
        "\n",
        "  driver=ElectronicStructureMoleculeDriver(molecule, basis, method,driver_type)\n",
        "  properties = driver.run()\n",
        "  problem = ElectronicStructureProblem(driver)\n",
        "\n",
        "  second_q_ops = problem.second_q_ops()\n",
        "  second_q_ops = list(second_q_ops.values()) #list of second quantized operators\n",
        "  hamiltonian=second_q_ops[0]\n",
        "\n",
        "  numpy_solver = NumPyMinimumEigensolver()\n",
        "  tmp = properties.get_property('ParticleNumber')\n",
        "  alpha_occ=tmp.occupation_alpha\n",
        "  beta_occ=tmp.occupation_beta\n",
        "\n",
        "  mo_considered=3\n",
        "  #active and inactive space has to be even, non-magnetic\n",
        "\n",
        "  first_index = min(np.where(alpha_occ<1)[0][0],np.where(beta_occ<1)[0][0])\n",
        "\n",
        "  orb_act = np.arange(first_index-mo_considered,first_index)+1\n",
        "\n",
        "  transformer= ActiveSpaceTransformer(num_electrons=mo_considered+1, num_molecular_orbitals=len(orb_act), active_orbitals=orb_act)\n",
        "  problem_reduced = ElectronicStructureProblem(driver, [transformer])\n",
        "  second_q_ops_reduced = problem_reduced.second_q_ops()\n",
        "\n",
        "  second_q_ops_reduced = list(second_q_ops_reduced.values())\n",
        "  hamiltonian_reduced = second_q_ops_reduced[0]\n",
        "\n",
        "  # mapper = JordanWignerMapper()\n",
        "  converter = QubitConverter(mapper=mapper)\n",
        "  qubit_op = converter.convert(hamiltonian_reduced)\n",
        "\n",
        "  res1={}\n",
        "  res1['qubit_op']=qubit_op\n",
        "  res1['converter']=converter\n",
        "  res1['problem_reduced']=problem_reduced\n",
        "  res1['numpy_solver']=numpy_solver\n",
        "  return res1 #qubit_op, converter, problem_reduced\n",
        "\n",
        "def get_energy(optimizer='',device='',qubit_op='',seed='42', reps=1):\n",
        "  #seed = 42\n",
        "  counts = []\n",
        "  values = []\n",
        "\n",
        "\n",
        "  def store_intermediate_result(eval_count, parameters, mean, std):\n",
        "    counts.append(eval_count)\n",
        "    values.append(mean)\n",
        "\n",
        "  algorithm_globals.random_seed = seed\n",
        "  np.random.seed(seed)\n",
        "  print('device',device)\n",
        "  print('seed',seed)\n",
        "\n",
        "  qi = QuantumInstance(device, seed_transpiler=seed, seed_simulator=seed)\n",
        "  n_qubits = qubit_op.num_qubits\n",
        "  ansatz = QuantumCircuitLibrary(n_qubits=n_qubits, reps=reps).circuit6()\n",
        "  vqe = VQE(ansatz, optimizer=optimizer, quantum_instance=qi,callback=store_intermediate_result)\n",
        "  result = vqe.compute_minimum_eigenvalue(operator=qubit_op)\n",
        "\n",
        "\n",
        "  eigenvalue = result.eigenvalue\n",
        "  # return eigenvalue, vqe, qi\n",
        "\n",
        "  res={}\n",
        "  res['eigenvalue']=eigenvalue\n",
        "  res['vqe']=vqe\n",
        "  res['qi']=qi\n",
        "  return res\n",
        "\n",
        "elements=['Al']\n",
        "basis=['631g','sto3g', '321g', 'sto6g', '631g','lanl2dz']\n",
        "method=[MethodType.RKS]\n",
        "#driver_type=[]\n",
        "optimizer=[SLSQP(maxiter=1000)]\n",
        "mapper=[JordanWignerMapper()]\n",
        "functionals=['lda']\n",
        "devices=[Aer.get_backend('statevector_simulator')]\n",
        "reps_list = [1]\n",
        "mem={}\n",
        "for i in elements:\n",
        "  for j in basis:\n",
        "    for k in method:\n",
        "      #for l in driver_type:\n",
        "        for m in optimizer:\n",
        "          for n in mapper:\n",
        "            for o in functionals:\n",
        "              for p in devices:\n",
        "                for reps in reps_list:\n",
        "                  print(i,j,k,m,n,o,p,reps)\n",
        "\n",
        "                  res1=get_qubit_op(molecule=molecule,basis=j,mapper=n,functional=o,method=k)\n",
        "                  res=get_energy(optimizer=m,device=p,qubit_op=res1['qubit_op'],seed=42)\n",
        "                  print(res['eigenvalue'])\n",
        "\n",
        "                  #GroundStateEigensolver\n",
        "                  print(\"VQE Energy Result\")\n",
        "                  solver =GroundStateEigensolver(res1['converter'], res['vqe'])\n",
        "                  result=solver.solve(res1['problem_reduced'])\n",
        "                  print(result)\n",
        "\n",
        "                  #numpy\n",
        "                  print(\"Numpy Energy Result\")\n",
        "                  solver =GroundStateEigensolver(res1['converter'], res1['numpy_solver'])\n",
        "                  result=solver.solve(res1['problem_reduced'])\n",
        "                  print(result)\n",
        "\n",
        "                  mem[i,j,k,m,n,o,p,reps]= {\n",
        "                      'eigenvalue': res['eigenvalue'],\n",
        "                      'vqe': res['vqe'],\n",
        "                      'qi': res['qi'],\n",
        "                      'converter': res1['converter'],\n",
        "                      'problem_reduced': res1['problem_reduced']\n",
        "                     }"
      ],
      "metadata": {
        "colab": {
          "base_uri": "https://localhost:8080/"
        },
        "id": "5k8EQCP2DlaQ",
        "outputId": "ebe3e815-daf7-4bf3-f77c-102b4f1d19e5"
      },
      "execution_count": 17,
      "outputs": [
        {
          "output_type": "stream",
          "name": "stdout",
          "text": [
            "Al 631g MethodType.RKS <qiskit.algorithms.optimizers.slsqp.SLSQP object at 0x7e9e542b5ba0> <qiskit_nature.mappers.second_quantization.jordan_wigner_mapper.JordanWignerMapper object at 0x7e9e542b4670> lda statevector_simulator 1\n"
          ]
        },
        {
          "output_type": "stream",
          "name": "stderr",
          "text": [
            "<ipython-input-17-eb8e343ad184>:17: DeprecationWarning: The class ``qiskit.algorithms.minimum_eigen_solvers.numpy_minimum_eigen_solver.NumPyMinimumEigensolver`` is deprecated as of qiskit-terra 0.24.0. It will be removed no earlier than 3 months after the release date. Instead, use the class ``qiskit.algorithms.minimum_eigensolvers.NumPyMinimumEigensolver``. See https://qisk.it/algo_migration for a migration guide.\n",
            "  numpy_solver = NumPyMinimumEigensolver()\n"
          ]
        },
        {
          "output_type": "stream",
          "name": "stdout",
          "text": [
            "device statevector_simulator\n",
            "seed 42\n"
          ]
        },
        {
          "output_type": "stream",
          "name": "stderr",
          "text": [
            "<ipython-input-17-eb8e343ad184>:62: DeprecationWarning: The class ``qiskit.utils.quantum_instance.QuantumInstance`` is deprecated as of qiskit-terra 0.24.0. It will be removed no earlier than 3 months after the release date. For code migration guidelines, visit https://qisk.it/qi_migration.\n",
            "  qi = QuantumInstance(device, seed_transpiler=seed, seed_simulator=seed)\n",
            "<ipython-input-17-eb8e343ad184>:65: DeprecationWarning: The class ``qiskit.algorithms.minimum_eigen_solvers.vqe.VQE`` is deprecated as of qiskit-terra 0.24.0. It will be removed no earlier than 3 months after the release date. Instead, use the class ``qiskit.algorithms.minimum_eigensolvers.VQE``. See https://qisk.it/algo_migration for a migration guide.\n",
            "  vqe = VQE(ansatz, optimizer=optimizer, quantum_instance=qi,callback=store_intermediate_result)\n"
          ]
        },
        {
          "output_type": "stream",
          "name": "stdout",
          "text": [
            "(8.5066017987e-08+0j)\n",
            "VQE Energy Result\n",
            "=== GROUND STATE ENERGY ===\n",
            " \n",
            "* Electronic ground state energy (Hartree): -831.820030943739\n",
            "  - computed part:      -1.371347552137\n",
            "  - ActiveSpaceTransformer extracted energy part: -830.448683391601\n",
            "~ Nuclear repulsion energy (Hartree): 106.218168150552\n",
            "> Total ground state energy (Hartree): -725.601862793187\n",
            " \n",
            "=== MEASURED OBSERVABLES ===\n",
            " \n",
            "  0:  # Particles: 4.000 S: 0.511 S^2: 0.771 M: 0.000\n",
            " \n",
            "=== DIPOLE MOMENTS ===\n",
            " \n",
            "~ Nuclear dipole moment (a.u.): [-139.21936841  72.34588319  0.0]\n",
            " \n",
            "  0: \n",
            "  * Electronic dipole moment (a.u.): [-142.79169612  74.14970555  -0.00023924]\n",
            "    - computed part:      [-14.28151602  7.36856086  -0.00023924]\n",
            "    - ActiveSpaceTransformer extracted energy part: [-128.5101801  66.78114469  0.0]\n",
            "  > Dipole moment (a.u.): [3.57232771  -1.80382236  0.00023924]  Total: 4.0019121\n",
            "                 (debye): [9.07995051  -4.58485868  0.00060809]  Total: 10.171845\n",
            " \n",
            "Numpy Energy Result\n",
            "=== GROUND STATE ENERGY ===\n",
            " \n",
            "* Electronic ground state energy (Hartree): -831.821509811016\n",
            "  - computed part:      -1.372826419414\n",
            "  - ActiveSpaceTransformer extracted energy part: -830.448683391602\n",
            "~ Nuclear repulsion energy (Hartree): 106.218168150552\n",
            "> Total ground state energy (Hartree): -725.603341660464\n",
            " \n",
            "=== MEASURED OBSERVABLES ===\n",
            " \n",
            "  0:  # Particles: 4.000 S: 0.000 S^2: 0.000 M: 0.000\n",
            " \n",
            "=== DIPOLE MOMENTS ===\n",
            " \n",
            "~ Nuclear dipole moment (a.u.): [-139.21936841  72.34588319  0.0]\n",
            " \n",
            "  0: \n",
            "  * Electronic dipole moment (a.u.): [-142.76671451  74.18271849  0.0]\n",
            "    - computed part:      [-14.25653441  7.4015738  0.0]\n",
            "    - ActiveSpaceTransformer extracted energy part: [-128.5101801  66.78114469  0.0]\n",
            "  > Dipole moment (a.u.): [3.5473461  -1.8368353  0.0]  Total: 3.99470003\n",
            "                 (debye): [9.01645359  -4.66876921  0.0]  Total: 10.15351374\n",
            " \n",
            "Al sto3g MethodType.RKS <qiskit.algorithms.optimizers.slsqp.SLSQP object at 0x7e9e542b5ba0> <qiskit_nature.mappers.second_quantization.jordan_wigner_mapper.JordanWignerMapper object at 0x7e9e542b4670> lda statevector_simulator 1\n"
          ]
        },
        {
          "output_type": "stream",
          "name": "stderr",
          "text": [
            "<ipython-input-17-eb8e343ad184>:17: DeprecationWarning: The class ``qiskit.algorithms.minimum_eigen_solvers.numpy_minimum_eigen_solver.NumPyMinimumEigensolver`` is deprecated as of qiskit-terra 0.24.0. It will be removed no earlier than 3 months after the release date. Instead, use the class ``qiskit.algorithms.minimum_eigensolvers.NumPyMinimumEigensolver``. See https://qisk.it/algo_migration for a migration guide.\n",
            "  numpy_solver = NumPyMinimumEigensolver()\n"
          ]
        },
        {
          "output_type": "stream",
          "name": "stdout",
          "text": [
            "device statevector_simulator\n",
            "seed 42\n"
          ]
        },
        {
          "output_type": "stream",
          "name": "stderr",
          "text": [
            "<ipython-input-17-eb8e343ad184>:62: DeprecationWarning: The class ``qiskit.utils.quantum_instance.QuantumInstance`` is deprecated as of qiskit-terra 0.24.0. It will be removed no earlier than 3 months after the release date. For code migration guidelines, visit https://qisk.it/qi_migration.\n",
            "  qi = QuantumInstance(device, seed_transpiler=seed, seed_simulator=seed)\n",
            "<ipython-input-17-eb8e343ad184>:65: DeprecationWarning: The class ``qiskit.algorithms.minimum_eigen_solvers.vqe.VQE`` is deprecated as of qiskit-terra 0.24.0. It will be removed no earlier than 3 months after the release date. Instead, use the class ``qiskit.algorithms.minimum_eigensolvers.VQE``. See https://qisk.it/algo_migration for a migration guide.\n",
            "  vqe = VQE(ansatz, optimizer=optimizer, quantum_instance=qi,callback=store_intermediate_result)\n"
          ]
        },
        {
          "output_type": "stream",
          "name": "stdout",
          "text": [
            "(8.5066017987e-08+0j)\n",
            "VQE Energy Result\n",
            "=== GROUND STATE ENERGY ===\n",
            " \n",
            "* Electronic ground state energy (Hartree): -822.893419520581\n",
            "  - computed part:      -0.731268771745\n",
            "  - ActiveSpaceTransformer extracted energy part: -822.162150748836\n",
            "~ Nuclear repulsion energy (Hartree): 106.218168150552\n",
            "> Total ground state energy (Hartree): -716.675251370029\n",
            " \n",
            "=== MEASURED OBSERVABLES ===\n",
            " \n",
            "  0:  # Particles: 2.000 S: 0.618 S^2: 1.000 M: 0.000\n",
            " \n",
            "=== DIPOLE MOMENTS ===\n",
            " \n",
            "~ Nuclear dipole moment (a.u.): [-139.21936841  72.34588319  0.0]\n",
            " \n",
            "  0: \n",
            "  * Electronic dipole moment (a.u.): [-135.59497104  70.63160548  0.00026454]\n",
            "    - computed part:      [-7.08474266  3.85091172  0.00026454]\n",
            "    - ActiveSpaceTransformer extracted energy part: [-128.51022838  66.78069376  0.0]\n",
            "  > Dipole moment (a.u.): [-3.62439737  1.71427771  -0.00026454]  Total: 4.00936459\n",
            "                 (debye): [-9.21229836  4.35725891  -0.00067241]  Total: 10.19078735\n",
            " \n",
            "Numpy Energy Result\n",
            "=== GROUND STATE ENERGY ===\n",
            " \n",
            "* Electronic ground state energy (Hartree): -822.926897053139\n",
            "  - computed part:      -0.764746304304\n",
            "  - ActiveSpaceTransformer extracted energy part: -822.162150748835\n",
            "~ Nuclear repulsion energy (Hartree): 106.218168150552\n",
            "> Total ground state energy (Hartree): -716.708728902588\n",
            " \n",
            "=== MEASURED OBSERVABLES ===\n",
            " \n",
            "  0:  # Particles: 2.000 S: 1.000 S^2: 2.000 M: 0.022\n",
            " \n",
            "=== DIPOLE MOMENTS ===\n",
            " \n",
            "~ Nuclear dipole moment (a.u.): [-139.21936841  72.34588319  0.0]\n",
            " \n",
            "  0: \n",
            "  * Electronic dipole moment (a.u.): [-135.53589431  70.77412326  0.0]\n",
            "    - computed part:      [-7.02566593  3.9934295  0.0]\n",
            "    - ActiveSpaceTransformer extracted energy part: [-128.51022838  66.78069376  0.0]\n",
            "  > Dipole moment (a.u.): [-3.6834741  1.57175993  0.0]  Total: 4.00479846\n",
            "                 (debye): [-9.36245641  3.99501488  0.0]  Total: 10.1791814\n",
            " \n",
            "Al 321g MethodType.RKS <qiskit.algorithms.optimizers.slsqp.SLSQP object at 0x7e9e542b5ba0> <qiskit_nature.mappers.second_quantization.jordan_wigner_mapper.JordanWignerMapper object at 0x7e9e542b4670> lda statevector_simulator 1\n"
          ]
        },
        {
          "output_type": "stream",
          "name": "stderr",
          "text": [
            "<ipython-input-17-eb8e343ad184>:17: DeprecationWarning: The class ``qiskit.algorithms.minimum_eigen_solvers.numpy_minimum_eigen_solver.NumPyMinimumEigensolver`` is deprecated as of qiskit-terra 0.24.0. It will be removed no earlier than 3 months after the release date. Instead, use the class ``qiskit.algorithms.minimum_eigensolvers.NumPyMinimumEigensolver``. See https://qisk.it/algo_migration for a migration guide.\n",
            "  numpy_solver = NumPyMinimumEigensolver()\n"
          ]
        },
        {
          "output_type": "stream",
          "name": "stdout",
          "text": [
            "device statevector_simulator\n",
            "seed 42\n"
          ]
        },
        {
          "output_type": "stream",
          "name": "stderr",
          "text": [
            "<ipython-input-17-eb8e343ad184>:62: DeprecationWarning: The class ``qiskit.utils.quantum_instance.QuantumInstance`` is deprecated as of qiskit-terra 0.24.0. It will be removed no earlier than 3 months after the release date. For code migration guidelines, visit https://qisk.it/qi_migration.\n",
            "  qi = QuantumInstance(device, seed_transpiler=seed, seed_simulator=seed)\n",
            "<ipython-input-17-eb8e343ad184>:65: DeprecationWarning: The class ``qiskit.algorithms.minimum_eigen_solvers.vqe.VQE`` is deprecated as of qiskit-terra 0.24.0. It will be removed no earlier than 3 months after the release date. Instead, use the class ``qiskit.algorithms.minimum_eigensolvers.VQE``. See https://qisk.it/algo_migration for a migration guide.\n",
            "  vqe = VQE(ansatz, optimizer=optimizer, quantum_instance=qi,callback=store_intermediate_result)\n"
          ]
        },
        {
          "output_type": "stream",
          "name": "stdout",
          "text": [
            "(8.5066017987e-08+0j)\n",
            "VQE Energy Result\n",
            "=== GROUND STATE ENERGY ===\n",
            " \n",
            "* Electronic ground state energy (Hartree): -827.912667587828\n",
            "  - computed part:      -1.37819398821\n",
            "  - ActiveSpaceTransformer extracted energy part: -826.534473599618\n",
            "~ Nuclear repulsion energy (Hartree): 106.218168150552\n",
            "> Total ground state energy (Hartree): -721.694499437277\n",
            " \n",
            "=== MEASURED OBSERVABLES ===\n",
            " \n",
            "  0:  # Particles: 4.000 S: 0.526 S^2: 0.803 M: 0.000\n",
            " \n",
            "=== DIPOLE MOMENTS ===\n",
            " \n",
            "~ Nuclear dipole moment (a.u.): [-139.21936841  72.34588319  0.0]\n",
            " \n",
            "  0: \n",
            "  * Electronic dipole moment (a.u.): [-142.79434291  74.1394816  -0.0001498]\n",
            "    - computed part:      [-14.28446198  7.35845188  -0.0001498]\n",
            "    - ActiveSpaceTransformer extracted energy part: [-128.50988093  66.78102972  0.0]\n",
            "  > Dipole moment (a.u.): [3.5749745  -1.79359841  0.0001498]  Total: 3.99967973\n",
            "                 (debye): [9.08667796  -4.55887199  0.00038075]  Total: 10.16617088\n",
            " \n",
            "Numpy Energy Result\n",
            "=== GROUND STATE ENERGY ===\n",
            " \n",
            "* Electronic ground state energy (Hartree): -827.913682021382\n",
            "  - computed part:      -1.379208421763\n",
            "  - ActiveSpaceTransformer extracted energy part: -826.534473599618\n",
            "~ Nuclear repulsion energy (Hartree): 106.218168150552\n",
            "> Total ground state energy (Hartree): -721.69551387083\n",
            " \n",
            "=== MEASURED OBSERVABLES ===\n",
            " \n",
            "  0:  # Particles: 4.000 S: 0.000 S^2: 0.000 M: 0.000\n",
            " \n",
            "=== DIPOLE MOMENTS ===\n",
            " \n",
            "~ Nuclear dipole moment (a.u.): [-139.21936841  72.34588319  0.0]\n",
            " \n",
            "  0: \n",
            "  * Electronic dipole moment (a.u.): [-142.7689468  74.17757105  0.0]\n",
            "    - computed part:      [-14.25906587  7.39654133  0.0]\n",
            "    - ActiveSpaceTransformer extracted energy part: [-128.50988093  66.78102972  0.0]\n",
            "  > Dipole moment (a.u.): [3.54957839  -1.83168786  0.0]  Total: 3.99431936\n",
            "                 (debye): [9.02212749  -4.65568571  0.0]  Total: 10.15254618\n",
            " \n",
            "Al sto6g MethodType.RKS <qiskit.algorithms.optimizers.slsqp.SLSQP object at 0x7e9e542b5ba0> <qiskit_nature.mappers.second_quantization.jordan_wigner_mapper.JordanWignerMapper object at 0x7e9e542b4670> lda statevector_simulator 1\n"
          ]
        },
        {
          "output_type": "stream",
          "name": "stderr",
          "text": [
            "<ipython-input-17-eb8e343ad184>:17: DeprecationWarning: The class ``qiskit.algorithms.minimum_eigen_solvers.numpy_minimum_eigen_solver.NumPyMinimumEigensolver`` is deprecated as of qiskit-terra 0.24.0. It will be removed no earlier than 3 months after the release date. Instead, use the class ``qiskit.algorithms.minimum_eigensolvers.NumPyMinimumEigensolver``. See https://qisk.it/algo_migration for a migration guide.\n",
            "  numpy_solver = NumPyMinimumEigensolver()\n"
          ]
        },
        {
          "output_type": "stream",
          "name": "stdout",
          "text": [
            "device statevector_simulator\n",
            "seed 42\n"
          ]
        },
        {
          "output_type": "stream",
          "name": "stderr",
          "text": [
            "<ipython-input-17-eb8e343ad184>:62: DeprecationWarning: The class ``qiskit.utils.quantum_instance.QuantumInstance`` is deprecated as of qiskit-terra 0.24.0. It will be removed no earlier than 3 months after the release date. For code migration guidelines, visit https://qisk.it/qi_migration.\n",
            "  qi = QuantumInstance(device, seed_transpiler=seed, seed_simulator=seed)\n",
            "<ipython-input-17-eb8e343ad184>:65: DeprecationWarning: The class ``qiskit.algorithms.minimum_eigen_solvers.vqe.VQE`` is deprecated as of qiskit-terra 0.24.0. It will be removed no earlier than 3 months after the release date. Instead, use the class ``qiskit.algorithms.minimum_eigensolvers.VQE``. See https://qisk.it/algo_migration for a migration guide.\n",
            "  vqe = VQE(ansatz, optimizer=optimizer, quantum_instance=qi,callback=store_intermediate_result)\n"
          ]
        },
        {
          "output_type": "stream",
          "name": "stdout",
          "text": [
            "(8.5066017987e-08+0j)\n",
            "VQE Energy Result\n",
            "=== GROUND STATE ENERGY ===\n",
            " \n",
            "* Electronic ground state energy (Hartree): -828.75890563928\n",
            "  - computed part:      -0.727676985595\n",
            "  - ActiveSpaceTransformer extracted energy part: -828.031228653685\n",
            "~ Nuclear repulsion energy (Hartree): 106.218168150552\n",
            "> Total ground state energy (Hartree): -722.540737488728\n",
            " \n",
            "=== MEASURED OBSERVABLES ===\n",
            " \n",
            "  0:  # Particles: 2.000 S: 0.618 S^2: 1.000 M: 0.000\n",
            " \n",
            "=== DIPOLE MOMENTS ===\n",
            " \n",
            "~ Nuclear dipole moment (a.u.): [-139.21936841  72.34588319  0.0]\n",
            " \n",
            "  0: \n",
            "  * Electronic dipole moment (a.u.): [-135.60019147  70.62072632  0.0001735]\n",
            "    - computed part:      [-7.08994731  3.84002052  0.0001735]\n",
            "    - ActiveSpaceTransformer extracted energy part: [-128.51024416  66.7807058  0.0]\n",
            "  > Dipole moment (a.u.): [-3.61917694  1.72515687  -0.0001735]  Total: 4.00931515\n",
            "                 (debye): [-9.19902934  4.38491098  -0.00044098]  Total: 10.19066167\n",
            " \n",
            "Numpy Energy Result\n",
            "=== GROUND STATE ENERGY ===\n",
            " \n",
            "* Electronic ground state energy (Hartree): -828.793074556762\n",
            "  - computed part:      -0.761845903078\n",
            "  - ActiveSpaceTransformer extracted energy part: -828.031228653685\n",
            "~ Nuclear repulsion energy (Hartree): 106.218168150552\n",
            "> Total ground state energy (Hartree): -722.574906406211\n",
            " \n",
            "=== MEASURED OBSERVABLES ===\n",
            " \n",
            "  0:  # Particles: 2.000 S: 1.000 S^2: 2.000 M: 0.232\n",
            " \n",
            "=== DIPOLE MOMENTS ===\n",
            " \n",
            "~ Nuclear dipole moment (a.u.): [-139.21936841  72.34588319  0.0]\n",
            " \n",
            "  0: \n",
            "  * Electronic dipole moment (a.u.): [-135.54775199  70.75191569  0.0]\n",
            "    - computed part:      [-7.03750783  3.97120989  0.0]\n",
            "    - ActiveSpaceTransformer extracted energy part: [-128.51024416  66.7807058  0.0]\n",
            "  > Dipole moment (a.u.): [-3.67161642  1.5939675  0.0]  Total: 4.00268654\n",
            "                 (debye): [-9.33231719  4.05146088  0.0]  Total: 10.17381342\n",
            " \n",
            "Al 631g MethodType.RKS <qiskit.algorithms.optimizers.slsqp.SLSQP object at 0x7e9e542b5ba0> <qiskit_nature.mappers.second_quantization.jordan_wigner_mapper.JordanWignerMapper object at 0x7e9e542b4670> lda statevector_simulator 1\n"
          ]
        },
        {
          "output_type": "stream",
          "name": "stderr",
          "text": [
            "<ipython-input-17-eb8e343ad184>:17: DeprecationWarning: The class ``qiskit.algorithms.minimum_eigen_solvers.numpy_minimum_eigen_solver.NumPyMinimumEigensolver`` is deprecated as of qiskit-terra 0.24.0. It will be removed no earlier than 3 months after the release date. Instead, use the class ``qiskit.algorithms.minimum_eigensolvers.NumPyMinimumEigensolver``. See https://qisk.it/algo_migration for a migration guide.\n",
            "  numpy_solver = NumPyMinimumEigensolver()\n"
          ]
        },
        {
          "output_type": "stream",
          "name": "stdout",
          "text": [
            "device statevector_simulator\n",
            "seed 42\n"
          ]
        },
        {
          "output_type": "stream",
          "name": "stderr",
          "text": [
            "<ipython-input-17-eb8e343ad184>:62: DeprecationWarning: The class ``qiskit.utils.quantum_instance.QuantumInstance`` is deprecated as of qiskit-terra 0.24.0. It will be removed no earlier than 3 months after the release date. For code migration guidelines, visit https://qisk.it/qi_migration.\n",
            "  qi = QuantumInstance(device, seed_transpiler=seed, seed_simulator=seed)\n",
            "<ipython-input-17-eb8e343ad184>:65: DeprecationWarning: The class ``qiskit.algorithms.minimum_eigen_solvers.vqe.VQE`` is deprecated as of qiskit-terra 0.24.0. It will be removed no earlier than 3 months after the release date. Instead, use the class ``qiskit.algorithms.minimum_eigensolvers.VQE``. See https://qisk.it/algo_migration for a migration guide.\n",
            "  vqe = VQE(ansatz, optimizer=optimizer, quantum_instance=qi,callback=store_intermediate_result)\n"
          ]
        },
        {
          "output_type": "stream",
          "name": "stdout",
          "text": [
            "(8.5066017987e-08+0j)\n",
            "VQE Energy Result\n",
            "=== GROUND STATE ENERGY ===\n",
            " \n",
            "* Electronic ground state energy (Hartree): -831.820031094909\n",
            "  - computed part:      -1.371347703308\n",
            "  - ActiveSpaceTransformer extracted energy part: -830.448683391601\n",
            "~ Nuclear repulsion energy (Hartree): 106.218168150552\n",
            "> Total ground state energy (Hartree): -725.601862944358\n",
            " \n",
            "=== MEASURED OBSERVABLES ===\n",
            " \n",
            "  0:  # Particles: 4.000 S: 0.511 S^2: 0.771 M: 0.000\n",
            " \n",
            "=== DIPOLE MOMENTS ===\n",
            " \n",
            "~ Nuclear dipole moment (a.u.): [-139.21936841  72.34588319  0.0]\n",
            " \n",
            "  0: \n",
            "  * Electronic dipole moment (a.u.): [-142.79125408  74.14982575  -0.00021478]\n",
            "    - computed part:      [-14.28107398  7.36868105  -0.00021478]\n",
            "    - ActiveSpaceTransformer extracted energy part: [-128.5101801  66.78114469  0.0]\n",
            "  > Dipole moment (a.u.): [3.57188567  -1.80394256  0.00021478]  Total: 4.00157169\n",
            "                 (debye): [9.07882693  -4.5851642  0.00054592]  Total: 10.17097977\n",
            " \n",
            "Numpy Energy Result\n",
            "=== GROUND STATE ENERGY ===\n",
            " \n",
            "* Electronic ground state energy (Hartree): -831.821509811015\n",
            "  - computed part:      -1.372826419414\n",
            "  - ActiveSpaceTransformer extracted energy part: -830.448683391601\n",
            "~ Nuclear repulsion energy (Hartree): 106.218168150552\n",
            "> Total ground state energy (Hartree): -725.603341660464\n",
            " \n",
            "=== MEASURED OBSERVABLES ===\n",
            " \n",
            "  0:  # Particles: 4.000 S: 0.000 S^2: 0.000 M: 0.000\n",
            " \n",
            "=== DIPOLE MOMENTS ===\n",
            " \n",
            "~ Nuclear dipole moment (a.u.): [-139.21936841  72.34588319  0.0]\n",
            " \n",
            "  0: \n",
            "  * Electronic dipole moment (a.u.): [-142.76671451  74.18271849  0.0]\n",
            "    - computed part:      [-14.25653441  7.4015738  0.0]\n",
            "    - ActiveSpaceTransformer extracted energy part: [-128.5101801  66.78114469  0.0]\n",
            "  > Dipole moment (a.u.): [3.5473461  -1.8368353  0.0]  Total: 3.99470003\n",
            "                 (debye): [9.01645359  -4.66876921  0.0]  Total: 10.15351374\n",
            " \n",
            "Al lanl2dz MethodType.RKS <qiskit.algorithms.optimizers.slsqp.SLSQP object at 0x7e9e542b5ba0> <qiskit_nature.mappers.second_quantization.jordan_wigner_mapper.JordanWignerMapper object at 0x7e9e542b4670> lda statevector_simulator 1\n"
          ]
        },
        {
          "output_type": "stream",
          "name": "stderr",
          "text": [
            "<ipython-input-17-eb8e343ad184>:17: DeprecationWarning: The class ``qiskit.algorithms.minimum_eigen_solvers.numpy_minimum_eigen_solver.NumPyMinimumEigensolver`` is deprecated as of qiskit-terra 0.24.0. It will be removed no earlier than 3 months after the release date. Instead, use the class ``qiskit.algorithms.minimum_eigensolvers.NumPyMinimumEigensolver``. See https://qisk.it/algo_migration for a migration guide.\n",
            "  numpy_solver = NumPyMinimumEigensolver()\n"
          ]
        },
        {
          "output_type": "stream",
          "name": "stdout",
          "text": [
            "device statevector_simulator\n",
            "seed 42\n"
          ]
        },
        {
          "output_type": "stream",
          "name": "stderr",
          "text": [
            "<ipython-input-17-eb8e343ad184>:62: DeprecationWarning: The class ``qiskit.utils.quantum_instance.QuantumInstance`` is deprecated as of qiskit-terra 0.24.0. It will be removed no earlier than 3 months after the release date. For code migration guidelines, visit https://qisk.it/qi_migration.\n",
            "  qi = QuantumInstance(device, seed_transpiler=seed, seed_simulator=seed)\n",
            "<ipython-input-17-eb8e343ad184>:65: DeprecationWarning: The class ``qiskit.algorithms.minimum_eigen_solvers.vqe.VQE`` is deprecated as of qiskit-terra 0.24.0. It will be removed no earlier than 3 months after the release date. Instead, use the class ``qiskit.algorithms.minimum_eigensolvers.VQE``. See https://qisk.it/algo_migration for a migration guide.\n",
            "  vqe = VQE(ansatz, optimizer=optimizer, quantum_instance=qi,callback=store_intermediate_result)\n"
          ]
        },
        {
          "output_type": "stream",
          "name": "stdout",
          "text": [
            "(8.5066017987e-08+0j)\n",
            "VQE Energy Result\n",
            "=== GROUND STATE ENERGY ===\n",
            " \n",
            "* Electronic ground state energy (Hartree): -247.938526078923\n",
            "  - computed part:      -1.239874935514\n",
            "  - ActiveSpaceTransformer extracted energy part: -246.698651143409\n",
            "~ Nuclear repulsion energy (Hartree): 106.218168150552\n",
            "> Total ground state energy (Hartree): -141.720357928372\n",
            " \n",
            "=== MEASURED OBSERVABLES ===\n",
            " \n",
            "  0:  # Particles: 4.000 S: 0.361 S^2: 0.492 M: -0.000\n",
            " \n",
            "=== DIPOLE MOMENTS ===\n",
            " \n",
            "~ Nuclear dipole moment (a.u.): [-139.21936841  72.34588319  0.0]\n",
            " \n",
            "  0: \n",
            "  * Electronic dipole moment (a.u.): [-137.42216007  77.78936866  0.00161682]\n",
            "    - computed part:      [-9.34933279  10.88587387  -0.01251853]\n",
            "    - ActiveSpaceTransformer extracted energy part: [-128.07282728  66.90349479  0.01413536]\n",
            "  > Dipole moment (a.u.): [-1.79720834  -5.44348547  -0.00161682]  Total: 5.73249461\n",
            "                 (debye): [-4.56804752  -13.83595868  -0.00410955]  Total: 14.57054658\n",
            " \n",
            "Numpy Energy Result\n",
            "=== GROUND STATE ENERGY ===\n",
            " \n",
            "* Electronic ground state energy (Hartree): -247.962358947697\n",
            "  - computed part:      -1.262541957619\n",
            "  - ActiveSpaceTransformer extracted energy part: -246.699816990078\n",
            "~ Nuclear repulsion energy (Hartree): 106.218168150552\n",
            "> Total ground state energy (Hartree): -141.744190797146\n",
            " \n",
            "=== MEASURED OBSERVABLES ===\n",
            " \n",
            "  0:  # Particles: 4.000 S: 0.000 S^2: 0.000 M: 0.000\n",
            " \n",
            "=== DIPOLE MOMENTS ===\n",
            " \n",
            "~ Nuclear dipole moment (a.u.): [-139.21936841  72.34588319  0.0]\n",
            " \n",
            "  0: \n",
            "  * Electronic dipole moment (a.u.): [-137.61941456  77.60722782  -0.00058929]\n",
            "    - computed part:      [-9.61659678  10.71089247  -0.01479798]\n",
            "    - ActiveSpaceTransformer extracted energy part: [-128.00281778  66.89633535  0.01420869]\n",
            "  > Dipole moment (a.u.): [-1.59995385  -5.26134463  0.00058929]  Total: 5.49923631\n",
            "                 (debye): [-4.06667668  -13.37300289  0.00149782]  Total: 13.97766317\n",
            " \n"
          ]
        }
      ]
    },
    {
      "cell_type": "code",
      "source": [
        "# Record the end time\n",
        "end_time = time.time()\n",
        "\n",
        "# Calculate the duration\n",
        "duration = end_time - start_time\n",
        "\n",
        "# Print the duration\n",
        "print(\"Job took {:.2f} seconds to run.\".format(duration))"
      ],
      "metadata": {
        "colab": {
          "base_uri": "https://localhost:8080/"
        },
        "id": "rvxeI7fkEoC8",
        "outputId": "1ae22e0a-b58e-4127-8d61-e66dc5030663"
      },
      "execution_count": 18,
      "outputs": [
        {
          "output_type": "stream",
          "name": "stdout",
          "text": [
            "Job took 361.44 seconds to run.\n"
          ]
        }
      ]
    },
    {
      "cell_type": "code",
      "source": [
        "start_time = time.time()"
      ],
      "metadata": {
        "id": "MzyBMsIXEn_q"
      },
      "execution_count": 19,
      "outputs": []
    },
    {
      "cell_type": "code",
      "source": [
        "def get_qubit_op(\n",
        "    molecule,\n",
        "    basis,\n",
        "    functional,\n",
        "    method,\n",
        "    driver_type= ElectronicStructureDriverType.PYSCF,\n",
        "    mapper= JordanWignerMapper()):\n",
        "\n",
        "  driver=ElectronicStructureMoleculeDriver(molecule, basis, method,driver_type)\n",
        "  properties = driver.run()\n",
        "  problem = ElectronicStructureProblem(driver)\n",
        "\n",
        "  second_q_ops = problem.second_q_ops()\n",
        "  second_q_ops = list(second_q_ops.values()) #list of second quantized operators\n",
        "  hamiltonian=second_q_ops[0]\n",
        "\n",
        "  numpy_solver = NumPyMinimumEigensolver()\n",
        "  tmp = properties.get_property('ParticleNumber')\n",
        "  alpha_occ=tmp.occupation_alpha\n",
        "  beta_occ=tmp.occupation_beta\n",
        "\n",
        "  mo_considered=3\n",
        "  #active and inactive space has to be even, non-magnetic\n",
        "\n",
        "  first_index = min(np.where(alpha_occ<1)[0][0],np.where(beta_occ<1)[0][0])\n",
        "\n",
        "  orb_act = np.arange(first_index-mo_considered,first_index)+1\n",
        "\n",
        "  transformer= ActiveSpaceTransformer(num_electrons=mo_considered+1, num_molecular_orbitals=len(orb_act), active_orbitals=orb_act)\n",
        "  problem_reduced = ElectronicStructureProblem(driver, [transformer])\n",
        "  second_q_ops_reduced = problem_reduced.second_q_ops()\n",
        "\n",
        "  second_q_ops_reduced = list(second_q_ops_reduced.values())\n",
        "  hamiltonian_reduced = second_q_ops_reduced[0]\n",
        "\n",
        "  # mapper = JordanWignerMapper()\n",
        "  converter = QubitConverter(mapper=mapper)\n",
        "  qubit_op = converter.convert(hamiltonian_reduced)\n",
        "\n",
        "  res1={}\n",
        "  res1['qubit_op']=qubit_op\n",
        "  res1['converter']=converter\n",
        "  res1['problem_reduced']=problem_reduced\n",
        "  res1['numpy_solver']=numpy_solver\n",
        "  return res1 #qubit_op, converter, problem_reduced\n",
        "\n",
        "def get_energy(optimizer='',device='',qubit_op='',seed='42', reps=1):\n",
        "  #seed = 42\n",
        "  counts = []\n",
        "  values = []\n",
        "\n",
        "\n",
        "  def store_intermediate_result(eval_count, parameters, mean, std):\n",
        "    counts.append(eval_count)\n",
        "    values.append(mean)\n",
        "\n",
        "  algorithm_globals.random_seed = seed\n",
        "  np.random.seed(seed)\n",
        "  print('device',device)\n",
        "  print('seed',seed)\n",
        "\n",
        "  qi = QuantumInstance(device, seed_transpiler=seed, seed_simulator=seed)\n",
        "  n_qubits = qubit_op.num_qubits\n",
        "  ansatz = QuantumCircuitLibrary(n_qubits=n_qubits, reps=reps).circuit6()\n",
        "  vqe = VQE(ansatz, optimizer=optimizer, quantum_instance=qi,callback=store_intermediate_result)\n",
        "  result = vqe.compute_minimum_eigenvalue(operator=qubit_op)\n",
        "\n",
        "\n",
        "  eigenvalue = result.eigenvalue\n",
        "  # return eigenvalue, vqe, qi\n",
        "\n",
        "  res={}\n",
        "  res['eigenvalue']=eigenvalue\n",
        "  res['vqe']=vqe\n",
        "  res['qi']=qi\n",
        "  return res\n",
        "\n",
        "elements=['Al']\n",
        "basis=['631g','sto3g', '321g', 'sto6g', '631g','lanl2dz']\n",
        "method=[MethodType.RKS]\n",
        "#driver_type=[]\n",
        "optimizer=[SLSQP(maxiter=1000)]\n",
        "mapper=[JordanWignerMapper()]\n",
        "functionals=['lda']\n",
        "devices=[Aer.get_backend('statevector_simulator')]\n",
        "reps_list = [1]\n",
        "mem={}\n",
        "for i in elements:\n",
        "  for j in basis:\n",
        "    for k in method:\n",
        "      #for l in driver_type:\n",
        "        for m in optimizer:\n",
        "          for n in mapper:\n",
        "            for o in functionals:\n",
        "              for p in devices:\n",
        "                for reps in reps_list:\n",
        "                  print(i,j,k,m,n,o,p,reps)\n",
        "\n",
        "                  res1=get_qubit_op(molecule=molecule,basis=j,mapper=n,functional=o,method=k)\n",
        "                  res=get_energy(optimizer=m,device=p,qubit_op=res1['qubit_op'],seed=42)\n",
        "                  print(res['eigenvalue'])\n",
        "\n",
        "                  #GroundStateEigensolver\n",
        "                  print(\"VQE Energy Result\")\n",
        "                  solver =GroundStateEigensolver(res1['converter'], res['vqe'])\n",
        "                  result=solver.solve(res1['problem_reduced'])\n",
        "                  print(result)\n",
        "\n",
        "                  #numpy\n",
        "                  print(\"Numpy Energy Result\")\n",
        "                  solver =GroundStateEigensolver(res1['converter'], res1['numpy_solver'])\n",
        "                  result=solver.solve(res1['problem_reduced'])\n",
        "                  print(result)\n",
        "\n",
        "                  mem[i,j,k,m,n,o,p,reps]= {\n",
        "                      'eigenvalue': res['eigenvalue'],\n",
        "                      'vqe': res['vqe'],\n",
        "                      'qi': res['qi'],\n",
        "                      'converter': res1['converter'],\n",
        "                      'problem_reduced': res1['problem_reduced']\n",
        "                     }"
      ],
      "metadata": {
        "colab": {
          "base_uri": "https://localhost:8080/"
        },
        "id": "uylkyJV6DmMR",
        "outputId": "5e887caf-0e2a-4ff5-98b6-2e2d2785b235"
      },
      "execution_count": 20,
      "outputs": [
        {
          "output_type": "stream",
          "name": "stdout",
          "text": [
            "Al 631g MethodType.RKS <qiskit.algorithms.optimizers.slsqp.SLSQP object at 0x7e9e54265d80> <qiskit_nature.mappers.second_quantization.jordan_wigner_mapper.JordanWignerMapper object at 0x7e9e54265cf0> lda statevector_simulator 1\n"
          ]
        },
        {
          "output_type": "stream",
          "name": "stderr",
          "text": [
            "<ipython-input-20-eb8e343ad184>:17: DeprecationWarning: The class ``qiskit.algorithms.minimum_eigen_solvers.numpy_minimum_eigen_solver.NumPyMinimumEigensolver`` is deprecated as of qiskit-terra 0.24.0. It will be removed no earlier than 3 months after the release date. Instead, use the class ``qiskit.algorithms.minimum_eigensolvers.NumPyMinimumEigensolver``. See https://qisk.it/algo_migration for a migration guide.\n",
            "  numpy_solver = NumPyMinimumEigensolver()\n"
          ]
        },
        {
          "output_type": "stream",
          "name": "stdout",
          "text": [
            "device statevector_simulator\n",
            "seed 42\n"
          ]
        },
        {
          "output_type": "stream",
          "name": "stderr",
          "text": [
            "<ipython-input-20-eb8e343ad184>:62: DeprecationWarning: The class ``qiskit.utils.quantum_instance.QuantumInstance`` is deprecated as of qiskit-terra 0.24.0. It will be removed no earlier than 3 months after the release date. For code migration guidelines, visit https://qisk.it/qi_migration.\n",
            "  qi = QuantumInstance(device, seed_transpiler=seed, seed_simulator=seed)\n",
            "<ipython-input-20-eb8e343ad184>:65: DeprecationWarning: The class ``qiskit.algorithms.minimum_eigen_solvers.vqe.VQE`` is deprecated as of qiskit-terra 0.24.0. It will be removed no earlier than 3 months after the release date. Instead, use the class ``qiskit.algorithms.minimum_eigensolvers.VQE``. See https://qisk.it/algo_migration for a migration guide.\n",
            "  vqe = VQE(ansatz, optimizer=optimizer, quantum_instance=qi,callback=store_intermediate_result)\n"
          ]
        },
        {
          "output_type": "stream",
          "name": "stdout",
          "text": [
            "(8.5066017987e-08+0j)\n",
            "VQE Energy Result\n",
            "=== GROUND STATE ENERGY ===\n",
            " \n",
            "* Electronic ground state energy (Hartree): -831.820031068331\n",
            "  - computed part:      -1.371347676729\n",
            "  - ActiveSpaceTransformer extracted energy part: -830.448683391601\n",
            "~ Nuclear repulsion energy (Hartree): 106.218168150552\n",
            "> Total ground state energy (Hartree): -725.601862917779\n",
            " \n",
            "=== MEASURED OBSERVABLES ===\n",
            " \n",
            "  0:  # Particles: 4.000 S: 0.511 S^2: 0.771 M: 0.000\n",
            " \n",
            "=== DIPOLE MOMENTS ===\n",
            " \n",
            "~ Nuclear dipole moment (a.u.): [-139.21936841  72.34588319  0.0]\n",
            " \n",
            "  0: \n",
            "  * Electronic dipole moment (a.u.): [-142.79129886  74.14981068  -0.00022326]\n",
            "    - computed part:      [-14.28111876  7.36866598  -0.00022326]\n",
            "    - ActiveSpaceTransformer extracted energy part: [-128.5101801  66.78114469  0.0]\n",
            "  > Dipole moment (a.u.): [3.57193045  -1.80392749  0.00022326]  Total: 4.00160487\n",
            "                 (debye): [9.07894075  -4.58512589  0.00056747]  Total: 10.1710641\n",
            " \n",
            "Numpy Energy Result\n",
            "=== GROUND STATE ENERGY ===\n",
            " \n",
            "* Electronic ground state energy (Hartree): -831.821509811017\n",
            "  - computed part:      -1.372826419415\n",
            "  - ActiveSpaceTransformer extracted energy part: -830.448683391601\n",
            "~ Nuclear repulsion energy (Hartree): 106.218168150552\n",
            "> Total ground state energy (Hartree): -725.603341660465\n",
            " \n",
            "=== MEASURED OBSERVABLES ===\n",
            " \n",
            "  0:  # Particles: 4.000 S: 0.000 S^2: 0.000 M: 0.000\n",
            " \n",
            "=== DIPOLE MOMENTS ===\n",
            " \n",
            "~ Nuclear dipole moment (a.u.): [-139.21936841  72.34588319  0.0]\n",
            " \n",
            "  0: \n",
            "  * Electronic dipole moment (a.u.): [-142.76671451  74.1827185  0.0]\n",
            "    - computed part:      [-14.25653441  7.4015738  0.0]\n",
            "    - ActiveSpaceTransformer extracted energy part: [-128.5101801  66.78114469  0.0]\n",
            "  > Dipole moment (a.u.): [3.5473461  -1.83683531  0.0]  Total: 3.99470003\n",
            "                 (debye): [9.01645359  -4.66876921  0.0]  Total: 10.15351374\n",
            " \n",
            "Al sto3g MethodType.RKS <qiskit.algorithms.optimizers.slsqp.SLSQP object at 0x7e9e54265d80> <qiskit_nature.mappers.second_quantization.jordan_wigner_mapper.JordanWignerMapper object at 0x7e9e54265cf0> lda statevector_simulator 1\n"
          ]
        },
        {
          "output_type": "stream",
          "name": "stderr",
          "text": [
            "<ipython-input-20-eb8e343ad184>:17: DeprecationWarning: The class ``qiskit.algorithms.minimum_eigen_solvers.numpy_minimum_eigen_solver.NumPyMinimumEigensolver`` is deprecated as of qiskit-terra 0.24.0. It will be removed no earlier than 3 months after the release date. Instead, use the class ``qiskit.algorithms.minimum_eigensolvers.NumPyMinimumEigensolver``. See https://qisk.it/algo_migration for a migration guide.\n",
            "  numpy_solver = NumPyMinimumEigensolver()\n"
          ]
        },
        {
          "output_type": "stream",
          "name": "stdout",
          "text": [
            "device statevector_simulator\n",
            "seed 42\n"
          ]
        },
        {
          "output_type": "stream",
          "name": "stderr",
          "text": [
            "<ipython-input-20-eb8e343ad184>:62: DeprecationWarning: The class ``qiskit.utils.quantum_instance.QuantumInstance`` is deprecated as of qiskit-terra 0.24.0. It will be removed no earlier than 3 months after the release date. For code migration guidelines, visit https://qisk.it/qi_migration.\n",
            "  qi = QuantumInstance(device, seed_transpiler=seed, seed_simulator=seed)\n",
            "<ipython-input-20-eb8e343ad184>:65: DeprecationWarning: The class ``qiskit.algorithms.minimum_eigen_solvers.vqe.VQE`` is deprecated as of qiskit-terra 0.24.0. It will be removed no earlier than 3 months after the release date. Instead, use the class ``qiskit.algorithms.minimum_eigensolvers.VQE``. See https://qisk.it/algo_migration for a migration guide.\n",
            "  vqe = VQE(ansatz, optimizer=optimizer, quantum_instance=qi,callback=store_intermediate_result)\n"
          ]
        },
        {
          "output_type": "stream",
          "name": "stdout",
          "text": [
            "(8.5066017987e-08+0j)\n",
            "VQE Energy Result\n",
            "=== GROUND STATE ENERGY ===\n",
            " \n",
            "* Electronic ground state energy (Hartree): -822.89341952098\n",
            "  - computed part:      -0.731268772145\n",
            "  - ActiveSpaceTransformer extracted energy part: -822.162150748835\n",
            "~ Nuclear repulsion energy (Hartree): 106.218168150552\n",
            "> Total ground state energy (Hartree): -716.675251370428\n",
            " \n",
            "=== MEASURED OBSERVABLES ===\n",
            " \n",
            "  0:  # Particles: 2.000 S: 0.618 S^2: 1.000 M: 0.000\n",
            " \n",
            "=== DIPOLE MOMENTS ===\n",
            " \n",
            "~ Nuclear dipole moment (a.u.): [-139.21936841  72.34588319  0.0]\n",
            " \n",
            "  0: \n",
            "  * Electronic dipole moment (a.u.): [-135.59497103  70.63160547  0.00026452]\n",
            "    - computed part:      [-7.08474265  3.85091171  0.00026452]\n",
            "    - ActiveSpaceTransformer extracted energy part: [-128.51022838  66.78069376  0.0]\n",
            "  > Dipole moment (a.u.): [-3.62439738  1.71427772  -0.00026452]  Total: 4.00936461\n",
            "                 (debye): [-9.21229839  4.35725894  -0.00067234]  Total: 10.19078738\n",
            " \n",
            "Numpy Energy Result\n",
            "=== GROUND STATE ENERGY ===\n",
            " \n",
            "* Electronic ground state energy (Hartree): -822.926897053139\n",
            "  - computed part:      -0.764746304304\n",
            "  - ActiveSpaceTransformer extracted energy part: -822.162150748835\n",
            "~ Nuclear repulsion energy (Hartree): 106.218168150552\n",
            "> Total ground state energy (Hartree): -716.708728902588\n",
            " \n",
            "=== MEASURED OBSERVABLES ===\n",
            " \n",
            "  0:  # Particles: 2.000 S: 1.000 S^2: 2.000 M: -0.500\n",
            " \n",
            "=== DIPOLE MOMENTS ===\n",
            " \n",
            "~ Nuclear dipole moment (a.u.): [-139.21936841  72.34588319  0.0]\n",
            " \n",
            "  0: \n",
            "  * Electronic dipole moment (a.u.): [-135.53589431  70.77412326  0.0]\n",
            "    - computed part:      [-7.02566593  3.9934295  0.0]\n",
            "    - ActiveSpaceTransformer extracted energy part: [-128.51022838  66.78069376  0.0]\n",
            "  > Dipole moment (a.u.): [-3.6834741  1.57175993  0.0]  Total: 4.00479846\n",
            "                 (debye): [-9.36245641  3.99501488  0.0]  Total: 10.1791814\n",
            " \n",
            "Al 321g MethodType.RKS <qiskit.algorithms.optimizers.slsqp.SLSQP object at 0x7e9e54265d80> <qiskit_nature.mappers.second_quantization.jordan_wigner_mapper.JordanWignerMapper object at 0x7e9e54265cf0> lda statevector_simulator 1\n"
          ]
        },
        {
          "output_type": "stream",
          "name": "stderr",
          "text": [
            "<ipython-input-20-eb8e343ad184>:17: DeprecationWarning: The class ``qiskit.algorithms.minimum_eigen_solvers.numpy_minimum_eigen_solver.NumPyMinimumEigensolver`` is deprecated as of qiskit-terra 0.24.0. It will be removed no earlier than 3 months after the release date. Instead, use the class ``qiskit.algorithms.minimum_eigensolvers.NumPyMinimumEigensolver``. See https://qisk.it/algo_migration for a migration guide.\n",
            "  numpy_solver = NumPyMinimumEigensolver()\n"
          ]
        },
        {
          "output_type": "stream",
          "name": "stdout",
          "text": [
            "device statevector_simulator\n",
            "seed 42\n"
          ]
        },
        {
          "output_type": "stream",
          "name": "stderr",
          "text": [
            "<ipython-input-20-eb8e343ad184>:62: DeprecationWarning: The class ``qiskit.utils.quantum_instance.QuantumInstance`` is deprecated as of qiskit-terra 0.24.0. It will be removed no earlier than 3 months after the release date. For code migration guidelines, visit https://qisk.it/qi_migration.\n",
            "  qi = QuantumInstance(device, seed_transpiler=seed, seed_simulator=seed)\n",
            "<ipython-input-20-eb8e343ad184>:65: DeprecationWarning: The class ``qiskit.algorithms.minimum_eigen_solvers.vqe.VQE`` is deprecated as of qiskit-terra 0.24.0. It will be removed no earlier than 3 months after the release date. Instead, use the class ``qiskit.algorithms.minimum_eigensolvers.VQE``. See https://qisk.it/algo_migration for a migration guide.\n",
            "  vqe = VQE(ansatz, optimizer=optimizer, quantum_instance=qi,callback=store_intermediate_result)\n"
          ]
        },
        {
          "output_type": "stream",
          "name": "stdout",
          "text": [
            "(8.5066017987e-08+0j)\n",
            "VQE Energy Result\n",
            "=== GROUND STATE ENERGY ===\n",
            " \n",
            "* Electronic ground state energy (Hartree): -827.912667452301\n",
            "  - computed part:      -1.378193852683\n",
            "  - ActiveSpaceTransformer extracted energy part: -826.534473599618\n",
            "~ Nuclear repulsion energy (Hartree): 106.218168150552\n",
            "> Total ground state energy (Hartree): -721.694499301749\n",
            " \n",
            "=== MEASURED OBSERVABLES ===\n",
            " \n",
            "  0:  # Particles: 4.000 S: 0.527 S^2: 0.804 M: 0.000\n",
            " \n",
            "=== DIPOLE MOMENTS ===\n",
            " \n",
            "~ Nuclear dipole moment (a.u.): [-139.21936841  72.34588319  0.0]\n",
            " \n",
            "  0: \n",
            "  * Electronic dipole moment (a.u.): [-142.79700764  74.13870632  -0.00020332]\n",
            "    - computed part:      [-14.28712671  7.3576766  -0.00020332]\n",
            "    - ActiveSpaceTransformer extracted energy part: [-128.50988093  66.78102972  0.0]\n",
            "  > Dipole moment (a.u.): [3.57763923  -1.79282313  0.00020332]  Total: 4.00171429\n",
            "                 (debye): [9.09345103  -4.55690143  0.0005168]  Total: 10.17134222\n",
            " \n",
            "Numpy Energy Result\n",
            "=== GROUND STATE ENERGY ===\n",
            " \n",
            "* Electronic ground state energy (Hartree): -827.913682021381\n",
            "  - computed part:      -1.379208421763\n",
            "  - ActiveSpaceTransformer extracted energy part: -826.534473599618\n",
            "~ Nuclear repulsion energy (Hartree): 106.218168150552\n",
            "> Total ground state energy (Hartree): -721.69551387083\n",
            " \n",
            "=== MEASURED OBSERVABLES ===\n",
            " \n",
            "  0:  # Particles: 4.000 S: 0.000 S^2: 0.000 M: 0.000\n",
            " \n",
            "=== DIPOLE MOMENTS ===\n",
            " \n",
            "~ Nuclear dipole moment (a.u.): [-139.21936841  72.34588319  0.0]\n",
            " \n",
            "  0: \n",
            "  * Electronic dipole moment (a.u.): [-142.7689468  74.17757105  0.0]\n",
            "    - computed part:      [-14.25906587  7.39654133  0.0]\n",
            "    - ActiveSpaceTransformer extracted energy part: [-128.50988093  66.78102972  0.0]\n",
            "  > Dipole moment (a.u.): [3.54957839  -1.83168786  0.0]  Total: 3.99431936\n",
            "                 (debye): [9.02212749  -4.65568571  0.0]  Total: 10.15254618\n",
            " \n",
            "Al sto6g MethodType.RKS <qiskit.algorithms.optimizers.slsqp.SLSQP object at 0x7e9e54265d80> <qiskit_nature.mappers.second_quantization.jordan_wigner_mapper.JordanWignerMapper object at 0x7e9e54265cf0> lda statevector_simulator 1\n"
          ]
        },
        {
          "output_type": "stream",
          "name": "stderr",
          "text": [
            "<ipython-input-20-eb8e343ad184>:17: DeprecationWarning: The class ``qiskit.algorithms.minimum_eigen_solvers.numpy_minimum_eigen_solver.NumPyMinimumEigensolver`` is deprecated as of qiskit-terra 0.24.0. It will be removed no earlier than 3 months after the release date. Instead, use the class ``qiskit.algorithms.minimum_eigensolvers.NumPyMinimumEigensolver``. See https://qisk.it/algo_migration for a migration guide.\n",
            "  numpy_solver = NumPyMinimumEigensolver()\n"
          ]
        },
        {
          "output_type": "stream",
          "name": "stdout",
          "text": [
            "device statevector_simulator\n",
            "seed 42\n"
          ]
        },
        {
          "output_type": "stream",
          "name": "stderr",
          "text": [
            "<ipython-input-20-eb8e343ad184>:62: DeprecationWarning: The class ``qiskit.utils.quantum_instance.QuantumInstance`` is deprecated as of qiskit-terra 0.24.0. It will be removed no earlier than 3 months after the release date. For code migration guidelines, visit https://qisk.it/qi_migration.\n",
            "  qi = QuantumInstance(device, seed_transpiler=seed, seed_simulator=seed)\n",
            "<ipython-input-20-eb8e343ad184>:65: DeprecationWarning: The class ``qiskit.algorithms.minimum_eigen_solvers.vqe.VQE`` is deprecated as of qiskit-terra 0.24.0. It will be removed no earlier than 3 months after the release date. Instead, use the class ``qiskit.algorithms.minimum_eigensolvers.VQE``. See https://qisk.it/algo_migration for a migration guide.\n",
            "  vqe = VQE(ansatz, optimizer=optimizer, quantum_instance=qi,callback=store_intermediate_result)\n"
          ]
        },
        {
          "output_type": "stream",
          "name": "stdout",
          "text": [
            "(8.5066017987e-08+0j)\n",
            "VQE Energy Result\n",
            "=== GROUND STATE ENERGY ===\n",
            " \n",
            "* Electronic ground state energy (Hartree): -828.758905639361\n",
            "  - computed part:      -0.727676985676\n",
            "  - ActiveSpaceTransformer extracted energy part: -828.031228653686\n",
            "~ Nuclear repulsion energy (Hartree): 106.218168150552\n",
            "> Total ground state energy (Hartree): -722.54073748881\n",
            " \n",
            "=== MEASURED OBSERVABLES ===\n",
            " \n",
            "  0:  # Particles: 2.000 S: 0.618 S^2: 1.000 M: 0.000\n",
            " \n",
            "=== DIPOLE MOMENTS ===\n",
            " \n",
            "~ Nuclear dipole moment (a.u.): [-139.21936841  72.34588319  0.0]\n",
            " \n",
            "  0: \n",
            "  * Electronic dipole moment (a.u.): [-135.60019151  70.62072637  0.00017351]\n",
            "    - computed part:      [-7.08994735  3.84002057  0.00017351]\n",
            "    - ActiveSpaceTransformer extracted energy part: [-128.51024416  66.7807058  0.0]\n",
            "  > Dipole moment (a.u.): [-3.6191769  1.72515682  -0.00017351]  Total: 4.00931509\n",
            "                 (debye): [-9.19902924  4.38491085  -0.00044101]  Total: 10.19066153\n",
            " \n",
            "Numpy Energy Result\n",
            "=== GROUND STATE ENERGY ===\n",
            " \n",
            "* Electronic ground state energy (Hartree): -828.793074556763\n",
            "  - computed part:      -0.761845903077\n",
            "  - ActiveSpaceTransformer extracted energy part: -828.031228653685\n",
            "~ Nuclear repulsion energy (Hartree): 106.218168150552\n",
            "> Total ground state energy (Hartree): -722.574906406211\n",
            " \n",
            "=== MEASURED OBSERVABLES ===\n",
            " \n",
            "  0:  # Particles: 2.000 S: 1.000 S^2: 2.000 M: -0.074\n",
            " \n",
            "=== DIPOLE MOMENTS ===\n",
            " \n",
            "~ Nuclear dipole moment (a.u.): [-139.21936841  72.34588319  0.0]\n",
            " \n",
            "  0: \n",
            "  * Electronic dipole moment (a.u.): [-135.54775199  70.75191569  0.0]\n",
            "    - computed part:      [-7.03750783  3.97120989  0.0]\n",
            "    - ActiveSpaceTransformer extracted energy part: [-128.51024416  66.7807058  0.0]\n",
            "  > Dipole moment (a.u.): [-3.67161642  1.5939675  0.0]  Total: 4.00268654\n",
            "                 (debye): [-9.33231719  4.05146088  0.0]  Total: 10.17381342\n",
            " \n",
            "Al 631g MethodType.RKS <qiskit.algorithms.optimizers.slsqp.SLSQP object at 0x7e9e54265d80> <qiskit_nature.mappers.second_quantization.jordan_wigner_mapper.JordanWignerMapper object at 0x7e9e54265cf0> lda statevector_simulator 1\n"
          ]
        },
        {
          "output_type": "stream",
          "name": "stderr",
          "text": [
            "<ipython-input-20-eb8e343ad184>:17: DeprecationWarning: The class ``qiskit.algorithms.minimum_eigen_solvers.numpy_minimum_eigen_solver.NumPyMinimumEigensolver`` is deprecated as of qiskit-terra 0.24.0. It will be removed no earlier than 3 months after the release date. Instead, use the class ``qiskit.algorithms.minimum_eigensolvers.NumPyMinimumEigensolver``. See https://qisk.it/algo_migration for a migration guide.\n",
            "  numpy_solver = NumPyMinimumEigensolver()\n"
          ]
        },
        {
          "output_type": "stream",
          "name": "stdout",
          "text": [
            "device statevector_simulator\n",
            "seed 42\n"
          ]
        },
        {
          "output_type": "stream",
          "name": "stderr",
          "text": [
            "<ipython-input-20-eb8e343ad184>:62: DeprecationWarning: The class ``qiskit.utils.quantum_instance.QuantumInstance`` is deprecated as of qiskit-terra 0.24.0. It will be removed no earlier than 3 months after the release date. For code migration guidelines, visit https://qisk.it/qi_migration.\n",
            "  qi = QuantumInstance(device, seed_transpiler=seed, seed_simulator=seed)\n",
            "<ipython-input-20-eb8e343ad184>:65: DeprecationWarning: The class ``qiskit.algorithms.minimum_eigen_solvers.vqe.VQE`` is deprecated as of qiskit-terra 0.24.0. It will be removed no earlier than 3 months after the release date. Instead, use the class ``qiskit.algorithms.minimum_eigensolvers.VQE``. See https://qisk.it/algo_migration for a migration guide.\n",
            "  vqe = VQE(ansatz, optimizer=optimizer, quantum_instance=qi,callback=store_intermediate_result)\n"
          ]
        },
        {
          "output_type": "stream",
          "name": "stdout",
          "text": [
            "(8.5066017987e-08+0j)\n",
            "VQE Energy Result\n",
            "=== GROUND STATE ENERGY ===\n",
            " \n",
            "* Electronic ground state energy (Hartree): -831.820030900192\n",
            "  - computed part:      -1.371347508591\n",
            "  - ActiveSpaceTransformer extracted energy part: -830.448683391601\n",
            "~ Nuclear repulsion energy (Hartree): 106.218168150552\n",
            "> Total ground state energy (Hartree): -725.601862749641\n",
            " \n",
            "=== MEASURED OBSERVABLES ===\n",
            " \n",
            "  0:  # Particles: 4.000 S: 0.511 S^2: 0.771 M: 0.000\n",
            " \n",
            "=== DIPOLE MOMENTS ===\n",
            " \n",
            "~ Nuclear dipole moment (a.u.): [-139.21936841  72.34588319  0.0]\n",
            " \n",
            "  0: \n",
            "  * Electronic dipole moment (a.u.): [-142.79172161  74.14969944  -0.00024758]\n",
            "    - computed part:      [-14.2815415  7.36855475  -0.00024758]\n",
            "    - ActiveSpaceTransformer extracted energy part: [-128.5101801  66.78114469  0.0]\n",
            "  > Dipole moment (a.u.): [3.5723532  -1.80381625  0.00024758]  Total: 4.0019321\n",
            "                 (debye): [9.08001527  -4.58484316  0.00062929]  Total: 10.17189582\n",
            " \n",
            "Numpy Energy Result\n",
            "=== GROUND STATE ENERGY ===\n",
            " \n",
            "* Electronic ground state energy (Hartree): -831.821509811014\n",
            "  - computed part:      -1.372826419414\n",
            "  - ActiveSpaceTransformer extracted energy part: -830.448683391601\n",
            "~ Nuclear repulsion energy (Hartree): 106.218168150552\n",
            "> Total ground state energy (Hartree): -725.603341660463\n",
            " \n",
            "=== MEASURED OBSERVABLES ===\n",
            " \n",
            "  0:  # Particles: 4.000 S: 0.000 S^2: 0.000 M: 0.000\n",
            " \n",
            "=== DIPOLE MOMENTS ===\n",
            " \n",
            "~ Nuclear dipole moment (a.u.): [-139.21936841  72.34588319  0.0]\n",
            " \n",
            "  0: \n",
            "  * Electronic dipole moment (a.u.): [-142.76671451  74.18271849  0.0]\n",
            "    - computed part:      [-14.25653441  7.4015738  0.0]\n",
            "    - ActiveSpaceTransformer extracted energy part: [-128.5101801  66.78114469  0.0]\n",
            "  > Dipole moment (a.u.): [3.5473461  -1.8368353  0.0]  Total: 3.99470003\n",
            "                 (debye): [9.01645359  -4.66876921  0.0]  Total: 10.15351374\n",
            " \n",
            "Al lanl2dz MethodType.RKS <qiskit.algorithms.optimizers.slsqp.SLSQP object at 0x7e9e54265d80> <qiskit_nature.mappers.second_quantization.jordan_wigner_mapper.JordanWignerMapper object at 0x7e9e54265cf0> lda statevector_simulator 1\n"
          ]
        },
        {
          "output_type": "stream",
          "name": "stderr",
          "text": [
            "<ipython-input-20-eb8e343ad184>:17: DeprecationWarning: The class ``qiskit.algorithms.minimum_eigen_solvers.numpy_minimum_eigen_solver.NumPyMinimumEigensolver`` is deprecated as of qiskit-terra 0.24.0. It will be removed no earlier than 3 months after the release date. Instead, use the class ``qiskit.algorithms.minimum_eigensolvers.NumPyMinimumEigensolver``. See https://qisk.it/algo_migration for a migration guide.\n",
            "  numpy_solver = NumPyMinimumEigensolver()\n"
          ]
        },
        {
          "output_type": "stream",
          "name": "stdout",
          "text": [
            "device statevector_simulator\n",
            "seed 42\n"
          ]
        },
        {
          "output_type": "stream",
          "name": "stderr",
          "text": [
            "<ipython-input-20-eb8e343ad184>:62: DeprecationWarning: The class ``qiskit.utils.quantum_instance.QuantumInstance`` is deprecated as of qiskit-terra 0.24.0. It will be removed no earlier than 3 months after the release date. For code migration guidelines, visit https://qisk.it/qi_migration.\n",
            "  qi = QuantumInstance(device, seed_transpiler=seed, seed_simulator=seed)\n",
            "<ipython-input-20-eb8e343ad184>:65: DeprecationWarning: The class ``qiskit.algorithms.minimum_eigen_solvers.vqe.VQE`` is deprecated as of qiskit-terra 0.24.0. It will be removed no earlier than 3 months after the release date. Instead, use the class ``qiskit.algorithms.minimum_eigensolvers.VQE``. See https://qisk.it/algo_migration for a migration guide.\n",
            "  vqe = VQE(ansatz, optimizer=optimizer, quantum_instance=qi,callback=store_intermediate_result)\n"
          ]
        },
        {
          "output_type": "stream",
          "name": "stdout",
          "text": [
            "(8.5066017987e-08+0j)\n",
            "VQE Energy Result\n",
            "=== GROUND STATE ENERGY ===\n",
            " \n",
            "* Electronic ground state energy (Hartree): -247.940096511668\n",
            "  - computed part:      -1.240411107561\n",
            "  - ActiveSpaceTransformer extracted energy part: -246.699685404106\n",
            "~ Nuclear repulsion energy (Hartree): 106.218168150552\n",
            "> Total ground state energy (Hartree): -141.721928361116\n",
            " \n",
            "=== MEASURED OBSERVABLES ===\n",
            " \n",
            "  0:  # Particles: 4.000 S: 0.368 S^2: 0.503 M: -0.000\n",
            " \n",
            "=== DIPOLE MOMENTS ===\n",
            " \n",
            "~ Nuclear dipole moment (a.u.): [-139.21936841  72.34588319  0.0]\n",
            " \n",
            "  0: \n",
            "  * Electronic dipole moment (a.u.): [-137.44162274  77.68988472  -0.02868189]\n",
            "    - computed part:      [-9.46321527  10.82141682  -0.02617615]\n",
            "    - ActiveSpaceTransformer extracted energy part: [-127.97840747  66.8684679  -0.00250575]\n",
            "  > Dipole moment (a.u.): [-1.77774567  -5.34400153  0.02868189]  Total: 5.6320116\n",
            "                 (debye): [-4.51857836  -13.58309575  0.0729021]  Total: 14.31514426\n",
            " \n",
            "Numpy Energy Result\n",
            "=== GROUND STATE ENERGY ===\n",
            " \n",
            "* Electronic ground state energy (Hartree): -247.962909081921\n",
            "  - computed part:      -1.262905373005\n",
            "  - ActiveSpaceTransformer extracted energy part: -246.700003708916\n",
            "~ Nuclear repulsion energy (Hartree): 106.218168150552\n",
            "> Total ground state energy (Hartree): -141.744740931369\n",
            " \n",
            "=== MEASURED OBSERVABLES ===\n",
            " \n",
            "  0:  # Particles: 4.000 S: 0.000 S^2: 0.000 M: 0.000\n",
            " \n",
            "=== DIPOLE MOMENTS ===\n",
            " \n",
            "~ Nuclear dipole moment (a.u.): [-139.21936841  72.34588319  0.0]\n",
            " \n",
            "  0: \n",
            "  * Electronic dipole moment (a.u.): [-137.60555862  77.45525467  0.00021707]\n",
            "    - computed part:      [-9.48784409  10.47891464  0.00161006]\n",
            "    - ActiveSpaceTransformer extracted energy part: [-128.11771452  66.97634003  -0.00139299]\n",
            "  > Dipole moment (a.u.): [-1.61380979  -5.10937148  -0.00021707]  Total: 5.35817684\n",
            "                 (debye): [-4.10189496  -12.98672571  -0.00055174]  Total: 13.61912579\n",
            " \n"
          ]
        }
      ]
    },
    {
      "cell_type": "code",
      "execution_count": 21,
      "metadata": {
        "colab": {
          "base_uri": "https://localhost:8080/"
        },
        "id": "w88gn6JlBrmq",
        "outputId": "3ef4f197-805e-49d4-f3a1-fd2a1d4f8703"
      },
      "outputs": [
        {
          "output_type": "stream",
          "name": "stdout",
          "text": [
            "Job took 371.80 seconds to run.\n"
          ]
        }
      ],
      "source": [
        "# Record the end time\n",
        "end_time = time.time()\n",
        "\n",
        "# Calculate the duration\n",
        "duration = end_time - start_time\n",
        "\n",
        "# Print the duration\n",
        "print(\"Job took {:.2f} seconds to run.\".format(duration))"
      ]
    }
  ],
  "metadata": {
    "colab": {
      "provenance": [],
      "include_colab_link": true
    },
    "kernelspec": {
      "display_name": "Python 3",
      "name": "python3"
    },
    "language_info": {
      "name": "python"
    }
  },
  "nbformat": 4,
  "nbformat_minor": 0
}