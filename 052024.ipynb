{
  "nbformat": 4,
  "nbformat_minor": 0,
  "metadata": {
    "colab": {
      "provenance": [],
      "authorship_tag": "ABX9TyPHFYd6Hpwy0vWJRNECTLB8",
      "include_colab_link": true
    },
    "kernelspec": {
      "name": "python3",
      "display_name": "Python 3"
    },
    "language_info": {
      "name": "python"
    }
  },
  "cells": [
    {
      "cell_type": "markdown",
      "metadata": {
        "id": "view-in-github",
        "colab_type": "text"
      },
      "source": [
        "<a href=\"https://colab.research.google.com/github/niapollard/Benchmarking_QC/blob/main/052024.ipynb\" target=\"_parent\"><img src=\"https://colab.research.google.com/assets/colab-badge.svg\" alt=\"Open In Colab\"/></a>"
      ]
    },
    {
      "cell_type": "code",
      "execution_count": null,
      "metadata": {
        "colab": {
          "base_uri": "https://localhost:8080/"
        },
        "id": "ZKHh_v5qSXYW",
        "outputId": "d4584ee8-27bc-40e5-82d3-db9422607aaa"
      },
      "outputs": [
        {
          "output_type": "stream",
          "name": "stdout",
          "text": [
            "\u001b[?25l     \u001b[90m━━━━━━━━━━━━━━━━━━━━━━━━━━━━━━━━━━━━━━━━\u001b[0m \u001b[32m0.0/4.2 MB\u001b[0m \u001b[31m?\u001b[0m eta \u001b[36m-:--:--\u001b[0m\r\u001b[2K     \u001b[90m━━━━━━━━━━━━━━━━━━━━━━━━━━━━━━━━━━━━━━━━\u001b[0m \u001b[32m0.1/4.2 MB\u001b[0m \u001b[31m1.4 MB/s\u001b[0m eta \u001b[36m0:00:04\u001b[0m\r\u001b[2K     \u001b[91m━━━\u001b[0m\u001b[90m╺\u001b[0m\u001b[90m━━━━━━━━━━━━━━━━━━━━━━━━━━━━━━━━━━━━\u001b[0m \u001b[32m0.3/4.2 MB\u001b[0m \u001b[31m4.9 MB/s\u001b[0m eta \u001b[36m0:00:01\u001b[0m\r\u001b[2K     \u001b[91m━━━━━━━━━━━━━━━━━━━━━━━━━━━━━\u001b[0m\u001b[91m╸\u001b[0m\u001b[90m━━━━━━━━━━\u001b[0m \u001b[32m3.1/4.2 MB\u001b[0m \u001b[31m29.7 MB/s\u001b[0m eta \u001b[36m0:00:01\u001b[0m\r\u001b[2K     \u001b[91m━━━━━━━━━━━━━━━━━━━━━━━━━━━━━━━━━━━━━━━\u001b[0m\u001b[91m╸\u001b[0m \u001b[32m4.2/4.2 MB\u001b[0m \u001b[31m35.9 MB/s\u001b[0m eta \u001b[36m0:00:01\u001b[0m\r\u001b[2K     \u001b[90m━━━━━━━━━━━━━━━━━━━━━━━━━━━━━━━━━━━━━━━━\u001b[0m \u001b[32m4.2/4.2 MB\u001b[0m \u001b[31m25.4 MB/s\u001b[0m eta \u001b[36m0:00:00\u001b[0m\n",
            "\u001b[?25h  Installing build dependencies ... \u001b[?25l\u001b[?25hdone\n",
            "  Getting requirements to build wheel ... \u001b[?25l\u001b[?25hdone\n",
            "  Installing backend dependencies ... \u001b[?25l\u001b[?25hdone\n",
            "  Preparing metadata (pyproject.toml) ... \u001b[?25l\u001b[?25hdone\n",
            "\u001b[2K     \u001b[90m━━━━━━━━━━━━━━━━━━━━━━━━━━━━━━━━━━━━━━━━\u001b[0m \u001b[32m5.9/5.9 MB\u001b[0m \u001b[31m78.5 MB/s\u001b[0m eta \u001b[36m0:00:00\u001b[0m\n",
            "\u001b[2K     \u001b[90m━━━━━━━━━━━━━━━━━━━━━━━━━━━━━━━━━━━━━━━━\u001b[0m \u001b[32m12.8/12.8 MB\u001b[0m \u001b[31m82.3 MB/s\u001b[0m eta \u001b[36m0:00:00\u001b[0m\n",
            "\u001b[2K     \u001b[90m━━━━━━━━━━━━━━━━━━━━━━━━━━━━━━━━━━━━━━━━\u001b[0m \u001b[32m241.5/241.5 kB\u001b[0m \u001b[31m28.1 MB/s\u001b[0m eta \u001b[36m0:00:00\u001b[0m\n",
            "\u001b[2K     \u001b[90m━━━━━━━━━━━━━━━━━━━━━━━━━━━━━━━━━━━━━━━━\u001b[0m \u001b[32m17.1/17.1 MB\u001b[0m \u001b[31m69.3 MB/s\u001b[0m eta \u001b[36m0:00:00\u001b[0m\n",
            "\u001b[2K     \u001b[90m━━━━━━━━━━━━━━━━━━━━━━━━━━━━━━━━━━━━━━━━\u001b[0m \u001b[32m130.2/130.2 kB\u001b[0m \u001b[31m17.9 MB/s\u001b[0m eta \u001b[36m0:00:00\u001b[0m\n",
            "\u001b[2K     \u001b[90m━━━━━━━━━━━━━━━━━━━━━━━━━━━━━━━━━━━━━━━━\u001b[0m \u001b[32m2.1/2.1 MB\u001b[0m \u001b[31m79.3 MB/s\u001b[0m eta \u001b[36m0:00:00\u001b[0m\n",
            "\u001b[2K     \u001b[90m━━━━━━━━━━━━━━━━━━━━━━━━━━━━━━━━━━━━━━━━\u001b[0m \u001b[32m49.6/49.6 kB\u001b[0m \u001b[31m7.2 MB/s\u001b[0m eta \u001b[36m0:00:00\u001b[0m\n",
            "\u001b[2K     \u001b[90m━━━━━━━━━━━━━━━━━━━━━━━━━━━━━━━━━━━━━━━━\u001b[0m \u001b[32m116.3/116.3 kB\u001b[0m \u001b[31m15.4 MB/s\u001b[0m eta \u001b[36m0:00:00\u001b[0m\n",
            "\u001b[2K     \u001b[90m━━━━━━━━━━━━━━━━━━━━━━━━━━━━━━━━━━━━━━━━\u001b[0m \u001b[32m49.7/49.7 kB\u001b[0m \u001b[31m6.8 MB/s\u001b[0m eta \u001b[36m0:00:00\u001b[0m\n",
            "\u001b[2K     \u001b[90m━━━━━━━━━━━━━━━━━━━━━━━━━━━━━━━━━━━━━━━━\u001b[0m \u001b[32m37.5/37.5 MB\u001b[0m \u001b[31m13.2 MB/s\u001b[0m eta \u001b[36m0:00:00\u001b[0m\n",
            "\u001b[2K     \u001b[90m━━━━━━━━━━━━━━━━━━━━━━━━━━━━━━━━━━━━━━━━\u001b[0m \u001b[32m809.2/809.2 kB\u001b[0m \u001b[31m60.4 MB/s\u001b[0m eta \u001b[36m0:00:00\u001b[0m\n",
            "\u001b[2K     \u001b[90m━━━━━━━━━━━━━━━━━━━━━━━━━━━━━━━━━━━━━━━━\u001b[0m \u001b[32m107.5/107.5 kB\u001b[0m \u001b[31m12.3 MB/s\u001b[0m eta \u001b[36m0:00:00\u001b[0m\n",
            "\u001b[?25h  Building wheel for qiskit (pyproject.toml) ... \u001b[?25l\u001b[?25hdone\n"
          ]
        }
      ],
      "source": [
        "!pip install -q jarvis-tools qiskit==0.43.1"
      ]
    },
    {
      "cell_type": "code",
      "source": [
        "!pip install qiskit_nature==0.6.2"
      ],
      "metadata": {
        "id": "BT1xYSjkSxg-"
      },
      "execution_count": null,
      "outputs": []
    },
    {
      "cell_type": "code",
      "source": [
        "!pip install pyscf"
      ],
      "metadata": {
        "id": "vg34JYqNS79K"
      },
      "execution_count": null,
      "outputs": []
    },
    {
      "cell_type": "code",
      "source": [
        "!pip install qiskit-aer==0.12.0"
      ],
      "metadata": {
        "id": "tWaYYfh5S8JA"
      },
      "execution_count": null,
      "outputs": []
    },
    {
      "cell_type": "code",
      "source": [
        "import numpy as np\n",
        "\n",
        "# Importing Qiskit and Jarvis libraries\n",
        "from qiskit import QuantumCircuit, transpile, Aer, IBMQ\n",
        "from qiskit.tools.jupyter import *\n",
        "from qiskit.visualization import *\n",
        "from qiskit import Aer\n",
        "from qiskit_nature.drivers import UnitsType, Molecule\n",
        "from qiskit_nature.drivers.second_quantization import (\n",
        "    ElectronicStructureDriverType,\n",
        "    ElectronicStructureMoleculeDriver,\n",
        ")\n",
        "from qiskit_nature.problems.second_quantization import ElectronicStructureProblem\n",
        "from qiskit_nature.converters.second_quantization import QubitConverter\n",
        "from qiskit_nature.mappers.second_quantization import JordanWignerMapper\n",
        "from qiskit_nature.drivers.second_quantization import PySCFDriver\n",
        "from qiskit_nature.drivers.second_quantization import MethodType\n",
        "from qiskit.algorithms import NumPyMinimumEigensolver\n",
        "from qiskit_nature.transformers.second_quantization.electronic.active_space_transformer import ActiveSpaceTransformer\n",
        "from qiskit_nature.converters.second_quantization import QubitConverter\n",
        "from qiskit_nature.mappers.second_quantization import JordanWignerMapper, ParityMapper\n",
        "from qiskit.utils import QuantumInstance, algorithm_globals\n",
        "from qiskit.algorithms import VQE\n",
        "from qiskit.algorithms.optimizers import SLSQP\n",
        "import itertools, functools\n",
        "from qiskit.opflow import I, X, Y, Z\n",
        "from jarvis.db.figshare import get_wann_electron, get_wann_phonon, get_hk_tb\n",
        "from jarvis.core.circuits import QuantumCircuitLibrary"
      ],
      "metadata": {
        "id": "ZJi3yMtVTDCI"
      },
      "execution_count": null,
      "outputs": []
    },
    {
      "cell_type": "code",
      "source": [
        "molecule = Molecule(\n",
        "    geometry=[['Al',[0.00000000, 0.00000000, 0.00000000]]],\n",
        "    charge=-1,\n",
        "    multiplicity=1)"
      ],
      "metadata": {
        "id": "I7tFEmb0TGZD"
      },
      "execution_count": 6,
      "outputs": []
    },
    {
      "cell_type": "code",
      "source": [
        "def get_qubit_op(\n",
        "    molecule,\n",
        "    basis='sto3g',\n",
        "    functional='lda',\n",
        "    method= MethodType.RKS,\n",
        "    driver_type= ElectronicStructureDriverType.PYSCF,\n",
        "    converter= JordanWignerMapper()):\n",
        "\n",
        "  driver=ElectronicStructureMoleculeDriver(molecule, basis, method,driver_type)\n",
        "  properties = driver.run()\n",
        "  problem = ElectronicStructureProblem(driver)\n",
        "\n",
        "  second_q_ops = problem.second_q_ops()\n",
        "  second_q_ops = list(second_q_ops.values()) #list of second quantized operators\n",
        "  hamiltonian=second_q_ops[0]\n",
        "\n",
        "  numpy_solver = NumPyMinimumEigensolver()\n",
        "  tmp = properties.get_property('ParticleNumber')\n",
        "  alpha_occ=tmp.occupation_alpha\n",
        "  beta_occ=tmp.occupation_beta\n",
        "\n",
        "  mo_considered=3\n",
        "  #active and inactive space has to be even, non-magnetic\n",
        "\n",
        "  first_index = min(np.where(alpha_occ<1)[0][0],np.where(beta_occ<1)[0][0])\n",
        "\n",
        "  orb_act = np.arange(first_index-mo_considered,first_index)+1\n",
        "\n",
        "  transformer= ActiveSpaceTransformer(num_electrons=mo_considered+1, num_molecular_orbitals=len(orb_act), active_orbitals=orb_act)\n",
        "  problem_reduced = ElectronicStructureProblem(driver, [transformer])\n",
        "  second_q_ops_reduced = problem_reduced.second_q_ops()\n",
        "\n",
        "  second_q_ops_reduced = list(second_q_ops_reduced.values())\n",
        "  hamiltonian_reduced = second_q_ops_reduced[0]\n",
        "  mapper = JordanWignerMapper()\n",
        "  converter = QubitConverter(mapper=mapper)\n",
        "  qubit_op = converter.convert(hamiltonian_reduced)\n",
        "  res={}\n",
        "  res['qubit_op']=qubit_op\n",
        "  res['converter']=converter\n",
        "  res['problem_reduced']=problem_reduced\n",
        "  return res #qubit_op, converter, problem_reduced\n",
        "\n",
        "def get_energy(optimizer='',device='',qubit_op='',seed=''):\n",
        "  seed = 42\n",
        "  counts = []\n",
        "  values = []\n",
        "\n",
        "\n",
        "  def store_intermediate_result(eval_count, parameters, mean, std):\n",
        "    counts.append(eval_count)\n",
        "    values.append(mean)\n",
        "\n",
        "  algorithm_globals.random_seed = seed\n",
        "  print('device',device)\n",
        "  print('seed',seed)\n",
        "\n",
        "  qi = QuantumInstance(device, seed_transpiler=seed, seed_simulator=seed)\n",
        "  n_qubits = qubit_op.num_qubits\n",
        "  ansatz = QuantumCircuitLibrary(n_qubits=n_qubits, reps=1).circuit6()\n",
        "  vqe = VQE(ansatz, optimizer=optimizer, quantum_instance=qi,callback=store_intermediate_result)\n",
        "  result = vqe.compute_minimum_eigenvalue(operator=qubit_op)\n",
        "\n",
        "\n",
        "  eigenvalue = result.eigenvalue\n",
        "  # return eigenvalue, vqe, qi\n",
        "\n",
        "  res={}\n",
        "  res['eigenvalue']=eigenvalue\n",
        "  res['vqe']=vqe\n",
        "  res['qi']=qi\n",
        "  return res\n",
        "\n",
        "elements=['Al']\n",
        "basis=['sto3g']\n",
        "method=[MethodType.RKS]\n",
        "#driver_type=[]\n",
        "optimizer=[SLSQP(maxiter=1000)]\n",
        "converter=[JordanWignerMapper()]\n",
        "functions=['lda']\n",
        "devices=[Aer.get_backend('statevector_simulator')]\n",
        "mem={}\n",
        "for i in elements:\n",
        "  for j in basis:\n",
        "    for k in method:\n",
        "      #for l in driver_type:\n",
        "        for m in optimizer:\n",
        "          for n in converter:\n",
        "            for o in functions:\n",
        "              for p in devices:\n",
        "                 print(i,j,k,m,n,o,p)\n",
        "\n",
        "                 res1=get_qubit_op(molecule=molecule,basis=j,functional=o,method=k,converter=n)\n",
        "                 converter=res1['converter']\n",
        "                 res=get_energy(optimizer=m,device=p,qubit_op=res1['qubit_op'],seed=42)\n",
        "                 print(res['eigenvalue'])\n",
        "                 mem[i,j,k,m,n,o,p]=res['eigenvalue']\n",
        "print(mem)"
      ],
      "metadata": {
        "colab": {
          "base_uri": "https://localhost:8080/"
        },
        "id": "yO6QUUV2jlPj",
        "outputId": "9f6b3aa1-0569-47b2-8696-bccaac699cfd"
      },
      "execution_count": null,
      "outputs": [
        {
          "output_type": "stream",
          "name": "stdout",
          "text": [
            "Al sto3g MethodType.RKS <qiskit.algorithms.optimizers.slsqp.SLSQP object at 0x7c200a0e83d0> <qiskit_nature.mappers.second_quantization.jordan_wigner_mapper.JordanWignerMapper object at 0x7c200a0ebb50> lda statevector_simulator\n"
          ]
        },
        {
          "output_type": "stream",
          "name": "stderr",
          "text": [
            "<ipython-input-13-c3f3b7a4fc1c>:17: DeprecationWarning: The class ``qiskit.algorithms.minimum_eigen_solvers.numpy_minimum_eigen_solver.NumPyMinimumEigensolver`` is deprecated as of qiskit-terra 0.24.0. It will be removed no earlier than 3 months after the release date. Instead, use the class ``qiskit.algorithms.minimum_eigensolvers.NumPyMinimumEigensolver``. See https://qisk.it/algo_migration for a migration guide.\n",
            "  numpy_solver = NumPyMinimumEigensolver()\n"
          ]
        },
        {
          "output_type": "stream",
          "name": "stdout",
          "text": [
            "device statevector_simulator\n",
            "seed 42\n"
          ]
        },
        {
          "output_type": "stream",
          "name": "stderr",
          "text": [
            "<ipython-input-13-c3f3b7a4fc1c>:58: DeprecationWarning: The class ``qiskit.utils.quantum_instance.QuantumInstance`` is deprecated as of qiskit-terra 0.24.0. It will be removed no earlier than 3 months after the release date. For code migration guidelines, visit https://qisk.it/qi_migration.\n",
            "  qi = QuantumInstance(device, seed_transpiler=seed, seed_simulator=seed)\n",
            "<ipython-input-13-c3f3b7a4fc1c>:61: DeprecationWarning: The class ``qiskit.algorithms.minimum_eigen_solvers.vqe.VQE`` is deprecated as of qiskit-terra 0.24.0. It will be removed no earlier than 3 months after the release date. Instead, use the class ``qiskit.algorithms.minimum_eigensolvers.VQE``. See https://qisk.it/algo_migration for a migration guide.\n",
            "  vqe = VQE(ansatz, optimizer=optimizer, quantum_instance=qi,callback=store_intermediate_result)\n"
          ]
        },
        {
          "output_type": "stream",
          "name": "stdout",
          "text": [
            "(8.5066017987e-08+0j)\n",
            "{('Al', 'sto3g', <MethodType.RKS: 'rks'>, <qiskit.algorithms.optimizers.slsqp.SLSQP object at 0x7c200a0e83d0>, <qiskit_nature.mappers.second_quantization.jordan_wigner_mapper.JordanWignerMapper object at 0x7c200a0ebb50>, 'lda', StatevectorSimulator('statevector_simulator')): (8.5066017987e-08+0j)}\n"
          ]
        }
      ]
    }
  ]
}